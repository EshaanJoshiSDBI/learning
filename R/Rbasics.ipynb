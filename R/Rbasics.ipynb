{
 "cells": [
  {
   "cell_type": "code",
   "execution_count": 112,
   "id": "geological-winning",
   "metadata": {},
   "outputs": [],
   "source": [
    "library(ggplot2)\n",
    "library(dplyr)\n",
    "library(tidyr)\n",
    "library(purrr)\n",
    "library(data.table)\n",
    "library(HistData)"
   ]
  },
  {
   "cell_type": "markdown",
   "id": "simplified-zoning",
   "metadata": {},
   "source": [
    "# Variables"
   ]
  },
  {
   "cell_type": "code",
   "execution_count": 1,
   "id": "covered-hartford",
   "metadata": {},
   "outputs": [
    {
     "data": {
      "text/html": [
       "5"
      ],
      "text/latex": [
       "5"
      ],
      "text/markdown": [
       "5"
      ],
      "text/plain": [
       "[1] 5"
      ]
     },
     "metadata": {},
     "output_type": "display_data"
    }
   ],
   "source": [
    "# number\n",
    "a = 10\n",
    "a <- 5\n",
    "a"
   ]
  },
  {
   "cell_type": "code",
   "execution_count": 8,
   "id": "capital-graham",
   "metadata": {},
   "outputs": [
    {
     "data": {
      "text/html": [
       "'sample sample'"
      ],
      "text/latex": [
       "'sample sample'"
      ],
      "text/markdown": [
       "'sample sample'"
      ],
      "text/plain": [
       "[1] \"sample sample\""
      ]
     },
     "metadata": {},
     "output_type": "display_data"
    }
   ],
   "source": [
    "# strings\n",
    "b = 'sample'\n",
    "c = \"sample\"\n",
    "paste(b,c)"
   ]
  },
  {
   "cell_type": "code",
   "execution_count": 10,
   "id": "committed-governor",
   "metadata": {},
   "outputs": [
    {
     "data": {
      "text/html": [
       "'complex'"
      ],
      "text/latex": [
       "'complex'"
      ],
      "text/markdown": [
       "'complex'"
      ],
      "text/plain": [
       "[1] \"complex\""
      ]
     },
     "metadata": {},
     "output_type": "display_data"
    }
   ],
   "source": [
    "# complex\n",
    "num = 1+2i\n",
    "typeof(num)"
   ]
  },
  {
   "cell_type": "code",
   "execution_count": 11,
   "id": "inside-validity",
   "metadata": {},
   "outputs": [
    {
     "data": {
      "text/html": [
       "'logical'"
      ],
      "text/latex": [
       "'logical'"
      ],
      "text/markdown": [
       "'logical'"
      ],
      "text/plain": [
       "[1] \"logical\""
      ]
     },
     "metadata": {},
     "output_type": "display_data"
    }
   ],
   "source": [
    "bol = FALSE\n",
    "typeof(bol)"
   ]
  },
  {
   "cell_type": "code",
   "execution_count": 13,
   "id": "hydraulic-geometry",
   "metadata": {},
   "outputs": [
    {
     "data": {
      "text/html": [
       "<style>\n",
       ".list-inline {list-style: none; margin:0; padding: 0}\n",
       ".list-inline>li {display: inline-block}\n",
       ".list-inline>li:not(:last-child)::after {content: \"\\00b7\"; padding: 0 .5ex}\n",
       "</style>\n",
       "<ol class=list-inline><li>'a'</li><li>'b'</li><li>'bol'</li><li>'c'</li><li>'emp_sim'</li><li>'ext_levels'</li><li>'num'</li></ol>\n"
      ],
      "text/latex": [
       "\\begin{enumerate*}\n",
       "\\item 'a'\n",
       "\\item 'b'\n",
       "\\item 'bol'\n",
       "\\item 'c'\n",
       "\\item 'emp\\_sim'\n",
       "\\item 'ext\\_levels'\n",
       "\\item 'num'\n",
       "\\end{enumerate*}\n"
      ],
      "text/markdown": [
       "1. 'a'\n",
       "2. 'b'\n",
       "3. 'bol'\n",
       "4. 'c'\n",
       "5. 'emp_sim'\n",
       "6. 'ext_levels'\n",
       "7. 'num'\n",
       "\n",
       "\n"
      ],
      "text/plain": [
       "[1] \"a\"          \"b\"          \"bol\"        \"c\"          \"emp_sim\"   \n",
       "[6] \"ext_levels\" \"num\"       "
      ]
     },
     "metadata": {},
     "output_type": "display_data"
    }
   ],
   "source": [
    "# variables in current session\n",
    "ls()"
   ]
  },
  {
   "cell_type": "code",
   "execution_count": 14,
   "id": "advised-schema",
   "metadata": {},
   "outputs": [
    {
     "data": {
      "text/html": [
       "<style>\n",
       ".list-inline {list-style: none; margin:0; padding: 0}\n",
       ".list-inline>li {display: inline-block}\n",
       ".list-inline>li:not(:last-child)::after {content: \"\\00b7\"; padding: 0 .5ex}\n",
       "</style>\n",
       "<ol class=list-inline><li>'b'</li><li>'bol'</li><li>'c'</li><li>'emp_sim'</li><li>'ext_levels'</li><li>'num'</li></ol>\n"
      ],
      "text/latex": [
       "\\begin{enumerate*}\n",
       "\\item 'b'\n",
       "\\item 'bol'\n",
       "\\item 'c'\n",
       "\\item 'emp\\_sim'\n",
       "\\item 'ext\\_levels'\n",
       "\\item 'num'\n",
       "\\end{enumerate*}\n"
      ],
      "text/markdown": [
       "1. 'b'\n",
       "2. 'bol'\n",
       "3. 'c'\n",
       "4. 'emp_sim'\n",
       "5. 'ext_levels'\n",
       "6. 'num'\n",
       "\n",
       "\n"
      ],
      "text/plain": [
       "[1] \"b\"          \"bol\"        \"c\"          \"emp_sim\"    \"ext_levels\"\n",
       "[6] \"num\"       "
      ]
     },
     "metadata": {},
     "output_type": "display_data"
    }
   ],
   "source": [
    "# delete a variable\n",
    "rm(a)\n",
    "ls()"
   ]
  },
  {
   "cell_type": "markdown",
   "id": "august-breath",
   "metadata": {},
   "source": [
    "# Mathematical Operators"
   ]
  },
  {
   "cell_type": "code",
   "execution_count": 15,
   "id": "freelance-logging",
   "metadata": {},
   "outputs": [],
   "source": [
    "x = 10\n",
    "y = 5"
   ]
  },
  {
   "cell_type": "code",
   "execution_count": 16,
   "id": "atmospheric-warrior",
   "metadata": {},
   "outputs": [
    {
     "data": {
      "text/html": [
       "15"
      ],
      "text/latex": [
       "15"
      ],
      "text/markdown": [
       "15"
      ],
      "text/plain": [
       "[1] 15"
      ]
     },
     "metadata": {},
     "output_type": "display_data"
    }
   ],
   "source": [
    "x+y"
   ]
  },
  {
   "cell_type": "code",
   "execution_count": 17,
   "id": "integral-douglas",
   "metadata": {},
   "outputs": [
    {
     "data": {
      "text/html": [
       "5"
      ],
      "text/latex": [
       "5"
      ],
      "text/markdown": [
       "5"
      ],
      "text/plain": [
       "[1] 5"
      ]
     },
     "metadata": {},
     "output_type": "display_data"
    }
   ],
   "source": [
    "x-y"
   ]
  },
  {
   "cell_type": "code",
   "execution_count": 18,
   "id": "funny-license",
   "metadata": {},
   "outputs": [
    {
     "data": {
      "text/html": [
       "50"
      ],
      "text/latex": [
       "50"
      ],
      "text/markdown": [
       "50"
      ],
      "text/plain": [
       "[1] 50"
      ]
     },
     "metadata": {},
     "output_type": "display_data"
    }
   ],
   "source": [
    "x*y"
   ]
  },
  {
   "cell_type": "code",
   "execution_count": 19,
   "id": "documentary-homeless",
   "metadata": {},
   "outputs": [
    {
     "data": {
      "text/html": [
       "2"
      ],
      "text/latex": [
       "2"
      ],
      "text/markdown": [
       "2"
      ],
      "text/plain": [
       "[1] 2"
      ]
     },
     "metadata": {},
     "output_type": "display_data"
    }
   ],
   "source": [
    "x/y"
   ]
  },
  {
   "cell_type": "code",
   "execution_count": 20,
   "id": "useful-musician",
   "metadata": {},
   "outputs": [
    {
     "data": {
      "text/html": [
       "0"
      ],
      "text/latex": [
       "0"
      ],
      "text/markdown": [
       "0"
      ],
      "text/plain": [
       "[1] 0"
      ]
     },
     "metadata": {},
     "output_type": "display_data"
    }
   ],
   "source": [
    "x%%y"
   ]
  },
  {
   "cell_type": "code",
   "execution_count": 21,
   "id": "latter-transaction",
   "metadata": {},
   "outputs": [
    {
     "data": {
      "text/html": [
       "1e+05"
      ],
      "text/latex": [
       "1e+05"
      ],
      "text/markdown": [
       "1e+05"
      ],
      "text/plain": [
       "[1] 1e+05"
      ]
     },
     "metadata": {},
     "output_type": "display_data"
    }
   ],
   "source": [
    "x^y"
   ]
  },
  {
   "cell_type": "markdown",
   "id": "another-globe",
   "metadata": {},
   "source": [
    "## Logical operations"
   ]
  },
  {
   "cell_type": "code",
   "execution_count": 22,
   "id": "typical-concrete",
   "metadata": {},
   "outputs": [
    {
     "data": {
      "text/html": [
       "TRUE"
      ],
      "text/latex": [
       "TRUE"
      ],
      "text/markdown": [
       "TRUE"
      ],
      "text/plain": [
       "[1] TRUE"
      ]
     },
     "metadata": {},
     "output_type": "display_data"
    }
   ],
   "source": [
    "x > y"
   ]
  },
  {
   "cell_type": "code",
   "execution_count": 23,
   "id": "august-bracket",
   "metadata": {},
   "outputs": [
    {
     "data": {
      "text/html": [
       "FALSE"
      ],
      "text/latex": [
       "FALSE"
      ],
      "text/markdown": [
       "FALSE"
      ],
      "text/plain": [
       "[1] FALSE"
      ]
     },
     "metadata": {},
     "output_type": "display_data"
    }
   ],
   "source": [
    "x < y"
   ]
  },
  {
   "cell_type": "code",
   "execution_count": 24,
   "id": "aerial-oliver",
   "metadata": {},
   "outputs": [
    {
     "data": {
      "text/html": [
       "FALSE"
      ],
      "text/latex": [
       "FALSE"
      ],
      "text/markdown": [
       "FALSE"
      ],
      "text/plain": [
       "[1] FALSE"
      ]
     },
     "metadata": {},
     "output_type": "display_data"
    }
   ],
   "source": [
    "x == y"
   ]
  },
  {
   "cell_type": "markdown",
   "id": "social-living",
   "metadata": {},
   "source": [
    "# Vectors\n",
    "- A collection of same type of elements\n",
    "- Created using the `c()` function"
   ]
  },
  {
   "cell_type": "code",
   "execution_count": 27,
   "id": "driven-accommodation",
   "metadata": {},
   "outputs": [
    {
     "data": {
      "text/html": [
       "<style>\n",
       ".list-inline {list-style: none; margin:0; padding: 0}\n",
       ".list-inline>li {display: inline-block}\n",
       ".list-inline>li:not(:last-child)::after {content: \"\\00b7\"; padding: 0 .5ex}\n",
       "</style>\n",
       "<ol class=list-inline><li>8</li><li>10</li><li>9</li><li>3</li><li>7</li><li>5</li><li>2</li><li>6</li><li>1</li><li>4</li></ol>\n"
      ],
      "text/latex": [
       "\\begin{enumerate*}\n",
       "\\item 8\n",
       "\\item 10\n",
       "\\item 9\n",
       "\\item 3\n",
       "\\item 7\n",
       "\\item 5\n",
       "\\item 2\n",
       "\\item 6\n",
       "\\item 1\n",
       "\\item 4\n",
       "\\end{enumerate*}\n"
      ],
      "text/markdown": [
       "1. 8\n",
       "2. 10\n",
       "3. 9\n",
       "4. 3\n",
       "5. 7\n",
       "6. 5\n",
       "7. 2\n",
       "8. 6\n",
       "9. 1\n",
       "10. 4\n",
       "\n",
       "\n"
      ],
      "text/plain": [
       " [1]  8 10  9  3  7  5  2  6  1  4"
      ]
     },
     "metadata": {},
     "output_type": "display_data"
    }
   ],
   "source": [
    "x = sample(1:10)\n",
    "x"
   ]
  },
  {
   "cell_type": "code",
   "execution_count": 28,
   "id": "classified-sacramento",
   "metadata": {},
   "outputs": [
    {
     "data": {
      "text/html": [
       "<style>\n",
       ".list-inline {list-style: none; margin:0; padding: 0}\n",
       ".list-inline>li {display: inline-block}\n",
       ".list-inline>li:not(:last-child)::after {content: \"\\00b7\"; padding: 0 .5ex}\n",
       "</style>\n",
       "<ol class=list-inline><li>'Hey'</li><li>'Hi'</li><li>'Hello'</li></ol>\n"
      ],
      "text/latex": [
       "\\begin{enumerate*}\n",
       "\\item 'Hey'\n",
       "\\item 'Hi'\n",
       "\\item 'Hello'\n",
       "\\end{enumerate*}\n"
      ],
      "text/markdown": [
       "1. 'Hey'\n",
       "2. 'Hi'\n",
       "3. 'Hello'\n",
       "\n",
       "\n"
      ],
      "text/plain": [
       "[1] \"Hey\"   \"Hi\"    \"Hello\""
      ]
     },
     "metadata": {},
     "output_type": "display_data"
    }
   ],
   "source": [
    "y = c('Hey','Hi',\"Hello\")\n",
    "y"
   ]
  },
  {
   "cell_type": "code",
   "execution_count": 30,
   "id": "gross-advocacy",
   "metadata": {},
   "outputs": [
    {
     "data": {
      "text/html": [
       "<style>\n",
       ".list-inline {list-style: none; margin:0; padding: 0}\n",
       ".list-inline>li {display: inline-block}\n",
       ".list-inline>li:not(:last-child)::after {content: \"\\00b7\"; padding: 0 .5ex}\n",
       "</style>\n",
       "<ol class=list-inline><li>1</li><li>0</li><li>1</li><li>0</li><li>0</li><li>1</li></ol>\n"
      ],
      "text/latex": [
       "\\begin{enumerate*}\n",
       "\\item 1\n",
       "\\item 0\n",
       "\\item 1\n",
       "\\item 0\n",
       "\\item 0\n",
       "\\item 1\n",
       "\\end{enumerate*}\n"
      ],
      "text/markdown": [
       "1. 1\n",
       "2. 0\n",
       "3. 1\n",
       "4. 0\n",
       "5. 0\n",
       "6. 1\n",
       "\n",
       "\n"
      ],
      "text/plain": [
       "[1] 1 0 1 0 0 1"
      ]
     },
     "metadata": {},
     "output_type": "display_data"
    }
   ],
   "source": [
    "z = c(T,F,TRUE,FALSE,0,1)\n",
    "z"
   ]
  },
  {
   "cell_type": "code",
   "execution_count": 31,
   "id": "checked-passing",
   "metadata": {},
   "outputs": [
    {
     "data": {
      "text/html": [
       "'integer'"
      ],
      "text/latex": [
       "'integer'"
      ],
      "text/markdown": [
       "'integer'"
      ],
      "text/plain": [
       "[1] \"integer\""
      ]
     },
     "metadata": {},
     "output_type": "display_data"
    }
   ],
   "source": [
    "class(x)"
   ]
  },
  {
   "cell_type": "code",
   "execution_count": 32,
   "id": "acoustic-convergence",
   "metadata": {},
   "outputs": [
    {
     "data": {
      "text/html": [
       "'character'"
      ],
      "text/latex": [
       "'character'"
      ],
      "text/markdown": [
       "'character'"
      ],
      "text/plain": [
       "[1] \"character\""
      ]
     },
     "metadata": {},
     "output_type": "display_data"
    }
   ],
   "source": [
    "class(y)"
   ]
  },
  {
   "cell_type": "code",
   "execution_count": 33,
   "id": "superb-lemon",
   "metadata": {},
   "outputs": [
    {
     "data": {
      "text/html": [
       "'numeric'"
      ],
      "text/latex": [
       "'numeric'"
      ],
      "text/markdown": [
       "'numeric'"
      ],
      "text/plain": [
       "[1] \"numeric\""
      ]
     },
     "metadata": {},
     "output_type": "display_data"
    }
   ],
   "source": [
    "class(z)"
   ]
  },
  {
   "cell_type": "code",
   "execution_count": 35,
   "id": "comprehensive-guidance",
   "metadata": {},
   "outputs": [
    {
     "data": {
      "text/html": [
       "'character'"
      ],
      "text/latex": [
       "'character'"
      ],
      "text/markdown": [
       "'character'"
      ],
      "text/plain": [
       "[1] \"character\""
      ]
     },
     "metadata": {},
     "output_type": "display_data"
    }
   ],
   "source": [
    "a = c(\"abc\",5,TRUE)\n",
    "class(a)"
   ]
  },
  {
   "cell_type": "code",
   "execution_count": 37,
   "id": "weekly-lambda",
   "metadata": {},
   "outputs": [
    {
     "data": {
      "text/html": [
       "<style>\n",
       ".list-inline {list-style: none; margin:0; padding: 0}\n",
       ".list-inline>li {display: inline-block}\n",
       ".list-inline>li:not(:last-child)::after {content: \"\\00b7\"; padding: 0 .5ex}\n",
       "</style>\n",
       "<ol class=list-inline><li>1</li><li>2</li><li>3</li><li>4</li><li>5</li><li>6</li><li>7</li><li>8</li><li>9</li><li>10</li></ol>\n"
      ],
      "text/latex": [
       "\\begin{enumerate*}\n",
       "\\item 1\n",
       "\\item 2\n",
       "\\item 3\n",
       "\\item 4\n",
       "\\item 5\n",
       "\\item 6\n",
       "\\item 7\n",
       "\\item 8\n",
       "\\item 9\n",
       "\\item 10\n",
       "\\end{enumerate*}\n"
      ],
      "text/markdown": [
       "1. 1\n",
       "2. 2\n",
       "3. 3\n",
       "4. 4\n",
       "5. 5\n",
       "6. 6\n",
       "7. 7\n",
       "8. 8\n",
       "9. 9\n",
       "10. 10\n",
       "\n",
       "\n"
      ],
      "text/plain": [
       " [1]  1  2  3  4  5  6  7  8  9 10"
      ]
     },
     "metadata": {},
     "output_type": "display_data"
    }
   ],
   "source": [
    "#seq\n",
    "b = c(1:10)\n",
    "b"
   ]
  },
  {
   "cell_type": "code",
   "execution_count": 39,
   "id": "incorporated-evolution",
   "metadata": {},
   "outputs": [
    {
     "data": {
      "text/html": [
       "<style>\n",
       ".list-inline {list-style: none; margin:0; padding: 0}\n",
       ".list-inline>li {display: inline-block}\n",
       ".list-inline>li:not(:last-child)::after {content: \"\\00b7\"; padding: 0 .5ex}\n",
       "</style>\n",
       "<ol class=list-inline><li>1</li><li>3</li><li>5</li><li>7</li><li>9</li></ol>\n"
      ],
      "text/latex": [
       "\\begin{enumerate*}\n",
       "\\item 1\n",
       "\\item 3\n",
       "\\item 5\n",
       "\\item 7\n",
       "\\item 9\n",
       "\\end{enumerate*}\n"
      ],
      "text/markdown": [
       "1. 1\n",
       "2. 3\n",
       "3. 5\n",
       "4. 7\n",
       "5. 9\n",
       "\n",
       "\n"
      ],
      "text/plain": [
       "[1] 1 3 5 7 9"
      ]
     },
     "metadata": {},
     "output_type": "display_data"
    }
   ],
   "source": [
    "d = seq(1,10,by = 2)\n",
    "d"
   ]
  },
  {
   "cell_type": "markdown",
   "id": "sporting-positive",
   "metadata": {},
   "source": [
    "## Arithmetic operations"
   ]
  },
  {
   "cell_type": "code",
   "execution_count": 50,
   "id": "interim-catch",
   "metadata": {},
   "outputs": [],
   "source": [
    "f = c(1,2,3,4,5)\n",
    "g = c(6,7,8,9,10)\n",
    "h = c(11,15,13)"
   ]
  },
  {
   "cell_type": "code",
   "execution_count": 51,
   "id": "formal-exposure",
   "metadata": {},
   "outputs": [
    {
     "data": {
      "text/html": [
       "<style>\n",
       ".list-inline {list-style: none; margin:0; padding: 0}\n",
       ".list-inline>li {display: inline-block}\n",
       ".list-inline>li:not(:last-child)::after {content: \"\\00b7\"; padding: 0 .5ex}\n",
       "</style>\n",
       "<ol class=list-inline><li>7</li><li>9</li><li>11</li><li>13</li><li>15</li></ol>\n"
      ],
      "text/latex": [
       "\\begin{enumerate*}\n",
       "\\item 7\n",
       "\\item 9\n",
       "\\item 11\n",
       "\\item 13\n",
       "\\item 15\n",
       "\\end{enumerate*}\n"
      ],
      "text/markdown": [
       "1. 7\n",
       "2. 9\n",
       "3. 11\n",
       "4. 13\n",
       "5. 15\n",
       "\n",
       "\n"
      ],
      "text/plain": [
       "[1]  7  9 11 13 15"
      ]
     },
     "metadata": {},
     "output_type": "display_data"
    }
   ],
   "source": [
    "f+g"
   ]
  },
  {
   "cell_type": "code",
   "execution_count": 52,
   "id": "civic-couple",
   "metadata": {},
   "outputs": [
    {
     "name": "stderr",
     "output_type": "stream",
     "text": [
      "Warning message in g + h:\n",
      "“longer object length is not a multiple of shorter object length”\n"
     ]
    },
    {
     "data": {
      "text/html": [
       "<style>\n",
       ".list-inline {list-style: none; margin:0; padding: 0}\n",
       ".list-inline>li {display: inline-block}\n",
       ".list-inline>li:not(:last-child)::after {content: \"\\00b7\"; padding: 0 .5ex}\n",
       "</style>\n",
       "<ol class=list-inline><li>17</li><li>22</li><li>21</li><li>20</li><li>25</li></ol>\n"
      ],
      "text/latex": [
       "\\begin{enumerate*}\n",
       "\\item 17\n",
       "\\item 22\n",
       "\\item 21\n",
       "\\item 20\n",
       "\\item 25\n",
       "\\end{enumerate*}\n"
      ],
      "text/markdown": [
       "1. 17\n",
       "2. 22\n",
       "3. 21\n",
       "4. 20\n",
       "5. 25\n",
       "\n",
       "\n"
      ],
      "text/plain": [
       "[1] 17 22 21 20 25"
      ]
     },
     "metadata": {},
     "output_type": "display_data"
    }
   ],
   "source": [
    "g + h"
   ]
  },
  {
   "cell_type": "code",
   "execution_count": 53,
   "id": "noble-contractor",
   "metadata": {},
   "outputs": [
    {
     "data": {
      "text/html": [
       "<style>\n",
       ".list-inline {list-style: none; margin:0; padding: 0}\n",
       ".list-inline>li {display: inline-block}\n",
       ".list-inline>li:not(:last-child)::after {content: \"\\00b7\"; padding: 0 .5ex}\n",
       "</style>\n",
       "<ol class=list-inline><li>-5</li><li>-5</li><li>-5</li><li>-5</li><li>-5</li></ol>\n"
      ],
      "text/latex": [
       "\\begin{enumerate*}\n",
       "\\item -5\n",
       "\\item -5\n",
       "\\item -5\n",
       "\\item -5\n",
       "\\item -5\n",
       "\\end{enumerate*}\n"
      ],
      "text/markdown": [
       "1. -5\n",
       "2. -5\n",
       "3. -5\n",
       "4. -5\n",
       "5. -5\n",
       "\n",
       "\n"
      ],
      "text/plain": [
       "[1] -5 -5 -5 -5 -5"
      ]
     },
     "metadata": {},
     "output_type": "display_data"
    }
   ],
   "source": [
    "f - g"
   ]
  },
  {
   "cell_type": "code",
   "execution_count": 54,
   "id": "detected-darwin",
   "metadata": {},
   "outputs": [
    {
     "name": "stderr",
     "output_type": "stream",
     "text": [
      "Warning message in f - h:\n",
      "“longer object length is not a multiple of shorter object length”\n"
     ]
    },
    {
     "data": {
      "text/html": [
       "<style>\n",
       ".list-inline {list-style: none; margin:0; padding: 0}\n",
       ".list-inline>li {display: inline-block}\n",
       ".list-inline>li:not(:last-child)::after {content: \"\\00b7\"; padding: 0 .5ex}\n",
       "</style>\n",
       "<ol class=list-inline><li>-10</li><li>-13</li><li>-10</li><li>-7</li><li>-10</li></ol>\n"
      ],
      "text/latex": [
       "\\begin{enumerate*}\n",
       "\\item -10\n",
       "\\item -13\n",
       "\\item -10\n",
       "\\item -7\n",
       "\\item -10\n",
       "\\end{enumerate*}\n"
      ],
      "text/markdown": [
       "1. -10\n",
       "2. -13\n",
       "3. -10\n",
       "4. -7\n",
       "5. -10\n",
       "\n",
       "\n"
      ],
      "text/plain": [
       "[1] -10 -13 -10  -7 -10"
      ]
     },
     "metadata": {},
     "output_type": "display_data"
    }
   ],
   "source": [
    "f - h"
   ]
  },
  {
   "cell_type": "code",
   "execution_count": 55,
   "id": "identical-ontario",
   "metadata": {},
   "outputs": [
    {
     "data": {
      "text/html": [
       "<style>\n",
       ".list-inline {list-style: none; margin:0; padding: 0}\n",
       ".list-inline>li {display: inline-block}\n",
       ".list-inline>li:not(:last-child)::after {content: \"\\00b7\"; padding: 0 .5ex}\n",
       "</style>\n",
       "<ol class=list-inline><li>6</li><li>14</li><li>24</li><li>36</li><li>50</li></ol>\n"
      ],
      "text/latex": [
       "\\begin{enumerate*}\n",
       "\\item 6\n",
       "\\item 14\n",
       "\\item 24\n",
       "\\item 36\n",
       "\\item 50\n",
       "\\end{enumerate*}\n"
      ],
      "text/markdown": [
       "1. 6\n",
       "2. 14\n",
       "3. 24\n",
       "4. 36\n",
       "5. 50\n",
       "\n",
       "\n"
      ],
      "text/plain": [
       "[1]  6 14 24 36 50"
      ]
     },
     "metadata": {},
     "output_type": "display_data"
    }
   ],
   "source": [
    "f * g"
   ]
  },
  {
   "cell_type": "code",
   "execution_count": 56,
   "id": "declared-perfume",
   "metadata": {},
   "outputs": [
    {
     "name": "stderr",
     "output_type": "stream",
     "text": [
      "Warning message in g * h:\n",
      "“longer object length is not a multiple of shorter object length”\n"
     ]
    },
    {
     "data": {
      "text/html": [
       "<style>\n",
       ".list-inline {list-style: none; margin:0; padding: 0}\n",
       ".list-inline>li {display: inline-block}\n",
       ".list-inline>li:not(:last-child)::after {content: \"\\00b7\"; padding: 0 .5ex}\n",
       "</style>\n",
       "<ol class=list-inline><li>66</li><li>105</li><li>104</li><li>99</li><li>150</li></ol>\n"
      ],
      "text/latex": [
       "\\begin{enumerate*}\n",
       "\\item 66\n",
       "\\item 105\n",
       "\\item 104\n",
       "\\item 99\n",
       "\\item 150\n",
       "\\end{enumerate*}\n"
      ],
      "text/markdown": [
       "1. 66\n",
       "2. 105\n",
       "3. 104\n",
       "4. 99\n",
       "5. 150\n",
       "\n",
       "\n"
      ],
      "text/plain": [
       "[1]  66 105 104  99 150"
      ]
     },
     "metadata": {},
     "output_type": "display_data"
    }
   ],
   "source": [
    "g * h"
   ]
  },
  {
   "cell_type": "code",
   "execution_count": 57,
   "id": "nominated-justice",
   "metadata": {},
   "outputs": [
    {
     "data": {
      "text/html": [
       "<style>\n",
       ".list-inline {list-style: none; margin:0; padding: 0}\n",
       ".list-inline>li {display: inline-block}\n",
       ".list-inline>li:not(:last-child)::after {content: \"\\00b7\"; padding: 0 .5ex}\n",
       "</style>\n",
       "<ol class=list-inline><li>0.166666666666667</li><li>0.285714285714286</li><li>0.375</li><li>0.444444444444444</li><li>0.5</li></ol>\n"
      ],
      "text/latex": [
       "\\begin{enumerate*}\n",
       "\\item 0.166666666666667\n",
       "\\item 0.285714285714286\n",
       "\\item 0.375\n",
       "\\item 0.444444444444444\n",
       "\\item 0.5\n",
       "\\end{enumerate*}\n"
      ],
      "text/markdown": [
       "1. 0.166666666666667\n",
       "2. 0.285714285714286\n",
       "3. 0.375\n",
       "4. 0.444444444444444\n",
       "5. 0.5\n",
       "\n",
       "\n"
      ],
      "text/plain": [
       "[1] 0.1666667 0.2857143 0.3750000 0.4444444 0.5000000"
      ]
     },
     "metadata": {},
     "output_type": "display_data"
    }
   ],
   "source": [
    "f / g"
   ]
  },
  {
   "cell_type": "code",
   "execution_count": 58,
   "id": "moved-congo",
   "metadata": {},
   "outputs": [
    {
     "name": "stderr",
     "output_type": "stream",
     "text": [
      "Warning message in f/h:\n",
      "“longer object length is not a multiple of shorter object length”\n"
     ]
    },
    {
     "data": {
      "text/html": [
       "<style>\n",
       ".list-inline {list-style: none; margin:0; padding: 0}\n",
       ".list-inline>li {display: inline-block}\n",
       ".list-inline>li:not(:last-child)::after {content: \"\\00b7\"; padding: 0 .5ex}\n",
       "</style>\n",
       "<ol class=list-inline><li>0.0909090909090909</li><li>0.133333333333333</li><li>0.230769230769231</li><li>0.363636363636364</li><li>0.333333333333333</li></ol>\n"
      ],
      "text/latex": [
       "\\begin{enumerate*}\n",
       "\\item 0.0909090909090909\n",
       "\\item 0.133333333333333\n",
       "\\item 0.230769230769231\n",
       "\\item 0.363636363636364\n",
       "\\item 0.333333333333333\n",
       "\\end{enumerate*}\n"
      ],
      "text/markdown": [
       "1. 0.0909090909090909\n",
       "2. 0.133333333333333\n",
       "3. 0.230769230769231\n",
       "4. 0.363636363636364\n",
       "5. 0.333333333333333\n",
       "\n",
       "\n"
      ],
      "text/plain": [
       "[1] 0.09090909 0.13333333 0.23076923 0.36363636 0.33333333"
      ]
     },
     "metadata": {},
     "output_type": "display_data"
    }
   ],
   "source": [
    "f / h"
   ]
  },
  {
   "cell_type": "code",
   "execution_count": 62,
   "id": "disturbed-barrel",
   "metadata": {},
   "outputs": [
    {
     "data": {
      "text/html": [
       "<style>\n",
       ".list-inline {list-style: none; margin:0; padding: 0}\n",
       ".list-inline>li {display: inline-block}\n",
       ".list-inline>li:not(:last-child)::after {content: \"\\00b7\"; padding: 0 .5ex}\n",
       "</style>\n",
       "<ol class=list-inline><li>11</li><li>15</li><li>13</li></ol>\n"
      ],
      "text/latex": [
       "\\begin{enumerate*}\n",
       "\\item 11\n",
       "\\item 15\n",
       "\\item 13\n",
       "\\end{enumerate*}\n"
      ],
      "text/markdown": [
       "1. 11\n",
       "2. 15\n",
       "3. 13\n",
       "\n",
       "\n"
      ],
      "text/plain": [
       "[1] 11 15 13"
      ]
     },
     "metadata": {},
     "output_type": "display_data"
    }
   ],
   "source": [
    "h"
   ]
  },
  {
   "cell_type": "code",
   "execution_count": 60,
   "id": "eleven-yukon",
   "metadata": {},
   "outputs": [
    {
     "data": {
      "text/html": [
       "<style>\n",
       ".list-inline {list-style: none; margin:0; padding: 0}\n",
       ".list-inline>li {display: inline-block}\n",
       ".list-inline>li:not(:last-child)::after {content: \"\\00b7\"; padding: 0 .5ex}\n",
       "</style>\n",
       "<ol class=list-inline><li>11</li><li>13</li><li>15</li></ol>\n"
      ],
      "text/latex": [
       "\\begin{enumerate*}\n",
       "\\item 11\n",
       "\\item 13\n",
       "\\item 15\n",
       "\\end{enumerate*}\n"
      ],
      "text/markdown": [
       "1. 11\n",
       "2. 13\n",
       "3. 15\n",
       "\n",
       "\n"
      ],
      "text/plain": [
       "[1] 11 13 15"
      ]
     },
     "metadata": {},
     "output_type": "display_data"
    }
   ],
   "source": [
    "sort(h)"
   ]
  },
  {
   "cell_type": "code",
   "execution_count": 61,
   "id": "waiting-person",
   "metadata": {},
   "outputs": [
    {
     "data": {
      "text/html": [
       "<style>\n",
       ".list-inline {list-style: none; margin:0; padding: 0}\n",
       ".list-inline>li {display: inline-block}\n",
       ".list-inline>li:not(:last-child)::after {content: \"\\00b7\"; padding: 0 .5ex}\n",
       "</style>\n",
       "<ol class=list-inline><li>15</li><li>13</li><li>11</li></ol>\n"
      ],
      "text/latex": [
       "\\begin{enumerate*}\n",
       "\\item 15\n",
       "\\item 13\n",
       "\\item 11\n",
       "\\end{enumerate*}\n"
      ],
      "text/markdown": [
       "1. 15\n",
       "2. 13\n",
       "3. 11\n",
       "\n",
       "\n"
      ],
      "text/plain": [
       "[1] 15 13 11"
      ]
     },
     "metadata": {},
     "output_type": "display_data"
    }
   ],
   "source": [
    "sort(h, decreasing = TRUE)"
   ]
  },
  {
   "cell_type": "markdown",
   "id": "hybrid-monte",
   "metadata": {},
   "source": [
    "## Indexing\n",
    "- indexes in R starts from 1"
   ]
  },
  {
   "cell_type": "code",
   "execution_count": 68,
   "id": "broke-softball",
   "metadata": {},
   "outputs": [
    {
     "data": {
      "text/html": [
       "<style>\n",
       ".list-inline {list-style: none; margin:0; padding: 0}\n",
       ".list-inline>li {display: inline-block}\n",
       ".list-inline>li:not(:last-child)::after {content: \"\\00b7\"; padding: 0 .5ex}\n",
       "</style>\n",
       "<ol class=list-inline><li>8</li><li>5</li><li>9</li><li>10</li><li>2</li><li>7</li><li>1</li><li>4</li><li>3</li><li>6</li></ol>\n"
      ],
      "text/latex": [
       "\\begin{enumerate*}\n",
       "\\item 8\n",
       "\\item 5\n",
       "\\item 9\n",
       "\\item 10\n",
       "\\item 2\n",
       "\\item 7\n",
       "\\item 1\n",
       "\\item 4\n",
       "\\item 3\n",
       "\\item 6\n",
       "\\end{enumerate*}\n"
      ],
      "text/markdown": [
       "1. 8\n",
       "2. 5\n",
       "3. 9\n",
       "4. 10\n",
       "5. 2\n",
       "6. 7\n",
       "7. 1\n",
       "8. 4\n",
       "9. 3\n",
       "10. 6\n",
       "\n",
       "\n"
      ],
      "text/plain": [
       " [1]  8  5  9 10  2  7  1  4  3  6"
      ]
     },
     "metadata": {},
     "output_type": "display_data"
    }
   ],
   "source": [
    "i = sample(1:10)\n",
    "i"
   ]
  },
  {
   "cell_type": "code",
   "execution_count": 69,
   "id": "sporting-gender",
   "metadata": {},
   "outputs": [
    {
     "data": {
      "text/html": [
       "2"
      ],
      "text/latex": [
       "2"
      ],
      "text/markdown": [
       "2"
      ],
      "text/plain": [
       "[1] 2"
      ]
     },
     "metadata": {},
     "output_type": "display_data"
    }
   ],
   "source": [
    "i[5]"
   ]
  },
  {
   "cell_type": "code",
   "execution_count": 70,
   "id": "ready-thickness",
   "metadata": {},
   "outputs": [
    {
     "data": {
      "text/html": [
       "<style>\n",
       ".list-inline {list-style: none; margin:0; padding: 0}\n",
       ".list-inline>li {display: inline-block}\n",
       ".list-inline>li:not(:last-child)::after {content: \"\\00b7\"; padding: 0 .5ex}\n",
       "</style>\n",
       "<ol class=list-inline><li>8</li><li>9</li></ol>\n"
      ],
      "text/latex": [
       "\\begin{enumerate*}\n",
       "\\item 8\n",
       "\\item 9\n",
       "\\end{enumerate*}\n"
      ],
      "text/markdown": [
       "1. 8\n",
       "2. 9\n",
       "\n",
       "\n"
      ],
      "text/plain": [
       "[1] 8 9"
      ]
     },
     "metadata": {},
     "output_type": "display_data"
    }
   ],
   "source": [
    "j = i[c(1,3)]\n",
    "j"
   ]
  },
  {
   "cell_type": "code",
   "execution_count": 72,
   "id": "theoretical-integral",
   "metadata": {},
   "outputs": [
    {
     "data": {
      "text/html": [
       "<style>\n",
       ".list-inline {list-style: none; margin:0; padding: 0}\n",
       ".list-inline>li {display: inline-block}\n",
       ".list-inline>li:not(:last-child)::after {content: \"\\00b7\"; padding: 0 .5ex}\n",
       "</style>\n",
       "<ol class=list-inline><li>5</li><li>2</li><li>1</li><li>4</li><li>3</li></ol>\n"
      ],
      "text/latex": [
       "\\begin{enumerate*}\n",
       "\\item 5\n",
       "\\item 2\n",
       "\\item 1\n",
       "\\item 4\n",
       "\\item 3\n",
       "\\end{enumerate*}\n"
      ],
      "text/markdown": [
       "1. 5\n",
       "2. 2\n",
       "3. 1\n",
       "4. 4\n",
       "5. 3\n",
       "\n",
       "\n"
      ],
      "text/plain": [
       "[1] 5 2 1 4 3"
      ]
     },
     "metadata": {},
     "output_type": "display_data"
    }
   ],
   "source": [
    "k = i[i<6]\n",
    "k"
   ]
  },
  {
   "cell_type": "code",
   "execution_count": 74,
   "id": "unlikely-verification",
   "metadata": {},
   "outputs": [
    {
     "data": {
      "text/html": [
       "<style>\n",
       ".list-inline {list-style: none; margin:0; padding: 0}\n",
       ".list-inline>li {display: inline-block}\n",
       ".list-inline>li:not(:last-child)::after {content: \"\\00b7\"; padding: 0 .5ex}\n",
       "</style>\n",
       "<ol class=list-inline><li>2</li><li>1</li><li>4</li><li>3</li></ol>\n"
      ],
      "text/latex": [
       "\\begin{enumerate*}\n",
       "\\item 2\n",
       "\\item 1\n",
       "\\item 4\n",
       "\\item 3\n",
       "\\end{enumerate*}\n"
      ],
      "text/markdown": [
       "1. 2\n",
       "2. 1\n",
       "3. 4\n",
       "4. 3\n",
       "\n",
       "\n"
      ],
      "text/plain": [
       "[1] 2 1 4 3"
      ]
     },
     "metadata": {},
     "output_type": "display_data"
    }
   ],
   "source": [
    "# negative indexes remove the element\n",
    "k[-1]"
   ]
  },
  {
   "cell_type": "code",
   "execution_count": 75,
   "id": "southern-multimedia",
   "metadata": {},
   "outputs": [
    {
     "data": {
      "text/html": [
       "<style>\n",
       ".list-inline {list-style: none; margin:0; padding: 0}\n",
       ".list-inline>li {display: inline-block}\n",
       ".list-inline>li:not(:last-child)::after {content: \"\\00b7\"; padding: 0 .5ex}\n",
       "</style>\n",
       "<ol class=list-inline><li>6</li><li>2</li><li>1</li><li>4</li><li>3</li></ol>\n"
      ],
      "text/latex": [
       "\\begin{enumerate*}\n",
       "\\item 6\n",
       "\\item 2\n",
       "\\item 1\n",
       "\\item 4\n",
       "\\item 3\n",
       "\\end{enumerate*}\n"
      ],
      "text/markdown": [
       "1. 6\n",
       "2. 2\n",
       "3. 1\n",
       "4. 4\n",
       "5. 3\n",
       "\n",
       "\n"
      ],
      "text/plain": [
       "[1] 6 2 1 4 3"
      ]
     },
     "metadata": {},
     "output_type": "display_data"
    }
   ],
   "source": [
    "k[1] = 6\n",
    "k"
   ]
  },
  {
   "cell_type": "code",
   "execution_count": 76,
   "id": "cooperative-validity",
   "metadata": {},
   "outputs": [
    {
     "data": {
      "text/plain": [
       "NULL"
      ]
     },
     "metadata": {},
     "output_type": "display_data"
    }
   ],
   "source": [
    "k = NULL\n",
    "k"
   ]
  },
  {
   "cell_type": "markdown",
   "id": "great-trunk",
   "metadata": {},
   "source": [
    "# List\n",
    "- Created using `list()`\n",
    "- No mathematical operations can be performed on lists\n",
    "- Can convert into vectors using `unlist()`"
   ]
  },
  {
   "cell_type": "code",
   "execution_count": 77,
   "id": "characteristic-shooting",
   "metadata": {},
   "outputs": [
    {
     "data": {
      "text/html": [
       "'list'"
      ],
      "text/latex": [
       "'list'"
      ],
      "text/markdown": [
       "'list'"
      ],
      "text/plain": [
       "[1] \"list\""
      ]
     },
     "metadata": {},
     "output_type": "display_data"
    }
   ],
   "source": [
    "l = list(1,2,3,4,5)\n",
    "class(l)"
   ]
  },
  {
   "cell_type": "code",
   "execution_count": 81,
   "id": "planned-spank",
   "metadata": {},
   "outputs": [
    {
     "data": {
      "text/html": [
       "<ol>\n",
       "\t<li>'Hi'</li>\n",
       "\t<li>'Hey'</li>\n",
       "\t<li>56</li>\n",
       "\t<li>TRUE</li>\n",
       "</ol>\n"
      ],
      "text/latex": [
       "\\begin{enumerate}\n",
       "\\item 'Hi'\n",
       "\\item 'Hey'\n",
       "\\item 56\n",
       "\\item TRUE\n",
       "\\end{enumerate}\n"
      ],
      "text/markdown": [
       "1. 'Hi'\n",
       "2. 'Hey'\n",
       "3. 56\n",
       "4. TRUE\n",
       "\n",
       "\n"
      ],
      "text/plain": [
       "[[1]]\n",
       "[1] \"Hi\"\n",
       "\n",
       "[[2]]\n",
       "[1] \"Hey\"\n",
       "\n",
       "[[3]]\n",
       "[1] 56\n",
       "\n",
       "[[4]]\n",
       "[1] TRUE\n"
      ]
     },
     "metadata": {},
     "output_type": "display_data"
    }
   ],
   "source": [
    "l1 = list('Hi',\"Hey\",56,TRUE)\n",
    "l1"
   ]
  },
  {
   "cell_type": "code",
   "execution_count": 90,
   "id": "right-tenant",
   "metadata": {},
   "outputs": [
    {
     "data": {
      "text/html": [
       "<ol>\n",
       "\t<li><ol>\n",
       "\t<li>1</li>\n",
       "\t<li>2</li>\n",
       "\t<li>3</li>\n",
       "\t<li>4</li>\n",
       "\t<li>5</li>\n",
       "</ol>\n",
       "</li>\n",
       "\t<li><dl>\n",
       "\t<dt>$A</dt>\n",
       "\t\t<dd>'Hi'</dd>\n",
       "\t<dt>$B</dt>\n",
       "\t\t<dd>'Hey'</dd>\n",
       "\t<dt>$C</dt>\n",
       "\t\t<dd>56</dd>\n",
       "\t<dt>$D</dt>\n",
       "\t\t<dd>TRUE</dd>\n",
       "</dl>\n",
       "</li>\n",
       "</ol>\n"
      ],
      "text/latex": [
       "\\begin{enumerate}\n",
       "\\item \\begin{enumerate}\n",
       "\\item 1\n",
       "\\item 2\n",
       "\\item 3\n",
       "\\item 4\n",
       "\\item 5\n",
       "\\end{enumerate}\n",
       "\n",
       "\\item \\begin{description}\n",
       "\\item[\\$A] 'Hi'\n",
       "\\item[\\$B] 'Hey'\n",
       "\\item[\\$C] 56\n",
       "\\item[\\$D] TRUE\n",
       "\\end{description}\n",
       "\n",
       "\\end{enumerate}\n"
      ],
      "text/markdown": [
       "1. 1. 1\n",
       "2. 2\n",
       "3. 3\n",
       "4. 4\n",
       "5. 5\n",
       "\n",
       "\n",
       "\n",
       "2. $A\n",
       ":   'Hi'\n",
       "$B\n",
       ":   'Hey'\n",
       "$C\n",
       ":   56\n",
       "$D\n",
       ":   TRUE\n",
       "\n",
       "\n",
       "\n",
       "\n",
       "\n"
      ],
      "text/plain": [
       "[[1]]\n",
       "[[1]][[1]]\n",
       "[1] 1\n",
       "\n",
       "[[1]][[2]]\n",
       "[1] 2\n",
       "\n",
       "[[1]][[3]]\n",
       "[1] 3\n",
       "\n",
       "[[1]][[4]]\n",
       "[1] 4\n",
       "\n",
       "[[1]][[5]]\n",
       "[1] 5\n",
       "\n",
       "\n",
       "[[2]]\n",
       "[[2]]$A\n",
       "[1] \"Hi\"\n",
       "\n",
       "[[2]]$B\n",
       "[1] \"Hey\"\n",
       "\n",
       "[[2]]$C\n",
       "[1] 56\n",
       "\n",
       "[[2]]$D\n",
       "[1] TRUE\n",
       "\n"
      ]
     },
     "metadata": {},
     "output_type": "display_data"
    }
   ],
   "source": [
    "l2 = list(l,l1)\n",
    "l2"
   ]
  },
  {
   "cell_type": "code",
   "execution_count": 91,
   "id": "civic-cream",
   "metadata": {},
   "outputs": [
    {
     "data": {
      "text/html": [
       "<ol>\n",
       "\t<li><ol>\n",
       "\t<li>1</li>\n",
       "\t<li>2</li>\n",
       "\t<li>3</li>\n",
       "\t<li>4</li>\n",
       "\t<li>5</li>\n",
       "</ol>\n",
       "</li>\n",
       "</ol>\n"
      ],
      "text/latex": [
       "\\begin{enumerate}\n",
       "\\item \\begin{enumerate}\n",
       "\\item 1\n",
       "\\item 2\n",
       "\\item 3\n",
       "\\item 4\n",
       "\\item 5\n",
       "\\end{enumerate}\n",
       "\n",
       "\\end{enumerate}\n"
      ],
      "text/markdown": [
       "1. 1. 1\n",
       "2. 2\n",
       "3. 3\n",
       "4. 4\n",
       "5. 5\n",
       "\n",
       "\n",
       "\n",
       "\n",
       "\n"
      ],
      "text/plain": [
       "[[1]]\n",
       "[[1]][[1]]\n",
       "[1] 1\n",
       "\n",
       "[[1]][[2]]\n",
       "[1] 2\n",
       "\n",
       "[[1]][[3]]\n",
       "[1] 3\n",
       "\n",
       "[[1]][[4]]\n",
       "[1] 4\n",
       "\n",
       "[[1]][[5]]\n",
       "[1] 5\n",
       "\n"
      ]
     },
     "metadata": {},
     "output_type": "display_data"
    }
   ],
   "source": [
    "l2[1]"
   ]
  },
  {
   "cell_type": "code",
   "execution_count": 92,
   "id": "hispanic-plumbing",
   "metadata": {},
   "outputs": [
    {
     "data": {
      "text/html": [
       "<ol>\n",
       "\t<li>1</li>\n",
       "</ol>\n"
      ],
      "text/latex": [
       "\\begin{enumerate}\n",
       "\\item 1\n",
       "\\end{enumerate}\n"
      ],
      "text/markdown": [
       "1. 1\n",
       "\n",
       "\n"
      ],
      "text/plain": [
       "[[1]]\n",
       "[1] 1\n"
      ]
     },
     "metadata": {},
     "output_type": "display_data"
    }
   ],
   "source": [
    "l2[[1]][1]"
   ]
  },
  {
   "cell_type": "markdown",
   "id": "recorded-questionnaire",
   "metadata": {},
   "source": [
    "## names"
   ]
  },
  {
   "cell_type": "code",
   "execution_count": 89,
   "id": "treated-commissioner",
   "metadata": {},
   "outputs": [
    {
     "data": {
      "text/html": [
       "<dl>\n",
       "\t<dt>$A</dt>\n",
       "\t\t<dd>'Hi'</dd>\n",
       "\t<dt>$B</dt>\n",
       "\t\t<dd>'Hey'</dd>\n",
       "\t<dt>$C</dt>\n",
       "\t\t<dd>56</dd>\n",
       "\t<dt>$D</dt>\n",
       "\t\t<dd>TRUE</dd>\n",
       "</dl>\n"
      ],
      "text/latex": [
       "\\begin{description}\n",
       "\\item[\\$A] 'Hi'\n",
       "\\item[\\$B] 'Hey'\n",
       "\\item[\\$C] 56\n",
       "\\item[\\$D] TRUE\n",
       "\\end{description}\n"
      ],
      "text/markdown": [
       "$A\n",
       ":   'Hi'\n",
       "$B\n",
       ":   'Hey'\n",
       "$C\n",
       ":   56\n",
       "$D\n",
       ":   TRUE\n",
       "\n",
       "\n"
      ],
      "text/plain": [
       "$A\n",
       "[1] \"Hi\"\n",
       "\n",
       "$B\n",
       "[1] \"Hey\"\n",
       "\n",
       "$C\n",
       "[1] 56\n",
       "\n",
       "$D\n",
       "[1] TRUE\n"
      ]
     },
     "metadata": {},
     "output_type": "display_data"
    }
   ],
   "source": [
    "names(l1) = c('A','B','C','D')\n",
    "l1"
   ]
  },
  {
   "cell_type": "code",
   "execution_count": 94,
   "id": "lightweight-algebra",
   "metadata": {},
   "outputs": [
    {
     "data": {
      "text/html": [
       "<dl>\n",
       "\t<dt>$list1</dt>\n",
       "\t\t<dd><ol>\n",
       "\t<li>1</li>\n",
       "\t<li>2</li>\n",
       "\t<li>3</li>\n",
       "\t<li>4</li>\n",
       "\t<li>5</li>\n",
       "</ol>\n",
       "</dd>\n",
       "\t<dt>$list2</dt>\n",
       "\t\t<dd><dl>\n",
       "\t<dt>$A</dt>\n",
       "\t\t<dd>'Hi'</dd>\n",
       "\t<dt>$B</dt>\n",
       "\t\t<dd>'Hey'</dd>\n",
       "\t<dt>$C</dt>\n",
       "\t\t<dd>56</dd>\n",
       "\t<dt>$D</dt>\n",
       "\t\t<dd>TRUE</dd>\n",
       "</dl>\n",
       "</dd>\n",
       "</dl>\n"
      ],
      "text/latex": [
       "\\begin{description}\n",
       "\\item[\\$list1] \\begin{enumerate}\n",
       "\\item 1\n",
       "\\item 2\n",
       "\\item 3\n",
       "\\item 4\n",
       "\\item 5\n",
       "\\end{enumerate}\n",
       "\n",
       "\\item[\\$list2] \\begin{description}\n",
       "\\item[\\$A] 'Hi'\n",
       "\\item[\\$B] 'Hey'\n",
       "\\item[\\$C] 56\n",
       "\\item[\\$D] TRUE\n",
       "\\end{description}\n",
       "\n",
       "\\end{description}\n"
      ],
      "text/markdown": [
       "$list1\n",
       ":   1. 1\n",
       "2. 2\n",
       "3. 3\n",
       "4. 4\n",
       "5. 5\n",
       "\n",
       "\n",
       "\n",
       "$list2\n",
       ":   $A\n",
       ":   'Hi'\n",
       "$B\n",
       ":   'Hey'\n",
       "$C\n",
       ":   56\n",
       "$D\n",
       ":   TRUE\n",
       "\n",
       "\n",
       "\n",
       "\n",
       "\n"
      ],
      "text/plain": [
       "$list1\n",
       "$list1[[1]]\n",
       "[1] 1\n",
       "\n",
       "$list1[[2]]\n",
       "[1] 2\n",
       "\n",
       "$list1[[3]]\n",
       "[1] 3\n",
       "\n",
       "$list1[[4]]\n",
       "[1] 4\n",
       "\n",
       "$list1[[5]]\n",
       "[1] 5\n",
       "\n",
       "\n",
       "$list2\n",
       "$list2$A\n",
       "[1] \"Hi\"\n",
       "\n",
       "$list2$B\n",
       "[1] \"Hey\"\n",
       "\n",
       "$list2$C\n",
       "[1] 56\n",
       "\n",
       "$list2$D\n",
       "[1] TRUE\n",
       "\n"
      ]
     },
     "metadata": {},
     "output_type": "display_data"
    }
   ],
   "source": [
    "names(l2) = c('list1',\"list2\")\n",
    "l2"
   ]
  },
  {
   "cell_type": "code",
   "execution_count": 95,
   "id": "weighted-warrior",
   "metadata": {},
   "outputs": [
    {
     "data": {
      "text/html": [
       "<dl>\n",
       "\t<dt>$list1</dt>\n",
       "\t\t<dd><ol>\n",
       "\t<li>1</li>\n",
       "\t<li>2</li>\n",
       "\t<li>3</li>\n",
       "\t<li>4</li>\n",
       "\t<li>5</li>\n",
       "</ol>\n",
       "</dd>\n",
       "\t<dt>$list2</dt>\n",
       "\t\t<dd><dl>\n",
       "\t<dt>$A</dt>\n",
       "\t\t<dd>'Hi'</dd>\n",
       "\t<dt>$B</dt>\n",
       "\t\t<dd>'Hey'</dd>\n",
       "\t<dt>$C</dt>\n",
       "\t\t<dd>56</dd>\n",
       "\t<dt>$D</dt>\n",
       "\t\t<dd>TRUE</dd>\n",
       "</dl>\n",
       "</dd>\n",
       "\t<dt>[[3]]</dt>\n",
       "\t\t<dd>'new'</dd>\n",
       "</dl>\n"
      ],
      "text/latex": [
       "\\begin{description}\n",
       "\\item[\\$list1] \\begin{enumerate}\n",
       "\\item 1\n",
       "\\item 2\n",
       "\\item 3\n",
       "\\item 4\n",
       "\\item 5\n",
       "\\end{enumerate}\n",
       "\n",
       "\\item[\\$list2] \\begin{description}\n",
       "\\item[\\$A] 'Hi'\n",
       "\\item[\\$B] 'Hey'\n",
       "\\item[\\$C] 56\n",
       "\\item[\\$D] TRUE\n",
       "\\end{description}\n",
       "\n",
       "\\item[{[[3]]}] 'new'\n",
       "\\end{description}\n"
      ],
      "text/markdown": [
       "$list1\n",
       ":   1. 1\n",
       "2. 2\n",
       "3. 3\n",
       "4. 4\n",
       "5. 5\n",
       "\n",
       "\n",
       "\n",
       "$list2\n",
       ":   $A\n",
       ":   'Hi'\n",
       "$B\n",
       ":   'Hey'\n",
       "$C\n",
       ":   56\n",
       "$D\n",
       ":   TRUE\n",
       "\n",
       "\n",
       "\n",
       "[[3]]\n",
       ":   'new'\n",
       "\n",
       "\n"
      ],
      "text/plain": [
       "$list1\n",
       "$list1[[1]]\n",
       "[1] 1\n",
       "\n",
       "$list1[[2]]\n",
       "[1] 2\n",
       "\n",
       "$list1[[3]]\n",
       "[1] 3\n",
       "\n",
       "$list1[[4]]\n",
       "[1] 4\n",
       "\n",
       "$list1[[5]]\n",
       "[1] 5\n",
       "\n",
       "\n",
       "$list2\n",
       "$list2$A\n",
       "[1] \"Hi\"\n",
       "\n",
       "$list2$B\n",
       "[1] \"Hey\"\n",
       "\n",
       "$list2$C\n",
       "[1] 56\n",
       "\n",
       "$list2$D\n",
       "[1] TRUE\n",
       "\n",
       "\n",
       "[[3]]\n",
       "[1] \"new\"\n"
      ]
     },
     "metadata": {},
     "output_type": "display_data"
    }
   ],
   "source": [
    "l2[3] = \"new\"\n",
    "l2"
   ]
  },
  {
   "cell_type": "code",
   "execution_count": 97,
   "id": "indirect-pioneer",
   "metadata": {},
   "outputs": [
    {
     "data": {
      "text/html": [
       "<dl>\n",
       "\t<dt>$list1</dt>\n",
       "\t\t<dd><ol>\n",
       "\t<li>1</li>\n",
       "\t<li>2</li>\n",
       "\t<li>3</li>\n",
       "\t<li>4</li>\n",
       "\t<li>5</li>\n",
       "</ol>\n",
       "</dd>\n",
       "\t<dt>$list2</dt>\n",
       "\t\t<dd><dl>\n",
       "\t<dt>$A</dt>\n",
       "\t\t<dd>'Hi'</dd>\n",
       "\t<dt>$B</dt>\n",
       "\t\t<dd>'Hey'</dd>\n",
       "\t<dt>$C</dt>\n",
       "\t\t<dd>56</dd>\n",
       "\t<dt>$D</dt>\n",
       "\t\t<dd>TRUE</dd>\n",
       "</dl>\n",
       "</dd>\n",
       "</dl>\n"
      ],
      "text/latex": [
       "\\begin{description}\n",
       "\\item[\\$list1] \\begin{enumerate}\n",
       "\\item 1\n",
       "\\item 2\n",
       "\\item 3\n",
       "\\item 4\n",
       "\\item 5\n",
       "\\end{enumerate}\n",
       "\n",
       "\\item[\\$list2] \\begin{description}\n",
       "\\item[\\$A] 'Hi'\n",
       "\\item[\\$B] 'Hey'\n",
       "\\item[\\$C] 56\n",
       "\\item[\\$D] TRUE\n",
       "\\end{description}\n",
       "\n",
       "\\end{description}\n"
      ],
      "text/markdown": [
       "$list1\n",
       ":   1. 1\n",
       "2. 2\n",
       "3. 3\n",
       "4. 4\n",
       "5. 5\n",
       "\n",
       "\n",
       "\n",
       "$list2\n",
       ":   $A\n",
       ":   'Hi'\n",
       "$B\n",
       ":   'Hey'\n",
       "$C\n",
       ":   56\n",
       "$D\n",
       ":   TRUE\n",
       "\n",
       "\n",
       "\n",
       "\n",
       "\n"
      ],
      "text/plain": [
       "$list1\n",
       "$list1[[1]]\n",
       "[1] 1\n",
       "\n",
       "$list1[[2]]\n",
       "[1] 2\n",
       "\n",
       "$list1[[3]]\n",
       "[1] 3\n",
       "\n",
       "$list1[[4]]\n",
       "[1] 4\n",
       "\n",
       "$list1[[5]]\n",
       "[1] 5\n",
       "\n",
       "\n",
       "$list2\n",
       "$list2$A\n",
       "[1] \"Hi\"\n",
       "\n",
       "$list2$B\n",
       "[1] \"Hey\"\n",
       "\n",
       "$list2$C\n",
       "[1] 56\n",
       "\n",
       "$list2$D\n",
       "[1] TRUE\n",
       "\n"
      ]
     },
     "metadata": {},
     "output_type": "display_data"
    }
   ],
   "source": [
    "l2[3] = NULL\n",
    "l2"
   ]
  },
  {
   "cell_type": "markdown",
   "id": "stock-idaho",
   "metadata": {},
   "source": [
    "# Summarise function"
   ]
  },
  {
   "cell_type": "code",
   "execution_count": 4,
   "id": "convenient-storage",
   "metadata": {},
   "outputs": [
    {
     "data": {
      "text/html": [
       "<table class=\"dataframe\">\n",
       "<caption>A tibble: 3 × 3</caption>\n",
       "<thead>\n",
       "\t<tr><th scope=col>cyl</th><th scope=col>mean_mpg</th><th scope=col>max_mpg</th></tr>\n",
       "\t<tr><th scope=col>&lt;dbl&gt;</th><th scope=col>&lt;dbl&gt;</th><th scope=col>&lt;dbl&gt;</th></tr>\n",
       "</thead>\n",
       "<tbody>\n",
       "\t<tr><td>4</td><td>26.66364</td><td>33.9</td></tr>\n",
       "\t<tr><td>6</td><td>19.74286</td><td>21.4</td></tr>\n",
       "\t<tr><td>8</td><td>15.10000</td><td>19.2</td></tr>\n",
       "</tbody>\n",
       "</table>\n"
      ],
      "text/latex": [
       "A tibble: 3 × 3\n",
       "\\begin{tabular}{lll}\n",
       " cyl & mean\\_mpg & max\\_mpg\\\\\n",
       " <dbl> & <dbl> & <dbl>\\\\\n",
       "\\hline\n",
       "\t 4 & 26.66364 & 33.9\\\\\n",
       "\t 6 & 19.74286 & 21.4\\\\\n",
       "\t 8 & 15.10000 & 19.2\\\\\n",
       "\\end{tabular}\n"
      ],
      "text/markdown": [
       "\n",
       "A tibble: 3 × 3\n",
       "\n",
       "| cyl &lt;dbl&gt; | mean_mpg &lt;dbl&gt; | max_mpg &lt;dbl&gt; |\n",
       "|---|---|---|\n",
       "| 4 | 26.66364 | 33.9 |\n",
       "| 6 | 19.74286 | 21.4 |\n",
       "| 8 | 15.10000 | 19.2 |\n",
       "\n"
      ],
      "text/plain": [
       "  cyl mean_mpg max_mpg\n",
       "1 4   26.66364 33.9   \n",
       "2 6   19.74286 21.4   \n",
       "3 8   15.10000 19.2   "
      ]
     },
     "metadata": {},
     "output_type": "display_data"
    }
   ],
   "source": [
    "mtcars %>%group_by(cyl) %>% summarise(mean_mpg = mean(mpg),max_mpg= max(mpg))"
   ]
  },
  {
   "cell_type": "code",
   "execution_count": 5,
   "id": "binary-david",
   "metadata": {},
   "outputs": [
    {
     "data": {
      "text/html": [
       "<table class=\"dataframe\">\n",
       "<caption>A data.frame: 1 × 2</caption>\n",
       "<thead>\n",
       "\t<tr><th scope=col>mean_mpg</th><th scope=col>max_mpg</th></tr>\n",
       "\t<tr><th scope=col>&lt;dbl&gt;</th><th scope=col>&lt;dbl&gt;</th></tr>\n",
       "</thead>\n",
       "<tbody>\n",
       "\t<tr><td>20.09062</td><td>33.9</td></tr>\n",
       "</tbody>\n",
       "</table>\n"
      ],
      "text/latex": [
       "A data.frame: 1 × 2\n",
       "\\begin{tabular}{ll}\n",
       " mean\\_mpg & max\\_mpg\\\\\n",
       " <dbl> & <dbl>\\\\\n",
       "\\hline\n",
       "\t 20.09062 & 33.9\\\\\n",
       "\\end{tabular}\n"
      ],
      "text/markdown": [
       "\n",
       "A data.frame: 1 × 2\n",
       "\n",
       "| mean_mpg &lt;dbl&gt; | max_mpg &lt;dbl&gt; |\n",
       "|---|---|\n",
       "| 20.09062 | 33.9 |\n",
       "\n"
      ],
      "text/plain": [
       "  mean_mpg max_mpg\n",
       "1 20.09062 33.9   "
      ]
     },
     "metadata": {},
     "output_type": "display_data"
    }
   ],
   "source": [
    "mtcars %>% summarise(mean_mpg = mean(mpg),max_mpg= max(mpg))"
   ]
  },
  {
   "cell_type": "code",
   "execution_count": 6,
   "id": "legal-matter",
   "metadata": {},
   "outputs": [
    {
     "name": "stderr",
     "output_type": "stream",
     "text": [
      "Warning message:\n",
      "“`summarise_each_()` was deprecated in dplyr 0.7.0.\n",
      "Please use `across()` instead.\n",
      "\u001b[90mThis warning is displayed once every 8 hours.\u001b[39m\n",
      "\u001b[90mCall `lifecycle::last_warnings()` to see where this warning was generated.\u001b[39m”\n",
      "Warning message:\n",
      "“`funs()` was deprecated in dplyr 0.8.0.\n",
      "Please use a list of either functions or lambdas: \n",
      "\n",
      "  # Simple named list: \n",
      "  list(mean = mean, median = median)\n",
      "\n",
      "  # Auto named with `tibble::lst()`: \n",
      "  tibble::lst(mean, median)\n",
      "\n",
      "  # Using lambdas\n",
      "  list(~ mean(., trim = .2), ~ median(., na.rm = TRUE))\n",
      "\u001b[90mThis warning is displayed once every 8 hours.\u001b[39m\n",
      "\u001b[90mCall `lifecycle::last_warnings()` to see where this warning was generated.\u001b[39m”\n"
     ]
    },
    {
     "data": {
      "text/html": [
       "<table class=\"dataframe\">\n",
       "<caption>A tibble: 3 × 3</caption>\n",
       "<thead>\n",
       "\t<tr><th scope=col>cyl</th><th scope=col>max</th><th scope=col>min</th></tr>\n",
       "\t<tr><th scope=col>&lt;dbl&gt;</th><th scope=col>&lt;dbl&gt;</th><th scope=col>&lt;dbl&gt;</th></tr>\n",
       "</thead>\n",
       "<tbody>\n",
       "\t<tr><td>4</td><td>33.9</td><td>21.4</td></tr>\n",
       "\t<tr><td>6</td><td>21.4</td><td>17.8</td></tr>\n",
       "\t<tr><td>8</td><td>19.2</td><td>10.4</td></tr>\n",
       "</tbody>\n",
       "</table>\n"
      ],
      "text/latex": [
       "A tibble: 3 × 3\n",
       "\\begin{tabular}{lll}\n",
       " cyl & max & min\\\\\n",
       " <dbl> & <dbl> & <dbl>\\\\\n",
       "\\hline\n",
       "\t 4 & 33.9 & 21.4\\\\\n",
       "\t 6 & 21.4 & 17.8\\\\\n",
       "\t 8 & 19.2 & 10.4\\\\\n",
       "\\end{tabular}\n"
      ],
      "text/markdown": [
       "\n",
       "A tibble: 3 × 3\n",
       "\n",
       "| cyl &lt;dbl&gt; | max &lt;dbl&gt; | min &lt;dbl&gt; |\n",
       "|---|---|---|\n",
       "| 4 | 33.9 | 21.4 |\n",
       "| 6 | 21.4 | 17.8 |\n",
       "| 8 | 19.2 | 10.4 |\n",
       "\n"
      ],
      "text/plain": [
       "  cyl max  min \n",
       "1 4   33.9 21.4\n",
       "2 6   21.4 17.8\n",
       "3 8   19.2 10.4"
      ]
     },
     "metadata": {},
     "output_type": "display_data"
    }
   ],
   "source": [
    "mtcars %>%group_by(cyl) %>% summarise_each(funs(max,min),mpg)"
   ]
  },
  {
   "cell_type": "code",
   "execution_count": 7,
   "id": "faced-action",
   "metadata": {},
   "outputs": [
    {
     "data": {
      "text/html": [
       "<table class=\"dataframe\">\n",
       "<caption>A data.frame: 1 × 2</caption>\n",
       "<thead>\n",
       "\t<tr><th scope=col>max</th><th scope=col>min</th></tr>\n",
       "\t<tr><th scope=col>&lt;dbl&gt;</th><th scope=col>&lt;dbl&gt;</th></tr>\n",
       "</thead>\n",
       "<tbody>\n",
       "\t<tr><td>33.9</td><td>10.4</td></tr>\n",
       "</tbody>\n",
       "</table>\n"
      ],
      "text/latex": [
       "A data.frame: 1 × 2\n",
       "\\begin{tabular}{ll}\n",
       " max & min\\\\\n",
       " <dbl> & <dbl>\\\\\n",
       "\\hline\n",
       "\t 33.9 & 10.4\\\\\n",
       "\\end{tabular}\n"
      ],
      "text/markdown": [
       "\n",
       "A data.frame: 1 × 2\n",
       "\n",
       "| max &lt;dbl&gt; | min &lt;dbl&gt; |\n",
       "|---|---|\n",
       "| 33.9 | 10.4 |\n",
       "\n"
      ],
      "text/plain": [
       "  max  min \n",
       "1 33.9 10.4"
      ]
     },
     "metadata": {},
     "output_type": "display_data"
    }
   ],
   "source": [
    "mtcars %>% summarise_each(funs(max,min),mpg)"
   ]
  },
  {
   "cell_type": "code",
   "execution_count": 8,
   "id": "million-tennis",
   "metadata": {},
   "outputs": [
    {
     "data": {
      "text/html": [
       "<table class=\"dataframe\">\n",
       "<caption>A data.frame: 1 × 4</caption>\n",
       "<thead>\n",
       "\t<tr><th scope=col>mpg_max</th><th scope=col>disp_max</th><th scope=col>mpg_min</th><th scope=col>disp_min</th></tr>\n",
       "\t<tr><th scope=col>&lt;dbl&gt;</th><th scope=col>&lt;dbl&gt;</th><th scope=col>&lt;dbl&gt;</th><th scope=col>&lt;dbl&gt;</th></tr>\n",
       "</thead>\n",
       "<tbody>\n",
       "\t<tr><td>33.9</td><td>472</td><td>10.4</td><td>71.1</td></tr>\n",
       "</tbody>\n",
       "</table>\n"
      ],
      "text/latex": [
       "A data.frame: 1 × 4\n",
       "\\begin{tabular}{llll}\n",
       " mpg\\_max & disp\\_max & mpg\\_min & disp\\_min\\\\\n",
       " <dbl> & <dbl> & <dbl> & <dbl>\\\\\n",
       "\\hline\n",
       "\t 33.9 & 472 & 10.4 & 71.1\\\\\n",
       "\\end{tabular}\n"
      ],
      "text/markdown": [
       "\n",
       "A data.frame: 1 × 4\n",
       "\n",
       "| mpg_max &lt;dbl&gt; | disp_max &lt;dbl&gt; | mpg_min &lt;dbl&gt; | disp_min &lt;dbl&gt; |\n",
       "|---|---|---|---|\n",
       "| 33.9 | 472 | 10.4 | 71.1 |\n",
       "\n"
      ],
      "text/plain": [
       "  mpg_max disp_max mpg_min disp_min\n",
       "1 33.9    472      10.4    71.1    "
      ]
     },
     "metadata": {},
     "output_type": "display_data"
    }
   ],
   "source": [
    "mtcars %>% summarise_each(funs(max,min),mpg,disp)"
   ]
  },
  {
   "cell_type": "code",
   "execution_count": 9,
   "id": "casual-inspection",
   "metadata": {},
   "outputs": [
    {
     "data": {
      "text/html": [
       "<table class=\"dataframe\">\n",
       "<caption>A data.frame: 1 × 4</caption>\n",
       "<thead>\n",
       "\t<tr><th scope=col>max_MPG</th><th scope=col>max_DISP</th><th scope=col>min_MPG</th><th scope=col>min_DISP</th></tr>\n",
       "\t<tr><th scope=col>&lt;dbl&gt;</th><th scope=col>&lt;dbl&gt;</th><th scope=col>&lt;dbl&gt;</th><th scope=col>&lt;dbl&gt;</th></tr>\n",
       "</thead>\n",
       "<tbody>\n",
       "\t<tr><td>33.9</td><td>472</td><td>10.4</td><td>71.1</td></tr>\n",
       "</tbody>\n",
       "</table>\n"
      ],
      "text/latex": [
       "A data.frame: 1 × 4\n",
       "\\begin{tabular}{llll}\n",
       " max\\_MPG & max\\_DISP & min\\_MPG & min\\_DISP\\\\\n",
       " <dbl> & <dbl> & <dbl> & <dbl>\\\\\n",
       "\\hline\n",
       "\t 33.9 & 472 & 10.4 & 71.1\\\\\n",
       "\\end{tabular}\n"
      ],
      "text/markdown": [
       "\n",
       "A data.frame: 1 × 4\n",
       "\n",
       "| max_MPG &lt;dbl&gt; | max_DISP &lt;dbl&gt; | min_MPG &lt;dbl&gt; | min_DISP &lt;dbl&gt; |\n",
       "|---|---|---|---|\n",
       "| 33.9 | 472 | 10.4 | 71.1 |\n",
       "\n"
      ],
      "text/plain": [
       "  max_MPG max_DISP min_MPG min_DISP\n",
       "1 33.9    472      10.4    71.1    "
      ]
     },
     "metadata": {},
     "output_type": "display_data"
    }
   ],
   "source": [
    "#setNames\n",
    "mtcars %>% summarise_each(funs(max,min),mpg,disp) %>% setNames(c(\"max_MPG\",\"max_DISP\",'min_MPG','min_DISP'))"
   ]
  },
  {
   "cell_type": "markdown",
   "id": "bottom-mineral",
   "metadata": {},
   "source": [
    "# Apply functions\n",
    "- apply()\n",
    "- sapply()\n",
    "- tapply()\n",
    "- lapply()"
   ]
  },
  {
   "cell_type": "code",
   "execution_count": 10,
   "id": "literary-origin",
   "metadata": {},
   "outputs": [
    {
     "data": {
      "text/html": [
       "<table class=\"dataframe\">\n",
       "<caption>A data.frame: 15 × 2</caption>\n",
       "<thead>\n",
       "\t<tr><th scope=col>height</th><th scope=col>weight</th></tr>\n",
       "\t<tr><th scope=col>&lt;dbl&gt;</th><th scope=col>&lt;dbl&gt;</th></tr>\n",
       "</thead>\n",
       "<tbody>\n",
       "\t<tr><td>58</td><td>115</td></tr>\n",
       "\t<tr><td>59</td><td>117</td></tr>\n",
       "\t<tr><td>60</td><td>120</td></tr>\n",
       "\t<tr><td>61</td><td>123</td></tr>\n",
       "\t<tr><td>62</td><td>126</td></tr>\n",
       "\t<tr><td>63</td><td>129</td></tr>\n",
       "\t<tr><td>64</td><td>132</td></tr>\n",
       "\t<tr><td>65</td><td>135</td></tr>\n",
       "\t<tr><td>66</td><td>139</td></tr>\n",
       "\t<tr><td>67</td><td>142</td></tr>\n",
       "\t<tr><td>68</td><td>146</td></tr>\n",
       "\t<tr><td>69</td><td>150</td></tr>\n",
       "\t<tr><td>70</td><td>154</td></tr>\n",
       "\t<tr><td>71</td><td>159</td></tr>\n",
       "\t<tr><td>72</td><td>164</td></tr>\n",
       "</tbody>\n",
       "</table>\n"
      ],
      "text/latex": [
       "A data.frame: 15 × 2\n",
       "\\begin{tabular}{ll}\n",
       " height & weight\\\\\n",
       " <dbl> & <dbl>\\\\\n",
       "\\hline\n",
       "\t 58 & 115\\\\\n",
       "\t 59 & 117\\\\\n",
       "\t 60 & 120\\\\\n",
       "\t 61 & 123\\\\\n",
       "\t 62 & 126\\\\\n",
       "\t 63 & 129\\\\\n",
       "\t 64 & 132\\\\\n",
       "\t 65 & 135\\\\\n",
       "\t 66 & 139\\\\\n",
       "\t 67 & 142\\\\\n",
       "\t 68 & 146\\\\\n",
       "\t 69 & 150\\\\\n",
       "\t 70 & 154\\\\\n",
       "\t 71 & 159\\\\\n",
       "\t 72 & 164\\\\\n",
       "\\end{tabular}\n"
      ],
      "text/markdown": [
       "\n",
       "A data.frame: 15 × 2\n",
       "\n",
       "| height &lt;dbl&gt; | weight &lt;dbl&gt; |\n",
       "|---|---|\n",
       "| 58 | 115 |\n",
       "| 59 | 117 |\n",
       "| 60 | 120 |\n",
       "| 61 | 123 |\n",
       "| 62 | 126 |\n",
       "| 63 | 129 |\n",
       "| 64 | 132 |\n",
       "| 65 | 135 |\n",
       "| 66 | 139 |\n",
       "| 67 | 142 |\n",
       "| 68 | 146 |\n",
       "| 69 | 150 |\n",
       "| 70 | 154 |\n",
       "| 71 | 159 |\n",
       "| 72 | 164 |\n",
       "\n"
      ],
      "text/plain": [
       "   height weight\n",
       "1  58     115   \n",
       "2  59     117   \n",
       "3  60     120   \n",
       "4  61     123   \n",
       "5  62     126   \n",
       "6  63     129   \n",
       "7  64     132   \n",
       "8  65     135   \n",
       "9  66     139   \n",
       "10 67     142   \n",
       "11 68     146   \n",
       "12 69     150   \n",
       "13 70     154   \n",
       "14 71     159   \n",
       "15 72     164   "
      ]
     },
     "metadata": {},
     "output_type": "display_data"
    }
   ],
   "source": [
    "women"
   ]
  },
  {
   "cell_type": "code",
   "execution_count": 13,
   "id": "ruled-hawaiian",
   "metadata": {},
   "outputs": [
    {
     "data": {
      "text/html": [
       "<style>\n",
       ".dl-inline {width: auto; margin:0; padding: 0}\n",
       ".dl-inline>dt, .dl-inline>dd {float: none; width: auto; display: inline-block}\n",
       ".dl-inline>dt::after {content: \":\\0020\"; padding-right: .5ex}\n",
       ".dl-inline>dt:not(:first-of-type) {padding-left: .5ex}\n",
       "</style><dl class=dl-inline><dt>height</dt><dd>65</dd><dt>weight</dt><dd>136.733333333333</dd></dl>\n"
      ],
      "text/latex": [
       "\\begin{description*}\n",
       "\\item[height] 65\n",
       "\\item[weight] 136.733333333333\n",
       "\\end{description*}\n"
      ],
      "text/markdown": [
       "height\n",
       ":   65weight\n",
       ":   136.733333333333\n",
       "\n"
      ],
      "text/plain": [
       "  height   weight \n",
       " 65.0000 136.7333 "
      ]
     },
     "metadata": {},
     "output_type": "display_data"
    }
   ],
   "source": [
    "apply(women,2,mean)\n",
    "# 1 for row-wise, 2 for column-wise"
   ]
  },
  {
   "cell_type": "markdown",
   "id": "cleared-amazon",
   "metadata": {},
   "source": [
    "### sapply\n",
    "- takeslist/dataframe vector is output"
   ]
  },
  {
   "cell_type": "code",
   "execution_count": 14,
   "id": "devoted-extraction",
   "metadata": {},
   "outputs": [
    {
     "data": {
      "text/html": [
       "<style>\n",
       ".dl-inline {width: auto; margin:0; padding: 0}\n",
       ".dl-inline>dt, .dl-inline>dd {float: none; width: auto; display: inline-block}\n",
       ".dl-inline>dt::after {content: \":\\0020\"; padding-right: .5ex}\n",
       ".dl-inline>dt:not(:first-of-type) {padding-left: .5ex}\n",
       "</style><dl class=dl-inline><dt>height</dt><dd>58</dd><dt>weight</dt><dd>115</dd></dl>\n"
      ],
      "text/latex": [
       "\\begin{description*}\n",
       "\\item[height] 58\n",
       "\\item[weight] 115\n",
       "\\end{description*}\n"
      ],
      "text/markdown": [
       "height\n",
       ":   58weight\n",
       ":   115\n",
       "\n"
      ],
      "text/plain": [
       "height weight \n",
       "    58    115 "
      ]
     },
     "metadata": {},
     "output_type": "display_data"
    }
   ],
   "source": [
    "sapply(women,min)"
   ]
  },
  {
   "cell_type": "markdown",
   "id": "specialized-knock",
   "metadata": {},
   "source": [
    "### lapply\n",
    "- output will be list"
   ]
  },
  {
   "cell_type": "code",
   "execution_count": 15,
   "id": "criminal-platinum",
   "metadata": {},
   "outputs": [
    {
     "data": {
      "text/html": [
       "<dl>\n",
       "\t<dt>$height</dt>\n",
       "\t\t<dd>65</dd>\n",
       "\t<dt>$weight</dt>\n",
       "\t\t<dd>136.733333333333</dd>\n",
       "</dl>\n"
      ],
      "text/latex": [
       "\\begin{description}\n",
       "\\item[\\$height] 65\n",
       "\\item[\\$weight] 136.733333333333\n",
       "\\end{description}\n"
      ],
      "text/markdown": [
       "$height\n",
       ":   65\n",
       "$weight\n",
       ":   136.733333333333\n",
       "\n",
       "\n"
      ],
      "text/plain": [
       "$height\n",
       "[1] 65\n",
       "\n",
       "$weight\n",
       "[1] 136.7333\n"
      ]
     },
     "metadata": {},
     "output_type": "display_data"
    }
   ],
   "source": [
    "lapply(women,mean)"
   ]
  },
  {
   "cell_type": "markdown",
   "id": "impaired-switch",
   "metadata": {},
   "source": [
    "### tapply\n",
    "- subset of a vector"
   ]
  },
  {
   "cell_type": "code",
   "execution_count": 19,
   "id": "suffering-thought",
   "metadata": {},
   "outputs": [
    {
     "data": {
      "text/html": [
       "<style>\n",
       ".dl-inline {width: auto; margin:0; padding: 0}\n",
       ".dl-inline>dt, .dl-inline>dd {float: none; width: auto; display: inline-block}\n",
       ".dl-inline>dt::after {content: \":\\0020\"; padding-right: .5ex}\n",
       ".dl-inline>dt:not(:first-of-type) {padding-left: .5ex}\n",
       "</style><dl class=dl-inline><dt>setosa</dt><dd>0.246</dd><dt>versicolor</dt><dd>1.326</dd><dt>virginica</dt><dd>2.026</dd></dl>\n"
      ],
      "text/latex": [
       "\\begin{description*}\n",
       "\\item[setosa] 0.246\n",
       "\\item[versicolor] 1.326\n",
       "\\item[virginica] 2.026\n",
       "\\end{description*}\n"
      ],
      "text/markdown": [
       "setosa\n",
       ":   0.246versicolor\n",
       ":   1.326virginica\n",
       ":   2.026\n",
       "\n"
      ],
      "text/plain": [
       "    setosa versicolor  virginica \n",
       "     0.246      1.326      2.026 "
      ]
     },
     "metadata": {},
     "output_type": "display_data"
    }
   ],
   "source": [
    "#tapply(vector,index,function)\n",
    "tapply(iris$Petal.Width,iris$Species,mean)"
   ]
  },
  {
   "cell_type": "markdown",
   "id": "answering-drunk",
   "metadata": {},
   "source": [
    "# MAP function\n",
    "|function|output|\n",
    "|:-------:|:-----:|\n",
    "|map(.x,.f)|list|\n",
    "|map_dbl(.x,.f)|numeric vector|\n",
    "|map_chr(.x,.f)|character vector|\n",
    "|map_lgl(.x,.f)|logical vector|\n",
    "|map_df(.x,.f)|data frame|\n",
    "\n",
    "- `map(input,function)`"
   ]
  },
  {
   "cell_type": "code",
   "execution_count": 23,
   "id": "digital-saver",
   "metadata": {},
   "outputs": [
    {
     "data": {
      "text/html": [
       "<ol>\n",
       "\t<li>101</li>\n",
       "\t<li>112</li>\n",
       "\t<li>106</li>\n",
       "\t<li>135</li>\n",
       "</ol>\n"
      ],
      "text/latex": [
       "\\begin{enumerate}\n",
       "\\item 101\n",
       "\\item 112\n",
       "\\item 106\n",
       "\\item 135\n",
       "\\end{enumerate}\n"
      ],
      "text/markdown": [
       "1. 101\n",
       "2. 112\n",
       "3. 106\n",
       "4. 135\n",
       "\n",
       "\n"
      ],
      "text/plain": [
       "[[1]]\n",
       "[1] 101\n",
       "\n",
       "[[2]]\n",
       "[1] 112\n",
       "\n",
       "[[3]]\n",
       "[1] 106\n",
       "\n",
       "[[4]]\n",
       "[1] 135\n"
      ]
     },
     "metadata": {},
     "output_type": "display_data"
    }
   ],
   "source": [
    "add= function(x){\n",
    "    x = x + 100\n",
    "    return(x)\n",
    "}\n",
    "map(c(1,12,6,35),add)"
   ]
  },
  {
   "cell_type": "code",
   "execution_count": 24,
   "id": "prescription-meeting",
   "metadata": {},
   "outputs": [
    {
     "data": {
      "text/html": [
       "<style>\n",
       ".list-inline {list-style: none; margin:0; padding: 0}\n",
       ".list-inline>li {display: inline-block}\n",
       ".list-inline>li:not(:last-child)::after {content: \"\\00b7\"; padding: 0 .5ex}\n",
       "</style>\n",
       "<ol class=list-inline><li>'101.000000'</li><li>'112.000000'</li><li>'106.000000'</li><li>'135.000000'</li></ol>\n"
      ],
      "text/latex": [
       "\\begin{enumerate*}\n",
       "\\item '101.000000'\n",
       "\\item '112.000000'\n",
       "\\item '106.000000'\n",
       "\\item '135.000000'\n",
       "\\end{enumerate*}\n"
      ],
      "text/markdown": [
       "1. '101.000000'\n",
       "2. '112.000000'\n",
       "3. '106.000000'\n",
       "4. '135.000000'\n",
       "\n",
       "\n"
      ],
      "text/plain": [
       "[1] \"101.000000\" \"112.000000\" \"106.000000\" \"135.000000\""
      ]
     },
     "metadata": {},
     "output_type": "display_data"
    }
   ],
   "source": [
    "map_chr(c(1,12,6,35),add)"
   ]
  },
  {
   "cell_type": "markdown",
   "id": "boring-estimate",
   "metadata": {},
   "source": [
    "# DPLYR"
   ]
  },
  {
   "cell_type": "markdown",
   "id": "institutional-terror",
   "metadata": {},
   "source": [
    "### select()\n",
    "- select(dataset,variables1,2,3,...)"
   ]
  },
  {
   "cell_type": "code",
   "execution_count": 26,
   "id": "coated-youth",
   "metadata": {},
   "outputs": [
    {
     "data": {
      "text/html": [
       "<table class=\"dataframe\">\n",
       "<caption>A data.frame: 6 × 3</caption>\n",
       "<thead>\n",
       "\t<tr><th></th><th scope=col>Sepal.Length</th><th scope=col>Sepal.Width</th><th scope=col>Petal.Length</th></tr>\n",
       "\t<tr><th></th><th scope=col>&lt;dbl&gt;</th><th scope=col>&lt;dbl&gt;</th><th scope=col>&lt;dbl&gt;</th></tr>\n",
       "</thead>\n",
       "<tbody>\n",
       "\t<tr><th scope=row>1</th><td>5.1</td><td>3.5</td><td>1.4</td></tr>\n",
       "\t<tr><th scope=row>2</th><td>4.9</td><td>3.0</td><td>1.4</td></tr>\n",
       "\t<tr><th scope=row>3</th><td>4.7</td><td>3.2</td><td>1.3</td></tr>\n",
       "\t<tr><th scope=row>4</th><td>4.6</td><td>3.1</td><td>1.5</td></tr>\n",
       "\t<tr><th scope=row>5</th><td>5.0</td><td>3.6</td><td>1.4</td></tr>\n",
       "\t<tr><th scope=row>6</th><td>5.4</td><td>3.9</td><td>1.7</td></tr>\n",
       "</tbody>\n",
       "</table>\n"
      ],
      "text/latex": [
       "A data.frame: 6 × 3\n",
       "\\begin{tabular}{r|lll}\n",
       "  & Sepal.Length & Sepal.Width & Petal.Length\\\\\n",
       "  & <dbl> & <dbl> & <dbl>\\\\\n",
       "\\hline\n",
       "\t1 & 5.1 & 3.5 & 1.4\\\\\n",
       "\t2 & 4.9 & 3.0 & 1.4\\\\\n",
       "\t3 & 4.7 & 3.2 & 1.3\\\\\n",
       "\t4 & 4.6 & 3.1 & 1.5\\\\\n",
       "\t5 & 5.0 & 3.6 & 1.4\\\\\n",
       "\t6 & 5.4 & 3.9 & 1.7\\\\\n",
       "\\end{tabular}\n"
      ],
      "text/markdown": [
       "\n",
       "A data.frame: 6 × 3\n",
       "\n",
       "| <!--/--> | Sepal.Length &lt;dbl&gt; | Sepal.Width &lt;dbl&gt; | Petal.Length &lt;dbl&gt; |\n",
       "|---|---|---|---|\n",
       "| 1 | 5.1 | 3.5 | 1.4 |\n",
       "| 2 | 4.9 | 3.0 | 1.4 |\n",
       "| 3 | 4.7 | 3.2 | 1.3 |\n",
       "| 4 | 4.6 | 3.1 | 1.5 |\n",
       "| 5 | 5.0 | 3.6 | 1.4 |\n",
       "| 6 | 5.4 | 3.9 | 1.7 |\n",
       "\n"
      ],
      "text/plain": [
       "  Sepal.Length Sepal.Width Petal.Length\n",
       "1 5.1          3.5         1.4         \n",
       "2 4.9          3.0         1.4         \n",
       "3 4.7          3.2         1.3         \n",
       "4 4.6          3.1         1.5         \n",
       "5 5.0          3.6         1.4         \n",
       "6 5.4          3.9         1.7         "
      ]
     },
     "metadata": {},
     "output_type": "display_data"
    }
   ],
   "source": [
    "a1 = select(iris,Sepal.Length,Sepal.Width,Petal.Length)\n",
    "head(a1)"
   ]
  },
  {
   "cell_type": "code",
   "execution_count": 27,
   "id": "apart-teach",
   "metadata": {},
   "outputs": [
    {
     "data": {
      "text/html": [
       "<table class=\"dataframe\">\n",
       "<caption>A data.frame: 6 × 3</caption>\n",
       "<thead>\n",
       "\t<tr><th></th><th scope=col>Sepal.Length</th><th scope=col>Sepal.Width</th><th scope=col>Petal.Length</th></tr>\n",
       "\t<tr><th></th><th scope=col>&lt;dbl&gt;</th><th scope=col>&lt;dbl&gt;</th><th scope=col>&lt;dbl&gt;</th></tr>\n",
       "</thead>\n",
       "<tbody>\n",
       "\t<tr><th scope=row>1</th><td>5.1</td><td>3.5</td><td>1.4</td></tr>\n",
       "\t<tr><th scope=row>2</th><td>4.9</td><td>3.0</td><td>1.4</td></tr>\n",
       "\t<tr><th scope=row>3</th><td>4.7</td><td>3.2</td><td>1.3</td></tr>\n",
       "\t<tr><th scope=row>4</th><td>4.6</td><td>3.1</td><td>1.5</td></tr>\n",
       "\t<tr><th scope=row>5</th><td>5.0</td><td>3.6</td><td>1.4</td></tr>\n",
       "\t<tr><th scope=row>6</th><td>5.4</td><td>3.9</td><td>1.7</td></tr>\n",
       "</tbody>\n",
       "</table>\n"
      ],
      "text/latex": [
       "A data.frame: 6 × 3\n",
       "\\begin{tabular}{r|lll}\n",
       "  & Sepal.Length & Sepal.Width & Petal.Length\\\\\n",
       "  & <dbl> & <dbl> & <dbl>\\\\\n",
       "\\hline\n",
       "\t1 & 5.1 & 3.5 & 1.4\\\\\n",
       "\t2 & 4.9 & 3.0 & 1.4\\\\\n",
       "\t3 & 4.7 & 3.2 & 1.3\\\\\n",
       "\t4 & 4.6 & 3.1 & 1.5\\\\\n",
       "\t5 & 5.0 & 3.6 & 1.4\\\\\n",
       "\t6 & 5.4 & 3.9 & 1.7\\\\\n",
       "\\end{tabular}\n"
      ],
      "text/markdown": [
       "\n",
       "A data.frame: 6 × 3\n",
       "\n",
       "| <!--/--> | Sepal.Length &lt;dbl&gt; | Sepal.Width &lt;dbl&gt; | Petal.Length &lt;dbl&gt; |\n",
       "|---|---|---|---|\n",
       "| 1 | 5.1 | 3.5 | 1.4 |\n",
       "| 2 | 4.9 | 3.0 | 1.4 |\n",
       "| 3 | 4.7 | 3.2 | 1.3 |\n",
       "| 4 | 4.6 | 3.1 | 1.5 |\n",
       "| 5 | 5.0 | 3.6 | 1.4 |\n",
       "| 6 | 5.4 | 3.9 | 1.7 |\n",
       "\n"
      ],
      "text/plain": [
       "  Sepal.Length Sepal.Width Petal.Length\n",
       "1 5.1          3.5         1.4         \n",
       "2 4.9          3.0         1.4         \n",
       "3 4.7          3.2         1.3         \n",
       "4 4.6          3.1         1.5         \n",
       "5 5.0          3.6         1.4         \n",
       "6 5.4          3.9         1.7         "
      ]
     },
     "metadata": {},
     "output_type": "display_data"
    }
   ],
   "source": [
    "a2 = select(iris,1,2,3)\n",
    "head(a2)"
   ]
  },
  {
   "cell_type": "code",
   "execution_count": 31,
   "id": "sharp-island",
   "metadata": {},
   "outputs": [
    {
     "data": {
      "text/html": [
       "<table class=\"dataframe\">\n",
       "<caption>A data.frame: 6 × 3</caption>\n",
       "<thead>\n",
       "\t<tr><th></th><th scope=col>Sepal.Length</th><th scope=col>Sepal.Width</th><th scope=col>Petal.Length</th></tr>\n",
       "\t<tr><th></th><th scope=col>&lt;dbl&gt;</th><th scope=col>&lt;dbl&gt;</th><th scope=col>&lt;dbl&gt;</th></tr>\n",
       "</thead>\n",
       "<tbody>\n",
       "\t<tr><th scope=row>1</th><td>5.1</td><td>3.5</td><td>1.4</td></tr>\n",
       "\t<tr><th scope=row>2</th><td>4.9</td><td>3.0</td><td>1.4</td></tr>\n",
       "\t<tr><th scope=row>3</th><td>4.7</td><td>3.2</td><td>1.3</td></tr>\n",
       "\t<tr><th scope=row>4</th><td>4.6</td><td>3.1</td><td>1.5</td></tr>\n",
       "\t<tr><th scope=row>5</th><td>5.0</td><td>3.6</td><td>1.4</td></tr>\n",
       "\t<tr><th scope=row>6</th><td>5.4</td><td>3.9</td><td>1.7</td></tr>\n",
       "</tbody>\n",
       "</table>\n"
      ],
      "text/latex": [
       "A data.frame: 6 × 3\n",
       "\\begin{tabular}{r|lll}\n",
       "  & Sepal.Length & Sepal.Width & Petal.Length\\\\\n",
       "  & <dbl> & <dbl> & <dbl>\\\\\n",
       "\\hline\n",
       "\t1 & 5.1 & 3.5 & 1.4\\\\\n",
       "\t2 & 4.9 & 3.0 & 1.4\\\\\n",
       "\t3 & 4.7 & 3.2 & 1.3\\\\\n",
       "\t4 & 4.6 & 3.1 & 1.5\\\\\n",
       "\t5 & 5.0 & 3.6 & 1.4\\\\\n",
       "\t6 & 5.4 & 3.9 & 1.7\\\\\n",
       "\\end{tabular}\n"
      ],
      "text/markdown": [
       "\n",
       "A data.frame: 6 × 3\n",
       "\n",
       "| <!--/--> | Sepal.Length &lt;dbl&gt; | Sepal.Width &lt;dbl&gt; | Petal.Length &lt;dbl&gt; |\n",
       "|---|---|---|---|\n",
       "| 1 | 5.1 | 3.5 | 1.4 |\n",
       "| 2 | 4.9 | 3.0 | 1.4 |\n",
       "| 3 | 4.7 | 3.2 | 1.3 |\n",
       "| 4 | 4.6 | 3.1 | 1.5 |\n",
       "| 5 | 5.0 | 3.6 | 1.4 |\n",
       "| 6 | 5.4 | 3.9 | 1.7 |\n",
       "\n"
      ],
      "text/plain": [
       "  Sepal.Length Sepal.Width Petal.Length\n",
       "1 5.1          3.5         1.4         \n",
       "2 4.9          3.0         1.4         \n",
       "3 4.7          3.2         1.3         \n",
       "4 4.6          3.1         1.5         \n",
       "5 5.0          3.6         1.4         \n",
       "6 5.4          3.9         1.7         "
      ]
     },
     "metadata": {},
     "output_type": "display_data"
    }
   ],
   "source": [
    "select(iris,1:3) %>% head"
   ]
  },
  {
   "cell_type": "code",
   "execution_count": 29,
   "id": "municipal-setup",
   "metadata": {},
   "outputs": [
    {
     "data": {
      "text/html": [
       "<table class=\"dataframe\">\n",
       "<caption>A data.frame: 6 × 2</caption>\n",
       "<thead>\n",
       "\t<tr><th></th><th scope=col>Sepal.Length</th><th scope=col>Petal.Length</th></tr>\n",
       "\t<tr><th></th><th scope=col>&lt;dbl&gt;</th><th scope=col>&lt;dbl&gt;</th></tr>\n",
       "</thead>\n",
       "<tbody>\n",
       "\t<tr><th scope=row>1</th><td>5.1</td><td>1.4</td></tr>\n",
       "\t<tr><th scope=row>2</th><td>4.9</td><td>1.4</td></tr>\n",
       "\t<tr><th scope=row>3</th><td>4.7</td><td>1.3</td></tr>\n",
       "\t<tr><th scope=row>4</th><td>4.6</td><td>1.5</td></tr>\n",
       "\t<tr><th scope=row>5</th><td>5.0</td><td>1.4</td></tr>\n",
       "\t<tr><th scope=row>6</th><td>5.4</td><td>1.7</td></tr>\n",
       "</tbody>\n",
       "</table>\n"
      ],
      "text/latex": [
       "A data.frame: 6 × 2\n",
       "\\begin{tabular}{r|ll}\n",
       "  & Sepal.Length & Petal.Length\\\\\n",
       "  & <dbl> & <dbl>\\\\\n",
       "\\hline\n",
       "\t1 & 5.1 & 1.4\\\\\n",
       "\t2 & 4.9 & 1.4\\\\\n",
       "\t3 & 4.7 & 1.3\\\\\n",
       "\t4 & 4.6 & 1.5\\\\\n",
       "\t5 & 5.0 & 1.4\\\\\n",
       "\t6 & 5.4 & 1.7\\\\\n",
       "\\end{tabular}\n"
      ],
      "text/markdown": [
       "\n",
       "A data.frame: 6 × 2\n",
       "\n",
       "| <!--/--> | Sepal.Length &lt;dbl&gt; | Petal.Length &lt;dbl&gt; |\n",
       "|---|---|---|\n",
       "| 1 | 5.1 | 1.4 |\n",
       "| 2 | 4.9 | 1.4 |\n",
       "| 3 | 4.7 | 1.3 |\n",
       "| 4 | 4.6 | 1.5 |\n",
       "| 5 | 5.0 | 1.4 |\n",
       "| 6 | 5.4 | 1.7 |\n",
       "\n"
      ],
      "text/plain": [
       "  Sepal.Length Petal.Length\n",
       "1 5.1          1.4         \n",
       "2 4.9          1.4         \n",
       "3 4.7          1.3         \n",
       "4 4.6          1.5         \n",
       "5 5.0          1.4         \n",
       "6 5.4          1.7         "
      ]
     },
     "metadata": {},
     "output_type": "display_data"
    }
   ],
   "source": [
    "select(iris,contains(\"Length\")) %>% head()"
   ]
  },
  {
   "cell_type": "code",
   "execution_count": 33,
   "id": "lyric-consideration",
   "metadata": {},
   "outputs": [
    {
     "data": {
      "text/html": [
       "<table class=\"dataframe\">\n",
       "<caption>A data.frame: 6 × 2</caption>\n",
       "<thead>\n",
       "\t<tr><th></th><th scope=col>Sepal.Length</th><th scope=col>Sepal.Width</th></tr>\n",
       "\t<tr><th></th><th scope=col>&lt;dbl&gt;</th><th scope=col>&lt;dbl&gt;</th></tr>\n",
       "</thead>\n",
       "<tbody>\n",
       "\t<tr><th scope=row>1</th><td>5.1</td><td>3.5</td></tr>\n",
       "\t<tr><th scope=row>2</th><td>4.9</td><td>3.0</td></tr>\n",
       "\t<tr><th scope=row>3</th><td>4.7</td><td>3.2</td></tr>\n",
       "\t<tr><th scope=row>4</th><td>4.6</td><td>3.1</td></tr>\n",
       "\t<tr><th scope=row>5</th><td>5.0</td><td>3.6</td></tr>\n",
       "\t<tr><th scope=row>6</th><td>5.4</td><td>3.9</td></tr>\n",
       "</tbody>\n",
       "</table>\n"
      ],
      "text/latex": [
       "A data.frame: 6 × 2\n",
       "\\begin{tabular}{r|ll}\n",
       "  & Sepal.Length & Sepal.Width\\\\\n",
       "  & <dbl> & <dbl>\\\\\n",
       "\\hline\n",
       "\t1 & 5.1 & 3.5\\\\\n",
       "\t2 & 4.9 & 3.0\\\\\n",
       "\t3 & 4.7 & 3.2\\\\\n",
       "\t4 & 4.6 & 3.1\\\\\n",
       "\t5 & 5.0 & 3.6\\\\\n",
       "\t6 & 5.4 & 3.9\\\\\n",
       "\\end{tabular}\n"
      ],
      "text/markdown": [
       "\n",
       "A data.frame: 6 × 2\n",
       "\n",
       "| <!--/--> | Sepal.Length &lt;dbl&gt; | Sepal.Width &lt;dbl&gt; |\n",
       "|---|---|---|\n",
       "| 1 | 5.1 | 3.5 |\n",
       "| 2 | 4.9 | 3.0 |\n",
       "| 3 | 4.7 | 3.2 |\n",
       "| 4 | 4.6 | 3.1 |\n",
       "| 5 | 5.0 | 3.6 |\n",
       "| 6 | 5.4 | 3.9 |\n",
       "\n"
      ],
      "text/plain": [
       "  Sepal.Length Sepal.Width\n",
       "1 5.1          3.5        \n",
       "2 4.9          3.0        \n",
       "3 4.7          3.2        \n",
       "4 4.6          3.1        \n",
       "5 5.0          3.6        \n",
       "6 5.4          3.9        "
      ]
     },
     "metadata": {},
     "output_type": "display_data"
    }
   ],
   "source": [
    "select(iris,starts_with('Sepal')) %>% head()"
   ]
  },
  {
   "cell_type": "code",
   "execution_count": 34,
   "id": "southern-preparation",
   "metadata": {},
   "outputs": [
    {
     "data": {
      "text/html": [
       "<table class=\"dataframe\">\n",
       "<caption>A data.frame: 6 × 2</caption>\n",
       "<thead>\n",
       "\t<tr><th></th><th scope=col>Sepal.Width</th><th scope=col>Petal.Width</th></tr>\n",
       "\t<tr><th></th><th scope=col>&lt;dbl&gt;</th><th scope=col>&lt;dbl&gt;</th></tr>\n",
       "</thead>\n",
       "<tbody>\n",
       "\t<tr><th scope=row>1</th><td>3.5</td><td>0.2</td></tr>\n",
       "\t<tr><th scope=row>2</th><td>3.0</td><td>0.2</td></tr>\n",
       "\t<tr><th scope=row>3</th><td>3.2</td><td>0.2</td></tr>\n",
       "\t<tr><th scope=row>4</th><td>3.1</td><td>0.2</td></tr>\n",
       "\t<tr><th scope=row>5</th><td>3.6</td><td>0.2</td></tr>\n",
       "\t<tr><th scope=row>6</th><td>3.9</td><td>0.4</td></tr>\n",
       "</tbody>\n",
       "</table>\n"
      ],
      "text/latex": [
       "A data.frame: 6 × 2\n",
       "\\begin{tabular}{r|ll}\n",
       "  & Sepal.Width & Petal.Width\\\\\n",
       "  & <dbl> & <dbl>\\\\\n",
       "\\hline\n",
       "\t1 & 3.5 & 0.2\\\\\n",
       "\t2 & 3.0 & 0.2\\\\\n",
       "\t3 & 3.2 & 0.2\\\\\n",
       "\t4 & 3.1 & 0.2\\\\\n",
       "\t5 & 3.6 & 0.2\\\\\n",
       "\t6 & 3.9 & 0.4\\\\\n",
       "\\end{tabular}\n"
      ],
      "text/markdown": [
       "\n",
       "A data.frame: 6 × 2\n",
       "\n",
       "| <!--/--> | Sepal.Width &lt;dbl&gt; | Petal.Width &lt;dbl&gt; |\n",
       "|---|---|---|\n",
       "| 1 | 3.5 | 0.2 |\n",
       "| 2 | 3.0 | 0.2 |\n",
       "| 3 | 3.2 | 0.2 |\n",
       "| 4 | 3.1 | 0.2 |\n",
       "| 5 | 3.6 | 0.2 |\n",
       "| 6 | 3.9 | 0.4 |\n",
       "\n"
      ],
      "text/plain": [
       "  Sepal.Width Petal.Width\n",
       "1 3.5         0.2        \n",
       "2 3.0         0.2        \n",
       "3 3.2         0.2        \n",
       "4 3.1         0.2        \n",
       "5 3.6         0.2        \n",
       "6 3.9         0.4        "
      ]
     },
     "metadata": {},
     "output_type": "display_data"
    }
   ],
   "source": [
    "select(iris,ends_with('Width')) %>% head()"
   ]
  },
  {
   "cell_type": "markdown",
   "id": "integrated-tsunami",
   "metadata": {},
   "source": [
    "# Slice"
   ]
  },
  {
   "cell_type": "code",
   "execution_count": 37,
   "id": "faced-kingdom",
   "metadata": {},
   "outputs": [
    {
     "data": {
      "text/html": [
       "<table class=\"dataframe\">\n",
       "<caption>A data.frame: 6 × 2</caption>\n",
       "<thead>\n",
       "\t<tr><th></th><th scope=col>height</th><th scope=col>weight</th></tr>\n",
       "\t<tr><th></th><th scope=col>&lt;dbl&gt;</th><th scope=col>&lt;dbl&gt;</th></tr>\n",
       "</thead>\n",
       "<tbody>\n",
       "\t<tr><th scope=row>1</th><td>58</td><td>115</td></tr>\n",
       "\t<tr><th scope=row>2</th><td>59</td><td>117</td></tr>\n",
       "\t<tr><th scope=row>3</th><td>60</td><td>120</td></tr>\n",
       "\t<tr><th scope=row>4</th><td>61</td><td>123</td></tr>\n",
       "\t<tr><th scope=row>5</th><td>62</td><td>126</td></tr>\n",
       "\t<tr><th scope=row>6</th><td>63</td><td>129</td></tr>\n",
       "</tbody>\n",
       "</table>\n"
      ],
      "text/latex": [
       "A data.frame: 6 × 2\n",
       "\\begin{tabular}{r|ll}\n",
       "  & height & weight\\\\\n",
       "  & <dbl> & <dbl>\\\\\n",
       "\\hline\n",
       "\t1 & 58 & 115\\\\\n",
       "\t2 & 59 & 117\\\\\n",
       "\t3 & 60 & 120\\\\\n",
       "\t4 & 61 & 123\\\\\n",
       "\t5 & 62 & 126\\\\\n",
       "\t6 & 63 & 129\\\\\n",
       "\\end{tabular}\n"
      ],
      "text/markdown": [
       "\n",
       "A data.frame: 6 × 2\n",
       "\n",
       "| <!--/--> | height &lt;dbl&gt; | weight &lt;dbl&gt; |\n",
       "|---|---|---|\n",
       "| 1 | 58 | 115 |\n",
       "| 2 | 59 | 117 |\n",
       "| 3 | 60 | 120 |\n",
       "| 4 | 61 | 123 |\n",
       "| 5 | 62 | 126 |\n",
       "| 6 | 63 | 129 |\n",
       "\n"
      ],
      "text/plain": [
       "  height weight\n",
       "1 58     115   \n",
       "2 59     117   \n",
       "3 60     120   \n",
       "4 61     123   \n",
       "5 62     126   \n",
       "6 63     129   "
      ]
     },
     "metadata": {},
     "output_type": "display_data"
    }
   ],
   "source": [
    "head(women)"
   ]
  },
  {
   "cell_type": "code",
   "execution_count": 35,
   "id": "empty-intellectual",
   "metadata": {},
   "outputs": [
    {
     "data": {
      "text/html": [
       "<table class=\"dataframe\">\n",
       "<caption>A data.frame: 1 × 2</caption>\n",
       "<thead>\n",
       "\t<tr><th scope=col>height</th><th scope=col>weight</th></tr>\n",
       "\t<tr><th scope=col>&lt;dbl&gt;</th><th scope=col>&lt;dbl&gt;</th></tr>\n",
       "</thead>\n",
       "<tbody>\n",
       "\t<tr><td>60</td><td>120</td></tr>\n",
       "</tbody>\n",
       "</table>\n"
      ],
      "text/latex": [
       "A data.frame: 1 × 2\n",
       "\\begin{tabular}{ll}\n",
       " height & weight\\\\\n",
       " <dbl> & <dbl>\\\\\n",
       "\\hline\n",
       "\t 60 & 120\\\\\n",
       "\\end{tabular}\n"
      ],
      "text/markdown": [
       "\n",
       "A data.frame: 1 × 2\n",
       "\n",
       "| height &lt;dbl&gt; | weight &lt;dbl&gt; |\n",
       "|---|---|\n",
       "| 60 | 120 |\n",
       "\n"
      ],
      "text/plain": [
       "  height weight\n",
       "1 60     120   "
      ]
     },
     "metadata": {},
     "output_type": "display_data"
    }
   ],
   "source": [
    "slice(women,n=3)"
   ]
  },
  {
   "cell_type": "code",
   "execution_count": 38,
   "id": "rapid-element",
   "metadata": {},
   "outputs": [
    {
     "data": {
      "text/html": [
       "<table class=\"dataframe\">\n",
       "<caption>A data.frame: 3 × 2</caption>\n",
       "<thead>\n",
       "\t<tr><th scope=col>height</th><th scope=col>weight</th></tr>\n",
       "\t<tr><th scope=col>&lt;dbl&gt;</th><th scope=col>&lt;dbl&gt;</th></tr>\n",
       "</thead>\n",
       "<tbody>\n",
       "\t<tr><td>59</td><td>117</td></tr>\n",
       "\t<tr><td>60</td><td>120</td></tr>\n",
       "\t<tr><td>61</td><td>123</td></tr>\n",
       "</tbody>\n",
       "</table>\n"
      ],
      "text/latex": [
       "A data.frame: 3 × 2\n",
       "\\begin{tabular}{ll}\n",
       " height & weight\\\\\n",
       " <dbl> & <dbl>\\\\\n",
       "\\hline\n",
       "\t 59 & 117\\\\\n",
       "\t 60 & 120\\\\\n",
       "\t 61 & 123\\\\\n",
       "\\end{tabular}\n"
      ],
      "text/markdown": [
       "\n",
       "A data.frame: 3 × 2\n",
       "\n",
       "| height &lt;dbl&gt; | weight &lt;dbl&gt; |\n",
       "|---|---|\n",
       "| 59 | 117 |\n",
       "| 60 | 120 |\n",
       "| 61 | 123 |\n",
       "\n"
      ],
      "text/plain": [
       "  height weight\n",
       "1 59     117   \n",
       "2 60     120   \n",
       "3 61     123   "
      ]
     },
     "metadata": {},
     "output_type": "display_data"
    }
   ],
   "source": [
    "slice(women,n=2:4)"
   ]
  },
  {
   "cell_type": "code",
   "execution_count": 43,
   "id": "bound-simon",
   "metadata": {},
   "outputs": [
    {
     "data": {
      "text/html": [
       "<table class=\"dataframe\">\n",
       "<caption>A data.frame: 2 × 2</caption>\n",
       "<thead>\n",
       "\t<tr><th scope=col>height</th><th scope=col>weight</th></tr>\n",
       "\t<tr><th scope=col>&lt;dbl&gt;</th><th scope=col>&lt;dbl&gt;</th></tr>\n",
       "</thead>\n",
       "<tbody>\n",
       "\t<tr><td>70</td><td>154</td></tr>\n",
       "\t<tr><td>63</td><td>129</td></tr>\n",
       "</tbody>\n",
       "</table>\n"
      ],
      "text/latex": [
       "A data.frame: 2 × 2\n",
       "\\begin{tabular}{ll}\n",
       " height & weight\\\\\n",
       " <dbl> & <dbl>\\\\\n",
       "\\hline\n",
       "\t 70 & 154\\\\\n",
       "\t 63 & 129\\\\\n",
       "\\end{tabular}\n"
      ],
      "text/markdown": [
       "\n",
       "A data.frame: 2 × 2\n",
       "\n",
       "| height &lt;dbl&gt; | weight &lt;dbl&gt; |\n",
       "|---|---|\n",
       "| 70 | 154 |\n",
       "| 63 | 129 |\n",
       "\n"
      ],
      "text/plain": [
       "  height weight\n",
       "1 70     154   \n",
       "2 63     129   "
      ]
     },
     "metadata": {},
     "output_type": "display_data"
    }
   ],
   "source": [
    "# randomly select n rows\n",
    "slice_sample(women,n=2)"
   ]
  },
  {
   "cell_type": "code",
   "execution_count": 44,
   "id": "threatened-display",
   "metadata": {},
   "outputs": [
    {
     "data": {
      "text/html": [
       "<table class=\"dataframe\">\n",
       "<caption>A data.frame: 3 × 2</caption>\n",
       "<thead>\n",
       "\t<tr><th scope=col>height</th><th scope=col>weight</th></tr>\n",
       "\t<tr><th scope=col>&lt;dbl&gt;</th><th scope=col>&lt;dbl&gt;</th></tr>\n",
       "</thead>\n",
       "<tbody>\n",
       "\t<tr><td>58</td><td>115</td></tr>\n",
       "\t<tr><td>59</td><td>117</td></tr>\n",
       "\t<tr><td>60</td><td>120</td></tr>\n",
       "</tbody>\n",
       "</table>\n"
      ],
      "text/latex": [
       "A data.frame: 3 × 2\n",
       "\\begin{tabular}{ll}\n",
       " height & weight\\\\\n",
       " <dbl> & <dbl>\\\\\n",
       "\\hline\n",
       "\t 58 & 115\\\\\n",
       "\t 59 & 117\\\\\n",
       "\t 60 & 120\\\\\n",
       "\\end{tabular}\n"
      ],
      "text/markdown": [
       "\n",
       "A data.frame: 3 × 2\n",
       "\n",
       "| height &lt;dbl&gt; | weight &lt;dbl&gt; |\n",
       "|---|---|\n",
       "| 58 | 115 |\n",
       "| 59 | 117 |\n",
       "| 60 | 120 |\n",
       "\n"
      ],
      "text/plain": [
       "  height weight\n",
       "1 58     115   \n",
       "2 59     117   \n",
       "3 60     120   "
      ]
     },
     "metadata": {},
     "output_type": "display_data"
    }
   ],
   "source": [
    "slice_min(women,women$height,n=3)"
   ]
  },
  {
   "cell_type": "code",
   "execution_count": 45,
   "id": "concerned-ghost",
   "metadata": {},
   "outputs": [
    {
     "data": {
      "text/html": [
       "<table class=\"dataframe\">\n",
       "<caption>A data.frame: 3 × 2</caption>\n",
       "<thead>\n",
       "\t<tr><th scope=col>height</th><th scope=col>weight</th></tr>\n",
       "\t<tr><th scope=col>&lt;dbl&gt;</th><th scope=col>&lt;dbl&gt;</th></tr>\n",
       "</thead>\n",
       "<tbody>\n",
       "\t<tr><td>72</td><td>164</td></tr>\n",
       "\t<tr><td>71</td><td>159</td></tr>\n",
       "\t<tr><td>70</td><td>154</td></tr>\n",
       "</tbody>\n",
       "</table>\n"
      ],
      "text/latex": [
       "A data.frame: 3 × 2\n",
       "\\begin{tabular}{ll}\n",
       " height & weight\\\\\n",
       " <dbl> & <dbl>\\\\\n",
       "\\hline\n",
       "\t 72 & 164\\\\\n",
       "\t 71 & 159\\\\\n",
       "\t 70 & 154\\\\\n",
       "\\end{tabular}\n"
      ],
      "text/markdown": [
       "\n",
       "A data.frame: 3 × 2\n",
       "\n",
       "| height &lt;dbl&gt; | weight &lt;dbl&gt; |\n",
       "|---|---|\n",
       "| 72 | 164 |\n",
       "| 71 | 159 |\n",
       "| 70 | 154 |\n",
       "\n"
      ],
      "text/plain": [
       "  height weight\n",
       "1 72     164   \n",
       "2 71     159   \n",
       "3 70     154   "
      ]
     },
     "metadata": {},
     "output_type": "display_data"
    }
   ],
   "source": [
    "slice_max(women,women$height,n=3)"
   ]
  },
  {
   "cell_type": "markdown",
   "id": "banner-ontario",
   "metadata": {},
   "source": [
    "### Mutate"
   ]
  },
  {
   "cell_type": "code",
   "execution_count": 50,
   "id": "better-assignment",
   "metadata": {},
   "outputs": [],
   "source": [
    "actual_price= c(1000,1350,870,3500,3000,2780)\n",
    "selling_price = c(900,1200,800,2000,2500,2500)\n",
    "price = data.frame('AP' = cost_price,'SP' = selling_price)"
   ]
  },
  {
   "cell_type": "code",
   "execution_count": 52,
   "id": "funky-integration",
   "metadata": {},
   "outputs": [
    {
     "data": {
      "text/html": [
       "<table class=\"dataframe\">\n",
       "<caption>A data.frame: 6 × 4</caption>\n",
       "<thead>\n",
       "\t<tr><th scope=col>AP</th><th scope=col>SP</th><th scope=col>Discount</th><th scope=col>Discount %</th></tr>\n",
       "\t<tr><th scope=col>&lt;dbl&gt;</th><th scope=col>&lt;dbl&gt;</th><th scope=col>&lt;dbl&gt;</th><th scope=col>&lt;dbl&gt;</th></tr>\n",
       "</thead>\n",
       "<tbody>\n",
       "\t<tr><td>1000</td><td> 900</td><td> 100</td><td> 10.00</td></tr>\n",
       "\t<tr><td>1350</td><td>1200</td><td> 150</td><td> 11.11</td></tr>\n",
       "\t<tr><td> 870</td><td> 800</td><td>  70</td><td>  8.05</td></tr>\n",
       "\t<tr><td>1300</td><td>2000</td><td>-700</td><td>-53.85</td></tr>\n",
       "\t<tr><td>3000</td><td>2500</td><td> 500</td><td> 16.67</td></tr>\n",
       "\t<tr><td>2780</td><td>2500</td><td> 280</td><td> 10.07</td></tr>\n",
       "</tbody>\n",
       "</table>\n"
      ],
      "text/latex": [
       "A data.frame: 6 × 4\n",
       "\\begin{tabular}{llll}\n",
       " AP & SP & Discount & Discount \\%\\\\\n",
       " <dbl> & <dbl> & <dbl> & <dbl>\\\\\n",
       "\\hline\n",
       "\t 1000 &  900 &  100 &  10.00\\\\\n",
       "\t 1350 & 1200 &  150 &  11.11\\\\\n",
       "\t  870 &  800 &   70 &   8.05\\\\\n",
       "\t 1300 & 2000 & -700 & -53.85\\\\\n",
       "\t 3000 & 2500 &  500 &  16.67\\\\\n",
       "\t 2780 & 2500 &  280 &  10.07\\\\\n",
       "\\end{tabular}\n"
      ],
      "text/markdown": [
       "\n",
       "A data.frame: 6 × 4\n",
       "\n",
       "| AP &lt;dbl&gt; | SP &lt;dbl&gt; | Discount &lt;dbl&gt; | Discount % &lt;dbl&gt; |\n",
       "|---|---|---|---|\n",
       "| 1000 |  900 |  100 |  10.00 |\n",
       "| 1350 | 1200 |  150 |  11.11 |\n",
       "|  870 |  800 |   70 |   8.05 |\n",
       "| 1300 | 2000 | -700 | -53.85 |\n",
       "| 3000 | 2500 |  500 |  16.67 |\n",
       "| 2780 | 2500 |  280 |  10.07 |\n",
       "\n"
      ],
      "text/plain": [
       "  AP   SP   Discount Discount %\n",
       "1 1000  900  100      10.00    \n",
       "2 1350 1200  150      11.11    \n",
       "3  870  800   70       8.05    \n",
       "4 1300 2000 -700     -53.85    \n",
       "5 3000 2500  500      16.67    \n",
       "6 2780 2500  280      10.07    "
      ]
     },
     "metadata": {},
     "output_type": "display_data"
    }
   ],
   "source": [
    "mutate(price,'Discount'=AP - SP,'Discount %' = round((Discount / AP)*100,digit = 2))"
   ]
  },
  {
   "cell_type": "markdown",
   "id": "significant-onion",
   "metadata": {},
   "source": [
    "### filter"
   ]
  },
  {
   "cell_type": "code",
   "execution_count": 54,
   "id": "hungarian-budget",
   "metadata": {},
   "outputs": [
    {
     "data": {
      "text/html": [
       "<table class=\"dataframe\">\n",
       "<caption>A nfnGroupedData: 6 × 5</caption>\n",
       "<thead>\n",
       "\t<tr><th></th><th scope=col>Plant</th><th scope=col>Type</th><th scope=col>Treatment</th><th scope=col>conc</th><th scope=col>uptake</th></tr>\n",
       "\t<tr><th></th><th scope=col>&lt;ord&gt;</th><th scope=col>&lt;fct&gt;</th><th scope=col>&lt;fct&gt;</th><th scope=col>&lt;dbl&gt;</th><th scope=col>&lt;dbl&gt;</th></tr>\n",
       "</thead>\n",
       "<tbody>\n",
       "\t<tr><th scope=row>1</th><td>Qn1</td><td>Quebec</td><td>nonchilled</td><td> 95</td><td>16.0</td></tr>\n",
       "\t<tr><th scope=row>2</th><td>Qn1</td><td>Quebec</td><td>nonchilled</td><td>175</td><td>30.4</td></tr>\n",
       "\t<tr><th scope=row>3</th><td>Qn1</td><td>Quebec</td><td>nonchilled</td><td>250</td><td>34.8</td></tr>\n",
       "\t<tr><th scope=row>4</th><td>Qn1</td><td>Quebec</td><td>nonchilled</td><td>350</td><td>37.2</td></tr>\n",
       "\t<tr><th scope=row>5</th><td>Qn1</td><td>Quebec</td><td>nonchilled</td><td>500</td><td>35.3</td></tr>\n",
       "\t<tr><th scope=row>6</th><td>Qn1</td><td>Quebec</td><td>nonchilled</td><td>675</td><td>39.2</td></tr>\n",
       "</tbody>\n",
       "</table>\n"
      ],
      "text/latex": [
       "A nfnGroupedData: 6 × 5\n",
       "\\begin{tabular}{r|lllll}\n",
       "  & Plant & Type & Treatment & conc & uptake\\\\\n",
       "  & <ord> & <fct> & <fct> & <dbl> & <dbl>\\\\\n",
       "\\hline\n",
       "\t1 & Qn1 & Quebec & nonchilled &  95 & 16.0\\\\\n",
       "\t2 & Qn1 & Quebec & nonchilled & 175 & 30.4\\\\\n",
       "\t3 & Qn1 & Quebec & nonchilled & 250 & 34.8\\\\\n",
       "\t4 & Qn1 & Quebec & nonchilled & 350 & 37.2\\\\\n",
       "\t5 & Qn1 & Quebec & nonchilled & 500 & 35.3\\\\\n",
       "\t6 & Qn1 & Quebec & nonchilled & 675 & 39.2\\\\\n",
       "\\end{tabular}\n"
      ],
      "text/markdown": [
       "\n",
       "A nfnGroupedData: 6 × 5\n",
       "\n",
       "| <!--/--> | Plant &lt;ord&gt; | Type &lt;fct&gt; | Treatment &lt;fct&gt; | conc &lt;dbl&gt; | uptake &lt;dbl&gt; |\n",
       "|---|---|---|---|---|---|\n",
       "| 1 | Qn1 | Quebec | nonchilled |  95 | 16.0 |\n",
       "| 2 | Qn1 | Quebec | nonchilled | 175 | 30.4 |\n",
       "| 3 | Qn1 | Quebec | nonchilled | 250 | 34.8 |\n",
       "| 4 | Qn1 | Quebec | nonchilled | 350 | 37.2 |\n",
       "| 5 | Qn1 | Quebec | nonchilled | 500 | 35.3 |\n",
       "| 6 | Qn1 | Quebec | nonchilled | 675 | 39.2 |\n",
       "\n"
      ],
      "text/plain": [
       "  Plant Type   Treatment  conc uptake\n",
       "1 Qn1   Quebec nonchilled  95  16.0  \n",
       "2 Qn1   Quebec nonchilled 175  30.4  \n",
       "3 Qn1   Quebec nonchilled 250  34.8  \n",
       "4 Qn1   Quebec nonchilled 350  37.2  \n",
       "5 Qn1   Quebec nonchilled 500  35.3  \n",
       "6 Qn1   Quebec nonchilled 675  39.2  "
      ]
     },
     "metadata": {},
     "output_type": "display_data"
    }
   ],
   "source": [
    "filter(CO2,CO2$Type=='Quebec') %>% head()"
   ]
  },
  {
   "cell_type": "code",
   "execution_count": 55,
   "id": "fiscal-desperate",
   "metadata": {},
   "outputs": [
    {
     "data": {
      "text/html": [
       "<table class=\"dataframe\">\n",
       "<caption>A nfnGroupedData: 14 × 5</caption>\n",
       "<thead>\n",
       "\t<tr><th scope=col>Plant</th><th scope=col>Type</th><th scope=col>Treatment</th><th scope=col>conc</th><th scope=col>uptake</th></tr>\n",
       "\t<tr><th scope=col>&lt;ord&gt;</th><th scope=col>&lt;fct&gt;</th><th scope=col>&lt;fct&gt;</th><th scope=col>&lt;dbl&gt;</th><th scope=col>&lt;dbl&gt;</th></tr>\n",
       "</thead>\n",
       "<tbody>\n",
       "\t<tr><td>Qc1</td><td>Quebec</td><td>chilled</td><td>  95</td><td>14.2</td></tr>\n",
       "\t<tr><td>Qc1</td><td>Quebec</td><td>chilled</td><td> 175</td><td>24.1</td></tr>\n",
       "\t<tr><td>Qc1</td><td>Quebec</td><td>chilled</td><td> 250</td><td>30.3</td></tr>\n",
       "\t<tr><td>Qc1</td><td>Quebec</td><td>chilled</td><td> 350</td><td>34.6</td></tr>\n",
       "\t<tr><td>Qc1</td><td>Quebec</td><td>chilled</td><td> 500</td><td>32.5</td></tr>\n",
       "\t<tr><td>Qc1</td><td>Quebec</td><td>chilled</td><td> 675</td><td>35.4</td></tr>\n",
       "\t<tr><td>Qc1</td><td>Quebec</td><td>chilled</td><td>1000</td><td>38.7</td></tr>\n",
       "\t<tr><td>Qc2</td><td>Quebec</td><td>chilled</td><td>  95</td><td> 9.3</td></tr>\n",
       "\t<tr><td>Qc2</td><td>Quebec</td><td>chilled</td><td> 175</td><td>27.3</td></tr>\n",
       "\t<tr><td>Qc2</td><td>Quebec</td><td>chilled</td><td> 250</td><td>35.0</td></tr>\n",
       "\t<tr><td>Qc2</td><td>Quebec</td><td>chilled</td><td> 350</td><td>38.8</td></tr>\n",
       "\t<tr><td>Qc2</td><td>Quebec</td><td>chilled</td><td> 500</td><td>38.6</td></tr>\n",
       "\t<tr><td>Qc2</td><td>Quebec</td><td>chilled</td><td> 675</td><td>37.5</td></tr>\n",
       "\t<tr><td>Qc2</td><td>Quebec</td><td>chilled</td><td>1000</td><td>42.4</td></tr>\n",
       "</tbody>\n",
       "</table>\n"
      ],
      "text/latex": [
       "A nfnGroupedData: 14 × 5\n",
       "\\begin{tabular}{lllll}\n",
       " Plant & Type & Treatment & conc & uptake\\\\\n",
       " <ord> & <fct> & <fct> & <dbl> & <dbl>\\\\\n",
       "\\hline\n",
       "\t Qc1 & Quebec & chilled &   95 & 14.2\\\\\n",
       "\t Qc1 & Quebec & chilled &  175 & 24.1\\\\\n",
       "\t Qc1 & Quebec & chilled &  250 & 30.3\\\\\n",
       "\t Qc1 & Quebec & chilled &  350 & 34.6\\\\\n",
       "\t Qc1 & Quebec & chilled &  500 & 32.5\\\\\n",
       "\t Qc1 & Quebec & chilled &  675 & 35.4\\\\\n",
       "\t Qc1 & Quebec & chilled & 1000 & 38.7\\\\\n",
       "\t Qc2 & Quebec & chilled &   95 &  9.3\\\\\n",
       "\t Qc2 & Quebec & chilled &  175 & 27.3\\\\\n",
       "\t Qc2 & Quebec & chilled &  250 & 35.0\\\\\n",
       "\t Qc2 & Quebec & chilled &  350 & 38.8\\\\\n",
       "\t Qc2 & Quebec & chilled &  500 & 38.6\\\\\n",
       "\t Qc2 & Quebec & chilled &  675 & 37.5\\\\\n",
       "\t Qc2 & Quebec & chilled & 1000 & 42.4\\\\\n",
       "\\end{tabular}\n"
      ],
      "text/markdown": [
       "\n",
       "A nfnGroupedData: 14 × 5\n",
       "\n",
       "| Plant &lt;ord&gt; | Type &lt;fct&gt; | Treatment &lt;fct&gt; | conc &lt;dbl&gt; | uptake &lt;dbl&gt; |\n",
       "|---|---|---|---|---|\n",
       "| Qc1 | Quebec | chilled |   95 | 14.2 |\n",
       "| Qc1 | Quebec | chilled |  175 | 24.1 |\n",
       "| Qc1 | Quebec | chilled |  250 | 30.3 |\n",
       "| Qc1 | Quebec | chilled |  350 | 34.6 |\n",
       "| Qc1 | Quebec | chilled |  500 | 32.5 |\n",
       "| Qc1 | Quebec | chilled |  675 | 35.4 |\n",
       "| Qc1 | Quebec | chilled | 1000 | 38.7 |\n",
       "| Qc2 | Quebec | chilled |   95 |  9.3 |\n",
       "| Qc2 | Quebec | chilled |  175 | 27.3 |\n",
       "| Qc2 | Quebec | chilled |  250 | 35.0 |\n",
       "| Qc2 | Quebec | chilled |  350 | 38.8 |\n",
       "| Qc2 | Quebec | chilled |  500 | 38.6 |\n",
       "| Qc2 | Quebec | chilled |  675 | 37.5 |\n",
       "| Qc2 | Quebec | chilled | 1000 | 42.4 |\n",
       "\n"
      ],
      "text/plain": [
       "   Plant Type   Treatment conc uptake\n",
       "1  Qc1   Quebec chilled     95 14.2  \n",
       "2  Qc1   Quebec chilled    175 24.1  \n",
       "3  Qc1   Quebec chilled    250 30.3  \n",
       "4  Qc1   Quebec chilled    350 34.6  \n",
       "5  Qc1   Quebec chilled    500 32.5  \n",
       "6  Qc1   Quebec chilled    675 35.4  \n",
       "7  Qc1   Quebec chilled   1000 38.7  \n",
       "8  Qc2   Quebec chilled     95  9.3  \n",
       "9  Qc2   Quebec chilled    175 27.3  \n",
       "10 Qc2   Quebec chilled    250 35.0  \n",
       "11 Qc2   Quebec chilled    350 38.8  \n",
       "12 Qc2   Quebec chilled    500 38.6  \n",
       "13 Qc2   Quebec chilled    675 37.5  \n",
       "14 Qc2   Quebec chilled   1000 42.4  "
      ]
     },
     "metadata": {},
     "output_type": "display_data"
    }
   ],
   "source": [
    "filter(CO2,CO2$Type == 'Quebec'& CO2$Treatment == 'chilled' &(CO2$Plant == 'Qc1' | CO2$Plant == 'Qc2'))"
   ]
  },
  {
   "cell_type": "code",
   "execution_count": 56,
   "id": "opening-gilbert",
   "metadata": {},
   "outputs": [],
   "source": [
    "data()"
   ]
  },
  {
   "cell_type": "markdown",
   "id": "hybrid-volume",
   "metadata": {},
   "source": [
    "### arrange"
   ]
  },
  {
   "cell_type": "code",
   "execution_count": 59,
   "id": "sound-parker",
   "metadata": {},
   "outputs": [
    {
     "data": {
      "text/html": [
       "<table class=\"dataframe\">\n",
       "<caption>A tibble: 87 × 14</caption>\n",
       "<thead>\n",
       "\t<tr><th scope=col>name</th><th scope=col>height</th><th scope=col>mass</th><th scope=col>hair_color</th><th scope=col>skin_color</th><th scope=col>eye_color</th><th scope=col>birth_year</th><th scope=col>sex</th><th scope=col>gender</th><th scope=col>homeworld</th><th scope=col>species</th><th scope=col>films</th><th scope=col>vehicles</th><th scope=col>starships</th></tr>\n",
       "\t<tr><th scope=col>&lt;chr&gt;</th><th scope=col>&lt;int&gt;</th><th scope=col>&lt;dbl&gt;</th><th scope=col>&lt;chr&gt;</th><th scope=col>&lt;chr&gt;</th><th scope=col>&lt;chr&gt;</th><th scope=col>&lt;dbl&gt;</th><th scope=col>&lt;chr&gt;</th><th scope=col>&lt;chr&gt;</th><th scope=col>&lt;chr&gt;</th><th scope=col>&lt;chr&gt;</th><th scope=col>&lt;list&gt;</th><th scope=col>&lt;list&gt;</th><th scope=col>&lt;list&gt;</th></tr>\n",
       "</thead>\n",
       "<tbody>\n",
       "\t<tr><td>Zam Wesell           </td><td>168</td><td> 55</td><td>blonde      </td><td>fair, green, yellow</td><td>yellow   </td><td> NA</td><td>female</td><td>feminine </td><td>Zolan      </td><td>Clawdite      </td><td>Attack of the Clones</td><td>Koro-2 Exodrive airspeeder</td><td></td></tr>\n",
       "\t<tr><td>Yoda                 </td><td> 66</td><td> 17</td><td>white       </td><td>green              </td><td>brown    </td><td>896</td><td>male  </td><td>masculine</td><td>NA         </td><td>Yoda's species</td><td>The Empire Strikes Back, Attack of the Clones   , The Phantom Menace     , Revenge of the Sith    , Return of the Jedi     </td><td></td><td></td></tr>\n",
       "\t<tr><td>Yarael Poof          </td><td>264</td><td> NA</td><td>none        </td><td>white              </td><td>yellow   </td><td> NA</td><td>male  </td><td>masculine</td><td>Quermia    </td><td>Quermian      </td><td>The Phantom Menace</td><td></td><td></td></tr>\n",
       "\t<tr><td>Wilhuff Tarkin       </td><td>180</td><td> NA</td><td>auburn, grey</td><td>fair               </td><td>blue     </td><td> 64</td><td>male  </td><td>masculine</td><td>Eriadu     </td><td>Human         </td><td>Revenge of the Sith, A New Hope         </td><td></td><td></td></tr>\n",
       "\t<tr><td>Wicket Systri Warrick</td><td> 88</td><td> 20</td><td>brown       </td><td>brown              </td><td>brown    </td><td>  8</td><td>male  </td><td>masculine</td><td>Endor      </td><td>Ewok          </td><td>Return of the Jedi</td><td></td><td></td></tr>\n",
       "\t<tr><td>Wedge Antilles       </td><td>170</td><td> 77</td><td>brown       </td><td>fair               </td><td>hazel    </td><td> 21</td><td>male  </td><td>masculine</td><td>Corellia   </td><td>Human         </td><td>The Empire Strikes Back, Return of the Jedi     , A New Hope             </td><td>Snowspeeder</td><td>X-wing</td></tr>\n",
       "\t<tr><td>Watto                </td><td>137</td><td> NA</td><td>black       </td><td>blue, grey         </td><td>yellow   </td><td> NA</td><td>male  </td><td>masculine</td><td>Toydaria   </td><td>Toydarian     </td><td>Attack of the Clones, The Phantom Menace  </td><td></td><td></td></tr>\n",
       "\t<tr><td>Wat Tambor           </td><td>193</td><td> 48</td><td>none        </td><td>green, grey        </td><td>unknown  </td><td> NA</td><td>male  </td><td>masculine</td><td>Skako      </td><td>Skakoan       </td><td>Attack of the Clones</td><td></td><td></td></tr>\n",
       "\t<tr><td>Tion Medon           </td><td>206</td><td> 80</td><td>none        </td><td>grey               </td><td>black    </td><td> NA</td><td>male  </td><td>masculine</td><td>Utapau     </td><td>Pau'an        </td><td>Revenge of the Sith</td><td></td><td></td></tr>\n",
       "\t<tr><td>Taun We              </td><td>213</td><td> NA</td><td>none        </td><td>grey               </td><td>black    </td><td> NA</td><td>female</td><td>feminine </td><td>Kamino     </td><td>Kaminoan      </td><td>Attack of the Clones</td><td></td><td></td></tr>\n",
       "\t<tr><td>Tarfful              </td><td>234</td><td>136</td><td>brown       </td><td>brown              </td><td>blue     </td><td> NA</td><td>male  </td><td>masculine</td><td>Kashyyyk   </td><td>Wookiee       </td><td>Revenge of the Sith</td><td></td><td></td></tr>\n",
       "\t<tr><td>Sly Moore            </td><td>178</td><td> 48</td><td>none        </td><td>pale               </td><td>white    </td><td> NA</td><td>NA    </td><td>NA       </td><td>Umbara     </td><td>NA            </td><td>Attack of the Clones, Revenge of the Sith </td><td></td><td></td></tr>\n",
       "\t<tr><td>Shmi Skywalker       </td><td>163</td><td> NA</td><td>black       </td><td>fair               </td><td>brown    </td><td> 72</td><td>female</td><td>feminine </td><td>Tatooine   </td><td>Human         </td><td>Attack of the Clones, The Phantom Menace  </td><td></td><td></td></tr>\n",
       "\t<tr><td>Shaak Ti             </td><td>178</td><td> 57</td><td>none        </td><td>red, blue, white   </td><td>black    </td><td> NA</td><td>female</td><td>feminine </td><td>Shili      </td><td>Togruta       </td><td>Attack of the Clones, Revenge of the Sith </td><td></td><td></td></tr>\n",
       "\t<tr><td>Sebulba              </td><td>112</td><td> 40</td><td>none        </td><td>grey, red          </td><td>orange   </td><td> NA</td><td>male  </td><td>masculine</td><td>Malastare  </td><td>Dug           </td><td>The Phantom Menace</td><td></td><td></td></tr>\n",
       "\t<tr><td>San Hill             </td><td>191</td><td> NA</td><td>none        </td><td>grey               </td><td>gold     </td><td> NA</td><td>male  </td><td>masculine</td><td>Muunilinst </td><td>Muun          </td><td>Attack of the Clones</td><td></td><td></td></tr>\n",
       "\t<tr><td>Saesee Tiin          </td><td>188</td><td> NA</td><td>none        </td><td>pale               </td><td>orange   </td><td> NA</td><td>male  </td><td>masculine</td><td>Iktotch    </td><td>Iktotchi      </td><td>The Phantom Menace , Revenge of the Sith</td><td></td><td></td></tr>\n",
       "\t<tr><td>Rugor Nass           </td><td>206</td><td> NA</td><td>none        </td><td>green              </td><td>orange   </td><td> NA</td><td>male  </td><td>masculine</td><td>Naboo      </td><td>Gungan        </td><td>The Phantom Menace</td><td></td><td></td></tr>\n",
       "\t<tr><td>Roos Tarpals         </td><td>224</td><td> 82</td><td>none        </td><td>grey               </td><td>orange   </td><td> NA</td><td>male  </td><td>masculine</td><td>Naboo      </td><td>Gungan        </td><td>The Phantom Menace</td><td></td><td></td></tr>\n",
       "\t<tr><td>Ric Olié             </td><td>183</td><td> NA</td><td>brown       </td><td>fair               </td><td>blue     </td><td> NA</td><td>NA    </td><td>NA       </td><td>Naboo      </td><td>NA            </td><td>The Phantom Menace</td><td></td><td>Naboo Royal Starship</td></tr>\n",
       "\t<tr><td>Rey                  </td><td> NA</td><td> NA</td><td>brown       </td><td>light              </td><td>hazel    </td><td> NA</td><td>female</td><td>feminine </td><td>NA         </td><td>Human         </td><td>The Force Awakens</td><td></td><td></td></tr>\n",
       "\t<tr><td>Raymus Antilles      </td><td>188</td><td> 79</td><td>brown       </td><td>light              </td><td>brown    </td><td> NA</td><td>male  </td><td>masculine</td><td>Alderaan   </td><td>Human         </td><td>Revenge of the Sith, A New Hope         </td><td></td><td></td></tr>\n",
       "\t<tr><td>Ratts Tyerell        </td><td> 79</td><td> 15</td><td>none        </td><td>grey, blue         </td><td>unknown  </td><td> NA</td><td>male  </td><td>masculine</td><td>Aleen Minor</td><td>Aleena        </td><td>The Phantom Menace</td><td></td><td></td></tr>\n",
       "\t<tr><td>R5-D4                </td><td> 97</td><td> 32</td><td>NA          </td><td>white, red         </td><td>red      </td><td> NA</td><td>none  </td><td>masculine</td><td>Tatooine   </td><td>Droid         </td><td>A New Hope</td><td></td><td></td></tr>\n",
       "\t<tr><td>R4-P17               </td><td> 96</td><td> NA</td><td>none        </td><td>silver, red        </td><td>red, blue</td><td> NA</td><td>none  </td><td>feminine </td><td>NA         </td><td>Droid         </td><td>Attack of the Clones, Revenge of the Sith </td><td></td><td></td></tr>\n",
       "\t<tr><td>R2-D2                </td><td> 96</td><td> 32</td><td>NA          </td><td>white, blue        </td><td>red      </td><td> 33</td><td>none  </td><td>masculine</td><td>Naboo      </td><td>Droid         </td><td>The Empire Strikes Back, Attack of the Clones   , The Phantom Menace     , Revenge of the Sith    , Return of the Jedi     , A New Hope             , The Force Awakens      </td><td></td><td></td></tr>\n",
       "\t<tr><td>Qui-Gon Jinn         </td><td>193</td><td> 89</td><td>brown       </td><td>fair               </td><td>blue     </td><td> 92</td><td>male  </td><td>masculine</td><td>NA         </td><td>Human         </td><td>The Phantom Menace</td><td>Tribubble bongo</td><td></td></tr>\n",
       "\t<tr><td>Quarsh Panaka        </td><td>183</td><td> NA</td><td>black       </td><td>dark               </td><td>brown    </td><td> 62</td><td>NA    </td><td>NA       </td><td>Naboo      </td><td>NA            </td><td>The Phantom Menace</td><td></td><td></td></tr>\n",
       "\t<tr><td>Poggle the Lesser    </td><td>183</td><td> 80</td><td>none        </td><td>green              </td><td>yellow   </td><td> NA</td><td>male  </td><td>masculine</td><td>Geonosis   </td><td>Geonosian     </td><td>Attack of the Clones, Revenge of the Sith </td><td></td><td></td></tr>\n",
       "\t<tr><td>Poe Dameron          </td><td> NA</td><td> NA</td><td>brown       </td><td>light              </td><td>brown    </td><td> NA</td><td>male  </td><td>masculine</td><td>NA         </td><td>Human         </td><td>The Force Awakens</td><td></td><td>T-70 X-wing fighter</td></tr>\n",
       "\t<tr><td>⋮</td><td>⋮</td><td>⋮</td><td>⋮</td><td>⋮</td><td>⋮</td><td>⋮</td><td>⋮</td><td>⋮</td><td>⋮</td><td>⋮</td><td>⋮</td><td>⋮</td><td>⋮</td></tr>\n",
       "\t<tr><td>Greedo             </td><td>173</td><td> 74.0</td><td>NA     </td><td>green              </td><td>black  </td><td> 44.0</td><td>male  </td><td>masculine</td><td>Rodia    </td><td>Rodian      </td><td>A New Hope</td><td></td><td></td></tr>\n",
       "\t<tr><td>Gasgano            </td><td>122</td><td>   NA</td><td>none   </td><td>white, blue        </td><td>black  </td><td>   NA</td><td>male  </td><td>masculine</td><td>Troiken  </td><td>Xexto       </td><td>The Phantom Menace</td><td></td><td></td></tr>\n",
       "\t<tr><td>Finn               </td><td> NA</td><td>   NA</td><td>black  </td><td>dark               </td><td>dark   </td><td>   NA</td><td>male  </td><td>masculine</td><td>NA       </td><td>Human       </td><td>The Force Awakens</td><td></td><td></td></tr>\n",
       "\t<tr><td>Finis Valorum      </td><td>170</td><td>   NA</td><td>blond  </td><td>fair               </td><td>blue   </td><td> 91.0</td><td>male  </td><td>masculine</td><td>Coruscant</td><td>Human       </td><td>The Phantom Menace</td><td></td><td></td></tr>\n",
       "\t<tr><td>Eeth Koth          </td><td>171</td><td>   NA</td><td>black  </td><td>brown              </td><td>brown  </td><td>   NA</td><td>male  </td><td>masculine</td><td>Iridonia </td><td>Zabrak      </td><td>The Phantom Menace , Revenge of the Sith</td><td></td><td></td></tr>\n",
       "\t<tr><td>Dud Bolt           </td><td> 94</td><td> 45.0</td><td>none   </td><td>blue, grey         </td><td>yellow </td><td>   NA</td><td>male  </td><td>masculine</td><td>Vulpter  </td><td>Vulptereen  </td><td>The Phantom Menace</td><td></td><td></td></tr>\n",
       "\t<tr><td>Dormé              </td><td>165</td><td>   NA</td><td>brown  </td><td>light              </td><td>brown  </td><td>   NA</td><td>female</td><td>feminine </td><td>Naboo    </td><td>Human       </td><td>Attack of the Clones</td><td></td><td></td></tr>\n",
       "\t<tr><td>Dooku              </td><td>193</td><td> 80.0</td><td>white  </td><td>fair               </td><td>brown  </td><td>102.0</td><td>male  </td><td>masculine</td><td>Serenno  </td><td>Human       </td><td>Attack of the Clones, Revenge of the Sith </td><td>Flitknot speeder</td><td></td></tr>\n",
       "\t<tr><td>Dexter Jettster    </td><td>198</td><td>102.0</td><td>none   </td><td>brown              </td><td>yellow </td><td>   NA</td><td>male  </td><td>masculine</td><td>Ojom     </td><td>Besalisk    </td><td>Attack of the Clones</td><td></td><td></td></tr>\n",
       "\t<tr><td>Darth Vader        </td><td>202</td><td>136.0</td><td>none   </td><td>white              </td><td>yellow </td><td> 41.9</td><td>male  </td><td>masculine</td><td>Tatooine </td><td>Human       </td><td>The Empire Strikes Back, Revenge of the Sith    , Return of the Jedi     , A New Hope             </td><td></td><td>TIE Advanced x1</td></tr>\n",
       "\t<tr><td>Darth Maul         </td><td>175</td><td> 80.0</td><td>none   </td><td>red                </td><td>yellow </td><td> 54.0</td><td>male  </td><td>masculine</td><td>Dathomir </td><td>Zabrak      </td><td>The Phantom Menace</td><td>Sith speeder</td><td>Scimitar</td></tr>\n",
       "\t<tr><td>Cordé              </td><td>157</td><td>   NA</td><td>brown  </td><td>light              </td><td>brown  </td><td>   NA</td><td>female</td><td>feminine </td><td>Naboo    </td><td>Human       </td><td>Attack of the Clones</td><td></td><td></td></tr>\n",
       "\t<tr><td>Cliegg Lars        </td><td>183</td><td>   NA</td><td>brown  </td><td>fair               </td><td>blue   </td><td> 82.0</td><td>male  </td><td>masculine</td><td>Tatooine </td><td>Human       </td><td>Attack of the Clones</td><td></td><td></td></tr>\n",
       "\t<tr><td>Chewbacca          </td><td>228</td><td>112.0</td><td>brown  </td><td>unknown            </td><td>blue   </td><td>200.0</td><td>male  </td><td>masculine</td><td>Kashyyyk </td><td>Wookiee     </td><td>The Empire Strikes Back, Revenge of the Sith    , Return of the Jedi     , A New Hope             , The Force Awakens      </td><td>AT-ST</td><td>Millennium Falcon, Imperial shuttle </td></tr>\n",
       "\t<tr><td>Captain Phasma     </td><td> NA</td><td>   NA</td><td>unknown</td><td>unknown            </td><td>unknown</td><td>   NA</td><td>NA    </td><td>NA       </td><td>NA       </td><td>NA          </td><td>The Force Awakens</td><td></td><td></td></tr>\n",
       "\t<tr><td>C-3PO              </td><td>167</td><td> 75.0</td><td>NA     </td><td>gold               </td><td>yellow </td><td>112.0</td><td>none  </td><td>masculine</td><td>Tatooine </td><td>Droid       </td><td>The Empire Strikes Back, Attack of the Clones   , The Phantom Menace     , Revenge of the Sith    , Return of the Jedi     , A New Hope             </td><td></td><td></td></tr>\n",
       "\t<tr><td>Bossk              </td><td>190</td><td>113.0</td><td>none   </td><td>green              </td><td>red    </td><td> 53.0</td><td>male  </td><td>masculine</td><td>Trandosha</td><td>Trandoshan  </td><td>The Empire Strikes Back</td><td></td><td></td></tr>\n",
       "\t<tr><td>Boba Fett          </td><td>183</td><td> 78.2</td><td>black  </td><td>fair               </td><td>brown  </td><td> 31.5</td><td>male  </td><td>masculine</td><td>Kamino   </td><td>Human       </td><td>The Empire Strikes Back, Attack of the Clones   , Return of the Jedi     </td><td></td><td>Slave 1</td></tr>\n",
       "\t<tr><td>Biggs Darklighter  </td><td>183</td><td> 84.0</td><td>black  </td><td>light              </td><td>brown  </td><td> 24.0</td><td>male  </td><td>masculine</td><td>Tatooine </td><td>Human       </td><td>A New Hope</td><td></td><td>X-wing</td></tr>\n",
       "\t<tr><td>Bib Fortuna        </td><td>180</td><td>   NA</td><td>none   </td><td>pale               </td><td>pink   </td><td>   NA</td><td>male  </td><td>masculine</td><td>Ryloth   </td><td>Twi'lek     </td><td>Return of the Jedi</td><td></td><td></td></tr>\n",
       "\t<tr><td>Beru Whitesun lars </td><td>165</td><td> 75.0</td><td>brown  </td><td>light              </td><td>blue   </td><td> 47.0</td><td>female</td><td>feminine </td><td>Tatooine </td><td>Human       </td><td>Attack of the Clones, Revenge of the Sith , A New Hope          </td><td></td><td></td></tr>\n",
       "\t<tr><td>Ben Quadinaros     </td><td>163</td><td> 65.0</td><td>none   </td><td>grey, green, yellow</td><td>orange </td><td>   NA</td><td>male  </td><td>masculine</td><td>Tund     </td><td>Toong       </td><td>The Phantom Menace</td><td></td><td></td></tr>\n",
       "\t<tr><td>BB8                </td><td> NA</td><td>   NA</td><td>none   </td><td>none               </td><td>black  </td><td>   NA</td><td>none  </td><td>masculine</td><td>NA       </td><td>Droid       </td><td>The Force Awakens</td><td></td><td></td></tr>\n",
       "\t<tr><td>Barriss Offee      </td><td>166</td><td> 50.0</td><td>black  </td><td>yellow             </td><td>blue   </td><td> 40.0</td><td>female</td><td>feminine </td><td>Mirial   </td><td>Mirialan    </td><td>Attack of the Clones</td><td></td><td></td></tr>\n",
       "\t<tr><td>Bail Prestor Organa</td><td>191</td><td>   NA</td><td>black  </td><td>tan                </td><td>brown  </td><td> 67.0</td><td>male  </td><td>masculine</td><td>Alderaan </td><td>Human       </td><td>Attack of the Clones, Revenge of the Sith </td><td></td><td></td></tr>\n",
       "\t<tr><td>Ayla Secura        </td><td>178</td><td> 55.0</td><td>none   </td><td>blue               </td><td>hazel  </td><td> 48.0</td><td>female</td><td>feminine </td><td>Ryloth   </td><td>Twi'lek     </td><td>Attack of the Clones, The Phantom Menace  , Revenge of the Sith </td><td></td><td></td></tr>\n",
       "\t<tr><td>Arvel Crynyd       </td><td> NA</td><td>   NA</td><td>brown  </td><td>fair               </td><td>brown  </td><td>   NA</td><td>male  </td><td>masculine</td><td>NA       </td><td>Human       </td><td>Return of the Jedi</td><td></td><td>A-wing</td></tr>\n",
       "\t<tr><td>Anakin Skywalker   </td><td>188</td><td> 84.0</td><td>blond  </td><td>fair               </td><td>blue   </td><td> 41.9</td><td>male  </td><td>masculine</td><td>Tatooine </td><td>Human       </td><td>Attack of the Clones, The Phantom Menace  , Revenge of the Sith </td><td>Zephyr-G swoop bike, XJ-6 airspeeder    </td><td>Trade Federation cruiser, Jedi Interceptor        , Naboo fighter           </td></tr>\n",
       "\t<tr><td>Adi Gallia         </td><td>184</td><td> 50.0</td><td>none   </td><td>dark               </td><td>blue   </td><td>   NA</td><td>female</td><td>feminine </td><td>Coruscant</td><td>Tholothian  </td><td>The Phantom Menace , Revenge of the Sith</td><td></td><td></td></tr>\n",
       "\t<tr><td>Ackbar             </td><td>180</td><td> 83.0</td><td>none   </td><td>brown mottle       </td><td>orange </td><td> 41.0</td><td>male  </td><td>masculine</td><td>Mon Cala </td><td>Mon Calamari</td><td>Return of the Jedi, The Force Awakens </td><td></td><td></td></tr>\n",
       "</tbody>\n",
       "</table>\n"
      ],
      "text/latex": [
       "A tibble: 87 × 14\n",
       "\\begin{tabular}{llllllllllllll}\n",
       " name & height & mass & hair\\_color & skin\\_color & eye\\_color & birth\\_year & sex & gender & homeworld & species & films & vehicles & starships\\\\\n",
       " <chr> & <int> & <dbl> & <chr> & <chr> & <chr> & <dbl> & <chr> & <chr> & <chr> & <chr> & <list> & <list> & <list>\\\\\n",
       "\\hline\n",
       "\t Zam Wesell            & 168 &  55 & blonde       & fair, green, yellow & yellow    &  NA & female & feminine  & Zolan       & Clawdite       & Attack of the Clones & Koro-2 Exodrive airspeeder & \\\\\n",
       "\t Yoda                  &  66 &  17 & white        & green               & brown     & 896 & male   & masculine & NA          & Yoda's species & The Empire Strikes Back, Attack of the Clones   , The Phantom Menace     , Revenge of the Sith    , Return of the Jedi      &  & \\\\\n",
       "\t Yarael Poof           & 264 &  NA & none         & white               & yellow    &  NA & male   & masculine & Quermia     & Quermian       & The Phantom Menace &  & \\\\\n",
       "\t Wilhuff Tarkin        & 180 &  NA & auburn, grey & fair                & blue      &  64 & male   & masculine & Eriadu      & Human          & Revenge of the Sith, A New Hope          &  & \\\\\n",
       "\t Wicket Systri Warrick &  88 &  20 & brown        & brown               & brown     &   8 & male   & masculine & Endor       & Ewok           & Return of the Jedi &  & \\\\\n",
       "\t Wedge Antilles        & 170 &  77 & brown        & fair                & hazel     &  21 & male   & masculine & Corellia    & Human          & The Empire Strikes Back, Return of the Jedi     , A New Hope              & Snowspeeder & X-wing\\\\\n",
       "\t Watto                 & 137 &  NA & black        & blue, grey          & yellow    &  NA & male   & masculine & Toydaria    & Toydarian      & Attack of the Clones, The Phantom Menace   &  & \\\\\n",
       "\t Wat Tambor            & 193 &  48 & none         & green, grey         & unknown   &  NA & male   & masculine & Skako       & Skakoan        & Attack of the Clones &  & \\\\\n",
       "\t Tion Medon            & 206 &  80 & none         & grey                & black     &  NA & male   & masculine & Utapau      & Pau'an         & Revenge of the Sith &  & \\\\\n",
       "\t Taun We               & 213 &  NA & none         & grey                & black     &  NA & female & feminine  & Kamino      & Kaminoan       & Attack of the Clones &  & \\\\\n",
       "\t Tarfful               & 234 & 136 & brown        & brown               & blue      &  NA & male   & masculine & Kashyyyk    & Wookiee        & Revenge of the Sith &  & \\\\\n",
       "\t Sly Moore             & 178 &  48 & none         & pale                & white     &  NA & NA     & NA        & Umbara      & NA             & Attack of the Clones, Revenge of the Sith  &  & \\\\\n",
       "\t Shmi Skywalker        & 163 &  NA & black        & fair                & brown     &  72 & female & feminine  & Tatooine    & Human          & Attack of the Clones, The Phantom Menace   &  & \\\\\n",
       "\t Shaak Ti              & 178 &  57 & none         & red, blue, white    & black     &  NA & female & feminine  & Shili       & Togruta        & Attack of the Clones, Revenge of the Sith  &  & \\\\\n",
       "\t Sebulba               & 112 &  40 & none         & grey, red           & orange    &  NA & male   & masculine & Malastare   & Dug            & The Phantom Menace &  & \\\\\n",
       "\t San Hill              & 191 &  NA & none         & grey                & gold      &  NA & male   & masculine & Muunilinst  & Muun           & Attack of the Clones &  & \\\\\n",
       "\t Saesee Tiin           & 188 &  NA & none         & pale                & orange    &  NA & male   & masculine & Iktotch     & Iktotchi       & The Phantom Menace , Revenge of the Sith &  & \\\\\n",
       "\t Rugor Nass            & 206 &  NA & none         & green               & orange    &  NA & male   & masculine & Naboo       & Gungan         & The Phantom Menace &  & \\\\\n",
       "\t Roos Tarpals          & 224 &  82 & none         & grey                & orange    &  NA & male   & masculine & Naboo       & Gungan         & The Phantom Menace &  & \\\\\n",
       "\t Ric Olié              & 183 &  NA & brown        & fair                & blue      &  NA & NA     & NA        & Naboo       & NA             & The Phantom Menace &  & Naboo Royal Starship\\\\\n",
       "\t Rey                   &  NA &  NA & brown        & light               & hazel     &  NA & female & feminine  & NA          & Human          & The Force Awakens &  & \\\\\n",
       "\t Raymus Antilles       & 188 &  79 & brown        & light               & brown     &  NA & male   & masculine & Alderaan    & Human          & Revenge of the Sith, A New Hope          &  & \\\\\n",
       "\t Ratts Tyerell         &  79 &  15 & none         & grey, blue          & unknown   &  NA & male   & masculine & Aleen Minor & Aleena         & The Phantom Menace &  & \\\\\n",
       "\t R5-D4                 &  97 &  32 & NA           & white, red          & red       &  NA & none   & masculine & Tatooine    & Droid          & A New Hope &  & \\\\\n",
       "\t R4-P17                &  96 &  NA & none         & silver, red         & red, blue &  NA & none   & feminine  & NA          & Droid          & Attack of the Clones, Revenge of the Sith  &  & \\\\\n",
       "\t R2-D2                 &  96 &  32 & NA           & white, blue         & red       &  33 & none   & masculine & Naboo       & Droid          & The Empire Strikes Back, Attack of the Clones   , The Phantom Menace     , Revenge of the Sith    , Return of the Jedi     , A New Hope             , The Force Awakens       &  & \\\\\n",
       "\t Qui-Gon Jinn          & 193 &  89 & brown        & fair                & blue      &  92 & male   & masculine & NA          & Human          & The Phantom Menace & Tribubble bongo & \\\\\n",
       "\t Quarsh Panaka         & 183 &  NA & black        & dark                & brown     &  62 & NA     & NA        & Naboo       & NA             & The Phantom Menace &  & \\\\\n",
       "\t Poggle the Lesser     & 183 &  80 & none         & green               & yellow    &  NA & male   & masculine & Geonosis    & Geonosian      & Attack of the Clones, Revenge of the Sith  &  & \\\\\n",
       "\t Poe Dameron           &  NA &  NA & brown        & light               & brown     &  NA & male   & masculine & NA          & Human          & The Force Awakens &  & T-70 X-wing fighter\\\\\n",
       "\t ⋮ & ⋮ & ⋮ & ⋮ & ⋮ & ⋮ & ⋮ & ⋮ & ⋮ & ⋮ & ⋮ & ⋮ & ⋮ & ⋮\\\\\n",
       "\t Greedo              & 173 &  74.0 & NA      & green               & black   &  44.0 & male   & masculine & Rodia     & Rodian       & A New Hope &  & \\\\\n",
       "\t Gasgano             & 122 &    NA & none    & white, blue         & black   &    NA & male   & masculine & Troiken   & Xexto        & The Phantom Menace &  & \\\\\n",
       "\t Finn                &  NA &    NA & black   & dark                & dark    &    NA & male   & masculine & NA        & Human        & The Force Awakens &  & \\\\\n",
       "\t Finis Valorum       & 170 &    NA & blond   & fair                & blue    &  91.0 & male   & masculine & Coruscant & Human        & The Phantom Menace &  & \\\\\n",
       "\t Eeth Koth           & 171 &    NA & black   & brown               & brown   &    NA & male   & masculine & Iridonia  & Zabrak       & The Phantom Menace , Revenge of the Sith &  & \\\\\n",
       "\t Dud Bolt            &  94 &  45.0 & none    & blue, grey          & yellow  &    NA & male   & masculine & Vulpter   & Vulptereen   & The Phantom Menace &  & \\\\\n",
       "\t Dormé               & 165 &    NA & brown   & light               & brown   &    NA & female & feminine  & Naboo     & Human        & Attack of the Clones &  & \\\\\n",
       "\t Dooku               & 193 &  80.0 & white   & fair                & brown   & 102.0 & male   & masculine & Serenno   & Human        & Attack of the Clones, Revenge of the Sith  & Flitknot speeder & \\\\\n",
       "\t Dexter Jettster     & 198 & 102.0 & none    & brown               & yellow  &    NA & male   & masculine & Ojom      & Besalisk     & Attack of the Clones &  & \\\\\n",
       "\t Darth Vader         & 202 & 136.0 & none    & white               & yellow  &  41.9 & male   & masculine & Tatooine  & Human        & The Empire Strikes Back, Revenge of the Sith    , Return of the Jedi     , A New Hope              &  & TIE Advanced x1\\\\\n",
       "\t Darth Maul          & 175 &  80.0 & none    & red                 & yellow  &  54.0 & male   & masculine & Dathomir  & Zabrak       & The Phantom Menace & Sith speeder & Scimitar\\\\\n",
       "\t Cordé               & 157 &    NA & brown   & light               & brown   &    NA & female & feminine  & Naboo     & Human        & Attack of the Clones &  & \\\\\n",
       "\t Cliegg Lars         & 183 &    NA & brown   & fair                & blue    &  82.0 & male   & masculine & Tatooine  & Human        & Attack of the Clones &  & \\\\\n",
       "\t Chewbacca           & 228 & 112.0 & brown   & unknown             & blue    & 200.0 & male   & masculine & Kashyyyk  & Wookiee      & The Empire Strikes Back, Revenge of the Sith    , Return of the Jedi     , A New Hope             , The Force Awakens       & AT-ST & Millennium Falcon, Imperial shuttle \\\\\n",
       "\t Captain Phasma      &  NA &    NA & unknown & unknown             & unknown &    NA & NA     & NA        & NA        & NA           & The Force Awakens &  & \\\\\n",
       "\t C-3PO               & 167 &  75.0 & NA      & gold                & yellow  & 112.0 & none   & masculine & Tatooine  & Droid        & The Empire Strikes Back, Attack of the Clones   , The Phantom Menace     , Revenge of the Sith    , Return of the Jedi     , A New Hope              &  & \\\\\n",
       "\t Bossk               & 190 & 113.0 & none    & green               & red     &  53.0 & male   & masculine & Trandosha & Trandoshan   & The Empire Strikes Back &  & \\\\\n",
       "\t Boba Fett           & 183 &  78.2 & black   & fair                & brown   &  31.5 & male   & masculine & Kamino    & Human        & The Empire Strikes Back, Attack of the Clones   , Return of the Jedi      &  & Slave 1\\\\\n",
       "\t Biggs Darklighter   & 183 &  84.0 & black   & light               & brown   &  24.0 & male   & masculine & Tatooine  & Human        & A New Hope &  & X-wing\\\\\n",
       "\t Bib Fortuna         & 180 &    NA & none    & pale                & pink    &    NA & male   & masculine & Ryloth    & Twi'lek      & Return of the Jedi &  & \\\\\n",
       "\t Beru Whitesun lars  & 165 &  75.0 & brown   & light               & blue    &  47.0 & female & feminine  & Tatooine  & Human        & Attack of the Clones, Revenge of the Sith , A New Hope           &  & \\\\\n",
       "\t Ben Quadinaros      & 163 &  65.0 & none    & grey, green, yellow & orange  &    NA & male   & masculine & Tund      & Toong        & The Phantom Menace &  & \\\\\n",
       "\t BB8                 &  NA &    NA & none    & none                & black   &    NA & none   & masculine & NA        & Droid        & The Force Awakens &  & \\\\\n",
       "\t Barriss Offee       & 166 &  50.0 & black   & yellow              & blue    &  40.0 & female & feminine  & Mirial    & Mirialan     & Attack of the Clones &  & \\\\\n",
       "\t Bail Prestor Organa & 191 &    NA & black   & tan                 & brown   &  67.0 & male   & masculine & Alderaan  & Human        & Attack of the Clones, Revenge of the Sith  &  & \\\\\n",
       "\t Ayla Secura         & 178 &  55.0 & none    & blue                & hazel   &  48.0 & female & feminine  & Ryloth    & Twi'lek      & Attack of the Clones, The Phantom Menace  , Revenge of the Sith  &  & \\\\\n",
       "\t Arvel Crynyd        &  NA &    NA & brown   & fair                & brown   &    NA & male   & masculine & NA        & Human        & Return of the Jedi &  & A-wing\\\\\n",
       "\t Anakin Skywalker    & 188 &  84.0 & blond   & fair                & blue    &  41.9 & male   & masculine & Tatooine  & Human        & Attack of the Clones, The Phantom Menace  , Revenge of the Sith  & Zephyr-G swoop bike, XJ-6 airspeeder     & Trade Federation cruiser, Jedi Interceptor        , Naboo fighter           \\\\\n",
       "\t Adi Gallia          & 184 &  50.0 & none    & dark                & blue    &    NA & female & feminine  & Coruscant & Tholothian   & The Phantom Menace , Revenge of the Sith &  & \\\\\n",
       "\t Ackbar              & 180 &  83.0 & none    & brown mottle        & orange  &  41.0 & male   & masculine & Mon Cala  & Mon Calamari & Return of the Jedi, The Force Awakens  &  & \\\\\n",
       "\\end{tabular}\n"
      ],
      "text/markdown": [
       "\n",
       "A tibble: 87 × 14\n",
       "\n",
       "| name &lt;chr&gt; | height &lt;int&gt; | mass &lt;dbl&gt; | hair_color &lt;chr&gt; | skin_color &lt;chr&gt; | eye_color &lt;chr&gt; | birth_year &lt;dbl&gt; | sex &lt;chr&gt; | gender &lt;chr&gt; | homeworld &lt;chr&gt; | species &lt;chr&gt; | films &lt;list&gt; | vehicles &lt;list&gt; | starships &lt;list&gt; |\n",
       "|---|---|---|---|---|---|---|---|---|---|---|---|---|---|\n",
       "| Zam Wesell            | 168 |  55 | blonde       | fair, green, yellow | yellow    |  NA | female | feminine  | Zolan       | Clawdite       | Attack of the Clones | Koro-2 Exodrive airspeeder | <!----> |\n",
       "| Yoda                  |  66 |  17 | white        | green               | brown     | 896 | male   | masculine | NA          | Yoda's species | The Empire Strikes Back, Attack of the Clones   , The Phantom Menace     , Revenge of the Sith    , Return of the Jedi      | <!----> | <!----> |\n",
       "| Yarael Poof           | 264 |  NA | none         | white               | yellow    |  NA | male   | masculine | Quermia     | Quermian       | The Phantom Menace | <!----> | <!----> |\n",
       "| Wilhuff Tarkin        | 180 |  NA | auburn, grey | fair                | blue      |  64 | male   | masculine | Eriadu      | Human          | Revenge of the Sith, A New Hope          | <!----> | <!----> |\n",
       "| Wicket Systri Warrick |  88 |  20 | brown        | brown               | brown     |   8 | male   | masculine | Endor       | Ewok           | Return of the Jedi | <!----> | <!----> |\n",
       "| Wedge Antilles        | 170 |  77 | brown        | fair                | hazel     |  21 | male   | masculine | Corellia    | Human          | The Empire Strikes Back, Return of the Jedi     , A New Hope              | Snowspeeder | X-wing |\n",
       "| Watto                 | 137 |  NA | black        | blue, grey          | yellow    |  NA | male   | masculine | Toydaria    | Toydarian      | Attack of the Clones, The Phantom Menace   | <!----> | <!----> |\n",
       "| Wat Tambor            | 193 |  48 | none         | green, grey         | unknown   |  NA | male   | masculine | Skako       | Skakoan        | Attack of the Clones | <!----> | <!----> |\n",
       "| Tion Medon            | 206 |  80 | none         | grey                | black     |  NA | male   | masculine | Utapau      | Pau'an         | Revenge of the Sith | <!----> | <!----> |\n",
       "| Taun We               | 213 |  NA | none         | grey                | black     |  NA | female | feminine  | Kamino      | Kaminoan       | Attack of the Clones | <!----> | <!----> |\n",
       "| Tarfful               | 234 | 136 | brown        | brown               | blue      |  NA | male   | masculine | Kashyyyk    | Wookiee        | Revenge of the Sith | <!----> | <!----> |\n",
       "| Sly Moore             | 178 |  48 | none         | pale                | white     |  NA | NA     | NA        | Umbara      | NA             | Attack of the Clones, Revenge of the Sith  | <!----> | <!----> |\n",
       "| Shmi Skywalker        | 163 |  NA | black        | fair                | brown     |  72 | female | feminine  | Tatooine    | Human          | Attack of the Clones, The Phantom Menace   | <!----> | <!----> |\n",
       "| Shaak Ti              | 178 |  57 | none         | red, blue, white    | black     |  NA | female | feminine  | Shili       | Togruta        | Attack of the Clones, Revenge of the Sith  | <!----> | <!----> |\n",
       "| Sebulba               | 112 |  40 | none         | grey, red           | orange    |  NA | male   | masculine | Malastare   | Dug            | The Phantom Menace | <!----> | <!----> |\n",
       "| San Hill              | 191 |  NA | none         | grey                | gold      |  NA | male   | masculine | Muunilinst  | Muun           | Attack of the Clones | <!----> | <!----> |\n",
       "| Saesee Tiin           | 188 |  NA | none         | pale                | orange    |  NA | male   | masculine | Iktotch     | Iktotchi       | The Phantom Menace , Revenge of the Sith | <!----> | <!----> |\n",
       "| Rugor Nass            | 206 |  NA | none         | green               | orange    |  NA | male   | masculine | Naboo       | Gungan         | The Phantom Menace | <!----> | <!----> |\n",
       "| Roos Tarpals          | 224 |  82 | none         | grey                | orange    |  NA | male   | masculine | Naboo       | Gungan         | The Phantom Menace | <!----> | <!----> |\n",
       "| Ric Olié              | 183 |  NA | brown        | fair                | blue      |  NA | NA     | NA        | Naboo       | NA             | The Phantom Menace | <!----> | Naboo Royal Starship |\n",
       "| Rey                   |  NA |  NA | brown        | light               | hazel     |  NA | female | feminine  | NA          | Human          | The Force Awakens | <!----> | <!----> |\n",
       "| Raymus Antilles       | 188 |  79 | brown        | light               | brown     |  NA | male   | masculine | Alderaan    | Human          | Revenge of the Sith, A New Hope          | <!----> | <!----> |\n",
       "| Ratts Tyerell         |  79 |  15 | none         | grey, blue          | unknown   |  NA | male   | masculine | Aleen Minor | Aleena         | The Phantom Menace | <!----> | <!----> |\n",
       "| R5-D4                 |  97 |  32 | NA           | white, red          | red       |  NA | none   | masculine | Tatooine    | Droid          | A New Hope | <!----> | <!----> |\n",
       "| R4-P17                |  96 |  NA | none         | silver, red         | red, blue |  NA | none   | feminine  | NA          | Droid          | Attack of the Clones, Revenge of the Sith  | <!----> | <!----> |\n",
       "| R2-D2                 |  96 |  32 | NA           | white, blue         | red       |  33 | none   | masculine | Naboo       | Droid          | The Empire Strikes Back, Attack of the Clones   , The Phantom Menace     , Revenge of the Sith    , Return of the Jedi     , A New Hope             , The Force Awakens       | <!----> | <!----> |\n",
       "| Qui-Gon Jinn          | 193 |  89 | brown        | fair                | blue      |  92 | male   | masculine | NA          | Human          | The Phantom Menace | Tribubble bongo | <!----> |\n",
       "| Quarsh Panaka         | 183 |  NA | black        | dark                | brown     |  62 | NA     | NA        | Naboo       | NA             | The Phantom Menace | <!----> | <!----> |\n",
       "| Poggle the Lesser     | 183 |  80 | none         | green               | yellow    |  NA | male   | masculine | Geonosis    | Geonosian      | Attack of the Clones, Revenge of the Sith  | <!----> | <!----> |\n",
       "| Poe Dameron           |  NA |  NA | brown        | light               | brown     |  NA | male   | masculine | NA          | Human          | The Force Awakens | <!----> | T-70 X-wing fighter |\n",
       "| ⋮ | ⋮ | ⋮ | ⋮ | ⋮ | ⋮ | ⋮ | ⋮ | ⋮ | ⋮ | ⋮ | ⋮ | ⋮ | ⋮ |\n",
       "| Greedo              | 173 |  74.0 | NA      | green               | black   |  44.0 | male   | masculine | Rodia     | Rodian       | A New Hope | <!----> | <!----> |\n",
       "| Gasgano             | 122 |    NA | none    | white, blue         | black   |    NA | male   | masculine | Troiken   | Xexto        | The Phantom Menace | <!----> | <!----> |\n",
       "| Finn                |  NA |    NA | black   | dark                | dark    |    NA | male   | masculine | NA        | Human        | The Force Awakens | <!----> | <!----> |\n",
       "| Finis Valorum       | 170 |    NA | blond   | fair                | blue    |  91.0 | male   | masculine | Coruscant | Human        | The Phantom Menace | <!----> | <!----> |\n",
       "| Eeth Koth           | 171 |    NA | black   | brown               | brown   |    NA | male   | masculine | Iridonia  | Zabrak       | The Phantom Menace , Revenge of the Sith | <!----> | <!----> |\n",
       "| Dud Bolt            |  94 |  45.0 | none    | blue, grey          | yellow  |    NA | male   | masculine | Vulpter   | Vulptereen   | The Phantom Menace | <!----> | <!----> |\n",
       "| Dormé               | 165 |    NA | brown   | light               | brown   |    NA | female | feminine  | Naboo     | Human        | Attack of the Clones | <!----> | <!----> |\n",
       "| Dooku               | 193 |  80.0 | white   | fair                | brown   | 102.0 | male   | masculine | Serenno   | Human        | Attack of the Clones, Revenge of the Sith  | Flitknot speeder | <!----> |\n",
       "| Dexter Jettster     | 198 | 102.0 | none    | brown               | yellow  |    NA | male   | masculine | Ojom      | Besalisk     | Attack of the Clones | <!----> | <!----> |\n",
       "| Darth Vader         | 202 | 136.0 | none    | white               | yellow  |  41.9 | male   | masculine | Tatooine  | Human        | The Empire Strikes Back, Revenge of the Sith    , Return of the Jedi     , A New Hope              | <!----> | TIE Advanced x1 |\n",
       "| Darth Maul          | 175 |  80.0 | none    | red                 | yellow  |  54.0 | male   | masculine | Dathomir  | Zabrak       | The Phantom Menace | Sith speeder | Scimitar |\n",
       "| Cordé               | 157 |    NA | brown   | light               | brown   |    NA | female | feminine  | Naboo     | Human        | Attack of the Clones | <!----> | <!----> |\n",
       "| Cliegg Lars         | 183 |    NA | brown   | fair                | blue    |  82.0 | male   | masculine | Tatooine  | Human        | Attack of the Clones | <!----> | <!----> |\n",
       "| Chewbacca           | 228 | 112.0 | brown   | unknown             | blue    | 200.0 | male   | masculine | Kashyyyk  | Wookiee      | The Empire Strikes Back, Revenge of the Sith    , Return of the Jedi     , A New Hope             , The Force Awakens       | AT-ST | Millennium Falcon, Imperial shuttle  |\n",
       "| Captain Phasma      |  NA |    NA | unknown | unknown             | unknown |    NA | NA     | NA        | NA        | NA           | The Force Awakens | <!----> | <!----> |\n",
       "| C-3PO               | 167 |  75.0 | NA      | gold                | yellow  | 112.0 | none   | masculine | Tatooine  | Droid        | The Empire Strikes Back, Attack of the Clones   , The Phantom Menace     , Revenge of the Sith    , Return of the Jedi     , A New Hope              | <!----> | <!----> |\n",
       "| Bossk               | 190 | 113.0 | none    | green               | red     |  53.0 | male   | masculine | Trandosha | Trandoshan   | The Empire Strikes Back | <!----> | <!----> |\n",
       "| Boba Fett           | 183 |  78.2 | black   | fair                | brown   |  31.5 | male   | masculine | Kamino    | Human        | The Empire Strikes Back, Attack of the Clones   , Return of the Jedi      | <!----> | Slave 1 |\n",
       "| Biggs Darklighter   | 183 |  84.0 | black   | light               | brown   |  24.0 | male   | masculine | Tatooine  | Human        | A New Hope | <!----> | X-wing |\n",
       "| Bib Fortuna         | 180 |    NA | none    | pale                | pink    |    NA | male   | masculine | Ryloth    | Twi'lek      | Return of the Jedi | <!----> | <!----> |\n",
       "| Beru Whitesun lars  | 165 |  75.0 | brown   | light               | blue    |  47.0 | female | feminine  | Tatooine  | Human        | Attack of the Clones, Revenge of the Sith , A New Hope           | <!----> | <!----> |\n",
       "| Ben Quadinaros      | 163 |  65.0 | none    | grey, green, yellow | orange  |    NA | male   | masculine | Tund      | Toong        | The Phantom Menace | <!----> | <!----> |\n",
       "| BB8                 |  NA |    NA | none    | none                | black   |    NA | none   | masculine | NA        | Droid        | The Force Awakens | <!----> | <!----> |\n",
       "| Barriss Offee       | 166 |  50.0 | black   | yellow              | blue    |  40.0 | female | feminine  | Mirial    | Mirialan     | Attack of the Clones | <!----> | <!----> |\n",
       "| Bail Prestor Organa | 191 |    NA | black   | tan                 | brown   |  67.0 | male   | masculine | Alderaan  | Human        | Attack of the Clones, Revenge of the Sith  | <!----> | <!----> |\n",
       "| Ayla Secura         | 178 |  55.0 | none    | blue                | hazel   |  48.0 | female | feminine  | Ryloth    | Twi'lek      | Attack of the Clones, The Phantom Menace  , Revenge of the Sith  | <!----> | <!----> |\n",
       "| Arvel Crynyd        |  NA |    NA | brown   | fair                | brown   |    NA | male   | masculine | NA        | Human        | Return of the Jedi | <!----> | A-wing |\n",
       "| Anakin Skywalker    | 188 |  84.0 | blond   | fair                | blue    |  41.9 | male   | masculine | Tatooine  | Human        | Attack of the Clones, The Phantom Menace  , Revenge of the Sith  | Zephyr-G swoop bike, XJ-6 airspeeder     | Trade Federation cruiser, Jedi Interceptor        , Naboo fighter            |\n",
       "| Adi Gallia          | 184 |  50.0 | none    | dark                | blue    |    NA | female | feminine  | Coruscant | Tholothian   | The Phantom Menace , Revenge of the Sith | <!----> | <!----> |\n",
       "| Ackbar              | 180 |  83.0 | none    | brown mottle        | orange  |  41.0 | male   | masculine | Mon Cala  | Mon Calamari | Return of the Jedi, The Force Awakens  | <!----> | <!----> |\n",
       "\n"
      ],
      "text/plain": [
       "   name                  height mass  hair_color   skin_color         \n",
       "1  Zam Wesell            168     55   blonde       fair, green, yellow\n",
       "2  Yoda                   66     17   white        green              \n",
       "3  Yarael Poof           264     NA   none         white              \n",
       "4  Wilhuff Tarkin        180     NA   auburn, grey fair               \n",
       "5  Wicket Systri Warrick  88     20   brown        brown              \n",
       "6  Wedge Antilles        170     77   brown        fair               \n",
       "7  Watto                 137     NA   black        blue, grey         \n",
       "8  Wat Tambor            193     48   none         green, grey        \n",
       "9  Tion Medon            206     80   none         grey               \n",
       "10 Taun We               213     NA   none         grey               \n",
       "11 Tarfful               234    136   brown        brown              \n",
       "12 Sly Moore             178     48   none         pale               \n",
       "13 Shmi Skywalker        163     NA   black        fair               \n",
       "14 Shaak Ti              178     57   none         red, blue, white   \n",
       "15 Sebulba               112     40   none         grey, red          \n",
       "16 San Hill              191     NA   none         grey               \n",
       "17 Saesee Tiin           188     NA   none         pale               \n",
       "18 Rugor Nass            206     NA   none         green              \n",
       "19 Roos Tarpals          224     82   none         grey               \n",
       "20 Ric Olié              183     NA   brown        fair               \n",
       "21 Rey                    NA     NA   brown        light              \n",
       "22 Raymus Antilles       188     79   brown        light              \n",
       "23 Ratts Tyerell          79     15   none         grey, blue         \n",
       "24 R5-D4                  97     32   NA           white, red         \n",
       "25 R4-P17                 96     NA   none         silver, red        \n",
       "26 R2-D2                  96     32   NA           white, blue        \n",
       "27 Qui-Gon Jinn          193     89   brown        fair               \n",
       "28 Quarsh Panaka         183     NA   black        dark               \n",
       "29 Poggle the Lesser     183     80   none         green              \n",
       "30 Poe Dameron            NA     NA   brown        light              \n",
       "⋮  ⋮                     ⋮      ⋮     ⋮            ⋮                  \n",
       "58 Greedo                173     74.0 NA           green              \n",
       "59 Gasgano               122       NA none         white, blue        \n",
       "60 Finn                   NA       NA black        dark               \n",
       "61 Finis Valorum         170       NA blond        fair               \n",
       "62 Eeth Koth             171       NA black        brown              \n",
       "63 Dud Bolt               94     45.0 none         blue, grey         \n",
       "64 Dormé                 165       NA brown        light              \n",
       "65 Dooku                 193     80.0 white        fair               \n",
       "66 Dexter Jettster       198    102.0 none         brown              \n",
       "67 Darth Vader           202    136.0 none         white              \n",
       "68 Darth Maul            175     80.0 none         red                \n",
       "69 Cordé                 157       NA brown        light              \n",
       "70 Cliegg Lars           183       NA brown        fair               \n",
       "71 Chewbacca             228    112.0 brown        unknown            \n",
       "72 Captain Phasma         NA       NA unknown      unknown            \n",
       "73 C-3PO                 167     75.0 NA           gold               \n",
       "74 Bossk                 190    113.0 none         green              \n",
       "75 Boba Fett             183     78.2 black        fair               \n",
       "76 Biggs Darklighter     183     84.0 black        light              \n",
       "77 Bib Fortuna           180       NA none         pale               \n",
       "78 Beru Whitesun lars    165     75.0 brown        light              \n",
       "79 Ben Quadinaros        163     65.0 none         grey, green, yellow\n",
       "80 BB8                    NA       NA none         none               \n",
       "81 Barriss Offee         166     50.0 black        yellow             \n",
       "82 Bail Prestor Organa   191       NA black        tan                \n",
       "83 Ayla Secura           178     55.0 none         blue               \n",
       "84 Arvel Crynyd           NA       NA brown        fair               \n",
       "85 Anakin Skywalker      188     84.0 blond        fair               \n",
       "86 Adi Gallia            184     50.0 none         dark               \n",
       "87 Ackbar                180     83.0 none         brown mottle       \n",
       "   eye_color birth_year sex    gender    homeworld   species       \n",
       "1  yellow     NA        female feminine  Zolan       Clawdite      \n",
       "2  brown     896        male   masculine NA          Yoda's species\n",
       "3  yellow     NA        male   masculine Quermia     Quermian      \n",
       "4  blue       64        male   masculine Eriadu      Human         \n",
       "5  brown       8        male   masculine Endor       Ewok          \n",
       "6  hazel      21        male   masculine Corellia    Human         \n",
       "7  yellow     NA        male   masculine Toydaria    Toydarian     \n",
       "8  unknown    NA        male   masculine Skako       Skakoan       \n",
       "9  black      NA        male   masculine Utapau      Pau'an        \n",
       "10 black      NA        female feminine  Kamino      Kaminoan      \n",
       "11 blue       NA        male   masculine Kashyyyk    Wookiee       \n",
       "12 white      NA        NA     NA        Umbara      NA            \n",
       "13 brown      72        female feminine  Tatooine    Human         \n",
       "14 black      NA        female feminine  Shili       Togruta       \n",
       "15 orange     NA        male   masculine Malastare   Dug           \n",
       "16 gold       NA        male   masculine Muunilinst  Muun          \n",
       "17 orange     NA        male   masculine Iktotch     Iktotchi      \n",
       "18 orange     NA        male   masculine Naboo       Gungan        \n",
       "19 orange     NA        male   masculine Naboo       Gungan        \n",
       "20 blue       NA        NA     NA        Naboo       NA            \n",
       "21 hazel      NA        female feminine  NA          Human         \n",
       "22 brown      NA        male   masculine Alderaan    Human         \n",
       "23 unknown    NA        male   masculine Aleen Minor Aleena        \n",
       "24 red        NA        none   masculine Tatooine    Droid         \n",
       "25 red, blue  NA        none   feminine  NA          Droid         \n",
       "26 red        33        none   masculine Naboo       Droid         \n",
       "27 blue       92        male   masculine NA          Human         \n",
       "28 brown      62        NA     NA        Naboo       NA            \n",
       "29 yellow     NA        male   masculine Geonosis    Geonosian     \n",
       "30 brown      NA        male   masculine NA          Human         \n",
       "⋮  ⋮         ⋮          ⋮      ⋮         ⋮           ⋮             \n",
       "58 black      44.0      male   masculine Rodia       Rodian        \n",
       "59 black        NA      male   masculine Troiken     Xexto         \n",
       "60 dark         NA      male   masculine NA          Human         \n",
       "61 blue       91.0      male   masculine Coruscant   Human         \n",
       "62 brown        NA      male   masculine Iridonia    Zabrak        \n",
       "63 yellow       NA      male   masculine Vulpter     Vulptereen    \n",
       "64 brown        NA      female feminine  Naboo       Human         \n",
       "65 brown     102.0      male   masculine Serenno     Human         \n",
       "66 yellow       NA      male   masculine Ojom        Besalisk      \n",
       "67 yellow     41.9      male   masculine Tatooine    Human         \n",
       "68 yellow     54.0      male   masculine Dathomir    Zabrak        \n",
       "69 brown        NA      female feminine  Naboo       Human         \n",
       "70 blue       82.0      male   masculine Tatooine    Human         \n",
       "71 blue      200.0      male   masculine Kashyyyk    Wookiee       \n",
       "72 unknown      NA      NA     NA        NA          NA            \n",
       "73 yellow    112.0      none   masculine Tatooine    Droid         \n",
       "74 red        53.0      male   masculine Trandosha   Trandoshan    \n",
       "75 brown      31.5      male   masculine Kamino      Human         \n",
       "76 brown      24.0      male   masculine Tatooine    Human         \n",
       "77 pink         NA      male   masculine Ryloth      Twi'lek       \n",
       "78 blue       47.0      female feminine  Tatooine    Human         \n",
       "79 orange       NA      male   masculine Tund        Toong         \n",
       "80 black        NA      none   masculine NA          Droid         \n",
       "81 blue       40.0      female feminine  Mirial      Mirialan      \n",
       "82 brown      67.0      male   masculine Alderaan    Human         \n",
       "83 hazel      48.0      female feminine  Ryloth      Twi'lek       \n",
       "84 brown        NA      male   masculine NA          Human         \n",
       "85 blue       41.9      male   masculine Tatooine    Human         \n",
       "86 blue         NA      female feminine  Coruscant   Tholothian    \n",
       "87 orange     41.0      male   masculine Mon Cala    Mon Calamari  \n",
       "   films                                                                                                                                                                        \n",
       "1  Attack of the Clones                                                                                                                                                         \n",
       "2  The Empire Strikes Back, Attack of the Clones   , The Phantom Menace     , Revenge of the Sith    , Return of the Jedi                                                       \n",
       "3  The Phantom Menace                                                                                                                                                           \n",
       "4  Revenge of the Sith, A New Hope                                                                                                                                              \n",
       "5  Return of the Jedi                                                                                                                                                           \n",
       "6  The Empire Strikes Back, Return of the Jedi     , A New Hope                                                                                                                 \n",
       "7  Attack of the Clones, The Phantom Menace                                                                                                                                     \n",
       "8  Attack of the Clones                                                                                                                                                         \n",
       "9  Revenge of the Sith                                                                                                                                                          \n",
       "10 Attack of the Clones                                                                                                                                                         \n",
       "11 Revenge of the Sith                                                                                                                                                          \n",
       "12 Attack of the Clones, Revenge of the Sith                                                                                                                                    \n",
       "13 Attack of the Clones, The Phantom Menace                                                                                                                                     \n",
       "14 Attack of the Clones, Revenge of the Sith                                                                                                                                    \n",
       "15 The Phantom Menace                                                                                                                                                           \n",
       "16 Attack of the Clones                                                                                                                                                         \n",
       "17 The Phantom Menace , Revenge of the Sith                                                                                                                                     \n",
       "18 The Phantom Menace                                                                                                                                                           \n",
       "19 The Phantom Menace                                                                                                                                                           \n",
       "20 The Phantom Menace                                                                                                                                                           \n",
       "21 The Force Awakens                                                                                                                                                            \n",
       "22 Revenge of the Sith, A New Hope                                                                                                                                              \n",
       "23 The Phantom Menace                                                                                                                                                           \n",
       "24 A New Hope                                                                                                                                                                   \n",
       "25 Attack of the Clones, Revenge of the Sith                                                                                                                                    \n",
       "26 The Empire Strikes Back, Attack of the Clones   , The Phantom Menace     , Revenge of the Sith    , Return of the Jedi     , A New Hope             , The Force Awakens      \n",
       "27 The Phantom Menace                                                                                                                                                           \n",
       "28 The Phantom Menace                                                                                                                                                           \n",
       "29 Attack of the Clones, Revenge of the Sith                                                                                                                                    \n",
       "30 The Force Awakens                                                                                                                                                            \n",
       "⋮  ⋮                                                                                                                                                                            \n",
       "58 A New Hope                                                                                                                                                                   \n",
       "59 The Phantom Menace                                                                                                                                                           \n",
       "60 The Force Awakens                                                                                                                                                            \n",
       "61 The Phantom Menace                                                                                                                                                           \n",
       "62 The Phantom Menace , Revenge of the Sith                                                                                                                                     \n",
       "63 The Phantom Menace                                                                                                                                                           \n",
       "64 Attack of the Clones                                                                                                                                                         \n",
       "65 Attack of the Clones, Revenge of the Sith                                                                                                                                    \n",
       "66 Attack of the Clones                                                                                                                                                         \n",
       "67 The Empire Strikes Back, Revenge of the Sith    , Return of the Jedi     , A New Hope                                                                                        \n",
       "68 The Phantom Menace                                                                                                                                                           \n",
       "69 Attack of the Clones                                                                                                                                                         \n",
       "70 Attack of the Clones                                                                                                                                                         \n",
       "71 The Empire Strikes Back, Revenge of the Sith    , Return of the Jedi     , A New Hope             , The Force Awakens                                                        \n",
       "72 The Force Awakens                                                                                                                                                            \n",
       "73 The Empire Strikes Back, Attack of the Clones   , The Phantom Menace     , Revenge of the Sith    , Return of the Jedi     , A New Hope                                      \n",
       "74 The Empire Strikes Back                                                                                                                                                      \n",
       "75 The Empire Strikes Back, Attack of the Clones   , Return of the Jedi                                                                                                         \n",
       "76 A New Hope                                                                                                                                                                   \n",
       "77 Return of the Jedi                                                                                                                                                           \n",
       "78 Attack of the Clones, Revenge of the Sith , A New Hope                                                                                                                       \n",
       "79 The Phantom Menace                                                                                                                                                           \n",
       "80 The Force Awakens                                                                                                                                                            \n",
       "81 Attack of the Clones                                                                                                                                                         \n",
       "82 Attack of the Clones, Revenge of the Sith                                                                                                                                    \n",
       "83 Attack of the Clones, The Phantom Menace  , Revenge of the Sith                                                                                                              \n",
       "84 Return of the Jedi                                                                                                                                                           \n",
       "85 Attack of the Clones, The Phantom Menace  , Revenge of the Sith                                                                                                              \n",
       "86 The Phantom Menace , Revenge of the Sith                                                                                                                                     \n",
       "87 Return of the Jedi, The Force Awakens                                                                                                                                        \n",
       "   vehicles                                \n",
       "1  Koro-2 Exodrive airspeeder              \n",
       "2                                          \n",
       "3                                          \n",
       "4                                          \n",
       "5                                          \n",
       "6  Snowspeeder                             \n",
       "7                                          \n",
       "8                                          \n",
       "9                                          \n",
       "10                                         \n",
       "11                                         \n",
       "12                                         \n",
       "13                                         \n",
       "14                                         \n",
       "15                                         \n",
       "16                                         \n",
       "17                                         \n",
       "18                                         \n",
       "19                                         \n",
       "20                                         \n",
       "21                                         \n",
       "22                                         \n",
       "23                                         \n",
       "24                                         \n",
       "25                                         \n",
       "26                                         \n",
       "27 Tribubble bongo                         \n",
       "28                                         \n",
       "29                                         \n",
       "30                                         \n",
       "⋮  ⋮                                       \n",
       "58                                         \n",
       "59                                         \n",
       "60                                         \n",
       "61                                         \n",
       "62                                         \n",
       "63                                         \n",
       "64                                         \n",
       "65 Flitknot speeder                        \n",
       "66                                         \n",
       "67                                         \n",
       "68 Sith speeder                            \n",
       "69                                         \n",
       "70                                         \n",
       "71 AT-ST                                   \n",
       "72                                         \n",
       "73                                         \n",
       "74                                         \n",
       "75                                         \n",
       "76                                         \n",
       "77                                         \n",
       "78                                         \n",
       "79                                         \n",
       "80                                         \n",
       "81                                         \n",
       "82                                         \n",
       "83                                         \n",
       "84                                         \n",
       "85 Zephyr-G swoop bike, XJ-6 airspeeder    \n",
       "86                                         \n",
       "87                                         \n",
       "   starships                                                                   \n",
       "1                                                                              \n",
       "2                                                                              \n",
       "3                                                                              \n",
       "4                                                                              \n",
       "5                                                                              \n",
       "6  X-wing                                                                      \n",
       "7                                                                              \n",
       "8                                                                              \n",
       "9                                                                              \n",
       "10                                                                             \n",
       "11                                                                             \n",
       "12                                                                             \n",
       "13                                                                             \n",
       "14                                                                             \n",
       "15                                                                             \n",
       "16                                                                             \n",
       "17                                                                             \n",
       "18                                                                             \n",
       "19                                                                             \n",
       "20 Naboo Royal Starship                                                        \n",
       "21                                                                             \n",
       "22                                                                             \n",
       "23                                                                             \n",
       "24                                                                             \n",
       "25                                                                             \n",
       "26                                                                             \n",
       "27                                                                             \n",
       "28                                                                             \n",
       "29                                                                             \n",
       "30 T-70 X-wing fighter                                                         \n",
       "⋮  ⋮                                                                           \n",
       "58                                                                             \n",
       "59                                                                             \n",
       "60                                                                             \n",
       "61                                                                             \n",
       "62                                                                             \n",
       "63                                                                             \n",
       "64                                                                             \n",
       "65                                                                             \n",
       "66                                                                             \n",
       "67 TIE Advanced x1                                                             \n",
       "68 Scimitar                                                                    \n",
       "69                                                                             \n",
       "70                                                                             \n",
       "71 Millennium Falcon, Imperial shuttle                                         \n",
       "72                                                                             \n",
       "73                                                                             \n",
       "74                                                                             \n",
       "75 Slave 1                                                                     \n",
       "76 X-wing                                                                      \n",
       "77                                                                             \n",
       "78                                                                             \n",
       "79                                                                             \n",
       "80                                                                             \n",
       "81                                                                             \n",
       "82                                                                             \n",
       "83                                                                             \n",
       "84 A-wing                                                                      \n",
       "85 Trade Federation cruiser, Jedi Interceptor        , Naboo fighter           \n",
       "86                                                                             \n",
       "87                                                                             "
      ]
     },
     "metadata": {},
     "output_type": "display_data"
    }
   ],
   "source": [
    "arrange(starwars,desc(starwars$name),starwars$hair_color)\n",
    "#name in descending, hair_color in ascending"
   ]
  },
  {
   "cell_type": "markdown",
   "id": "central-potter",
   "metadata": {},
   "source": [
    "# data.table package\n",
    "- used for big data frames"
   ]
  },
  {
   "cell_type": "code",
   "execution_count": 62,
   "id": "honey-scheduling",
   "metadata": {},
   "outputs": [
    {
     "ename": "ERROR",
     "evalue": "Error in `[.data.frame`(women, , women$height): undefined columns selected\n",
     "output_type": "error",
     "traceback": [
      "Error in `[.data.frame`(women, , women$height): undefined columns selected\nTraceback:\n",
      "1. women[, women$height]",
      "2. `[.data.frame`(women, , women$height)",
      "3. stop(\"undefined columns selected\")"
     ]
    }
   ],
   "source": [
    "women[,women$height]"
   ]
  },
  {
   "cell_type": "code",
   "execution_count": 64,
   "id": "absolute-performance",
   "metadata": {},
   "outputs": [],
   "source": [
    "dt = as.data.table(women)"
   ]
  },
  {
   "cell_type": "code",
   "execution_count": 65,
   "id": "large-cornwall",
   "metadata": {},
   "outputs": [
    {
     "data": {
      "text/html": [
       "<style>\n",
       ".list-inline {list-style: none; margin:0; padding: 0}\n",
       ".list-inline>li {display: inline-block}\n",
       ".list-inline>li:not(:last-child)::after {content: \"\\00b7\"; padding: 0 .5ex}\n",
       "</style>\n",
       "<ol class=list-inline><li>'data.table'</li><li>'data.frame'</li></ol>\n"
      ],
      "text/latex": [
       "\\begin{enumerate*}\n",
       "\\item 'data.table'\n",
       "\\item 'data.frame'\n",
       "\\end{enumerate*}\n"
      ],
      "text/markdown": [
       "1. 'data.table'\n",
       "2. 'data.frame'\n",
       "\n",
       "\n"
      ],
      "text/plain": [
       "[1] \"data.table\" \"data.frame\""
      ]
     },
     "metadata": {},
     "output_type": "display_data"
    }
   ],
   "source": [
    "class(dt)"
   ]
  },
  {
   "cell_type": "code",
   "execution_count": 66,
   "id": "hollywood-backup",
   "metadata": {},
   "outputs": [
    {
     "data": {
      "text/html": [
       "<table class=\"dataframe\">\n",
       "<caption>A data.table: 15 × 1</caption>\n",
       "<thead>\n",
       "\t<tr><th scope=col>V1</th></tr>\n",
       "\t<tr><th scope=col>&lt;dbl&gt;</th></tr>\n",
       "</thead>\n",
       "<tbody>\n",
       "\t<tr><td>58</td></tr>\n",
       "\t<tr><td>59</td></tr>\n",
       "\t<tr><td>60</td></tr>\n",
       "\t<tr><td>61</td></tr>\n",
       "\t<tr><td>62</td></tr>\n",
       "\t<tr><td>63</td></tr>\n",
       "\t<tr><td>64</td></tr>\n",
       "\t<tr><td>65</td></tr>\n",
       "\t<tr><td>66</td></tr>\n",
       "\t<tr><td>67</td></tr>\n",
       "\t<tr><td>68</td></tr>\n",
       "\t<tr><td>69</td></tr>\n",
       "\t<tr><td>70</td></tr>\n",
       "\t<tr><td>71</td></tr>\n",
       "\t<tr><td>72</td></tr>\n",
       "</tbody>\n",
       "</table>\n"
      ],
      "text/latex": [
       "A data.table: 15 × 1\n",
       "\\begin{tabular}{l}\n",
       " V1\\\\\n",
       " <dbl>\\\\\n",
       "\\hline\n",
       "\t 58\\\\\n",
       "\t 59\\\\\n",
       "\t 60\\\\\n",
       "\t 61\\\\\n",
       "\t 62\\\\\n",
       "\t 63\\\\\n",
       "\t 64\\\\\n",
       "\t 65\\\\\n",
       "\t 66\\\\\n",
       "\t 67\\\\\n",
       "\t 68\\\\\n",
       "\t 69\\\\\n",
       "\t 70\\\\\n",
       "\t 71\\\\\n",
       "\t 72\\\\\n",
       "\\end{tabular}\n"
      ],
      "text/markdown": [
       "\n",
       "A data.table: 15 × 1\n",
       "\n",
       "| V1 &lt;dbl&gt; |\n",
       "|---|\n",
       "| 58 |\n",
       "| 59 |\n",
       "| 60 |\n",
       "| 61 |\n",
       "| 62 |\n",
       "| 63 |\n",
       "| 64 |\n",
       "| 65 |\n",
       "| 66 |\n",
       "| 67 |\n",
       "| 68 |\n",
       "| 69 |\n",
       "| 70 |\n",
       "| 71 |\n",
       "| 72 |\n",
       "\n"
      ],
      "text/plain": [
       "   V1\n",
       "1  58\n",
       "2  59\n",
       "3  60\n",
       "4  61\n",
       "5  62\n",
       "6  63\n",
       "7  64\n",
       "8  65\n",
       "9  66\n",
       "10 67\n",
       "11 68\n",
       "12 69\n",
       "13 70\n",
       "14 71\n",
       "15 72"
      ]
     },
     "metadata": {},
     "output_type": "display_data"
    }
   ],
   "source": [
    "dt[,.(dt$height)]"
   ]
  },
  {
   "cell_type": "code",
   "execution_count": 67,
   "id": "sporting-pennsylvania",
   "metadata": {},
   "outputs": [
    {
     "data": {
      "text/html": [
       "<style>\n",
       ".list-inline {list-style: none; margin:0; padding: 0}\n",
       ".list-inline>li {display: inline-block}\n",
       ".list-inline>li:not(:last-child)::after {content: \"\\00b7\"; padding: 0 .5ex}\n",
       "</style>\n",
       "<ol class=list-inline><li>58</li><li>59</li><li>60</li><li>61</li><li>62</li><li>63</li><li>64</li><li>65</li><li>66</li><li>67</li><li>68</li><li>69</li><li>70</li><li>71</li><li>72</li></ol>\n"
      ],
      "text/latex": [
       "\\begin{enumerate*}\n",
       "\\item 58\n",
       "\\item 59\n",
       "\\item 60\n",
       "\\item 61\n",
       "\\item 62\n",
       "\\item 63\n",
       "\\item 64\n",
       "\\item 65\n",
       "\\item 66\n",
       "\\item 67\n",
       "\\item 68\n",
       "\\item 69\n",
       "\\item 70\n",
       "\\item 71\n",
       "\\item 72\n",
       "\\end{enumerate*}\n"
      ],
      "text/markdown": [
       "1. 58\n",
       "2. 59\n",
       "3. 60\n",
       "4. 61\n",
       "5. 62\n",
       "6. 63\n",
       "7. 64\n",
       "8. 65\n",
       "9. 66\n",
       "10. 67\n",
       "11. 68\n",
       "12. 69\n",
       "13. 70\n",
       "14. 71\n",
       "15. 72\n",
       "\n",
       "\n"
      ],
      "text/plain": [
       " [1] 58 59 60 61 62 63 64 65 66 67 68 69 70 71 72"
      ]
     },
     "metadata": {},
     "output_type": "display_data"
    }
   ],
   "source": [
    "dt[,c(dt$height)]"
   ]
  },
  {
   "cell_type": "code",
   "execution_count": 68,
   "id": "alpine-think",
   "metadata": {},
   "outputs": [
    {
     "data": {
      "text/html": [
       "<table class=\"dataframe\">\n",
       "<caption>A data.table: 15 × 1</caption>\n",
       "<thead>\n",
       "\t<tr><th scope=col>weight</th></tr>\n",
       "\t<tr><th scope=col>&lt;dbl&gt;</th></tr>\n",
       "</thead>\n",
       "<tbody>\n",
       "\t<tr><td>115</td></tr>\n",
       "\t<tr><td>117</td></tr>\n",
       "\t<tr><td>120</td></tr>\n",
       "\t<tr><td>123</td></tr>\n",
       "\t<tr><td>126</td></tr>\n",
       "\t<tr><td>129</td></tr>\n",
       "\t<tr><td>132</td></tr>\n",
       "\t<tr><td>135</td></tr>\n",
       "\t<tr><td>139</td></tr>\n",
       "\t<tr><td>142</td></tr>\n",
       "\t<tr><td>146</td></tr>\n",
       "\t<tr><td>150</td></tr>\n",
       "\t<tr><td>154</td></tr>\n",
       "\t<tr><td>159</td></tr>\n",
       "\t<tr><td>164</td></tr>\n",
       "</tbody>\n",
       "</table>\n"
      ],
      "text/latex": [
       "A data.table: 15 × 1\n",
       "\\begin{tabular}{l}\n",
       " weight\\\\\n",
       " <dbl>\\\\\n",
       "\\hline\n",
       "\t 115\\\\\n",
       "\t 117\\\\\n",
       "\t 120\\\\\n",
       "\t 123\\\\\n",
       "\t 126\\\\\n",
       "\t 129\\\\\n",
       "\t 132\\\\\n",
       "\t 135\\\\\n",
       "\t 139\\\\\n",
       "\t 142\\\\\n",
       "\t 146\\\\\n",
       "\t 150\\\\\n",
       "\t 154\\\\\n",
       "\t 159\\\\\n",
       "\t 164\\\\\n",
       "\\end{tabular}\n"
      ],
      "text/markdown": [
       "\n",
       "A data.table: 15 × 1\n",
       "\n",
       "| weight &lt;dbl&gt; |\n",
       "|---|\n",
       "| 115 |\n",
       "| 117 |\n",
       "| 120 |\n",
       "| 123 |\n",
       "| 126 |\n",
       "| 129 |\n",
       "| 132 |\n",
       "| 135 |\n",
       "| 139 |\n",
       "| 142 |\n",
       "| 146 |\n",
       "| 150 |\n",
       "| 154 |\n",
       "| 159 |\n",
       "| 164 |\n",
       "\n"
      ],
      "text/plain": [
       "   weight\n",
       "1  115   \n",
       "2  117   \n",
       "3  120   \n",
       "4  123   \n",
       "5  126   \n",
       "6  129   \n",
       "7  132   \n",
       "8  135   \n",
       "9  139   \n",
       "10 142   \n",
       "11 146   \n",
       "12 150   \n",
       "13 154   \n",
       "14 159   \n",
       "15 164   "
      ]
     },
     "metadata": {},
     "output_type": "display_data"
    }
   ],
   "source": [
    "dt[,2]"
   ]
  },
  {
   "cell_type": "code",
   "execution_count": 69,
   "id": "conditional-state",
   "metadata": {},
   "outputs": [
    {
     "data": {
      "text/html": [
       "<table class=\"dataframe\">\n",
       "<caption>A data.table: 15 × 1</caption>\n",
       "<thead>\n",
       "\t<tr><th scope=col>height</th></tr>\n",
       "\t<tr><th scope=col>&lt;dbl&gt;</th></tr>\n",
       "</thead>\n",
       "<tbody>\n",
       "\t<tr><td>58</td></tr>\n",
       "\t<tr><td>59</td></tr>\n",
       "\t<tr><td>60</td></tr>\n",
       "\t<tr><td>61</td></tr>\n",
       "\t<tr><td>62</td></tr>\n",
       "\t<tr><td>63</td></tr>\n",
       "\t<tr><td>64</td></tr>\n",
       "\t<tr><td>65</td></tr>\n",
       "\t<tr><td>66</td></tr>\n",
       "\t<tr><td>67</td></tr>\n",
       "\t<tr><td>68</td></tr>\n",
       "\t<tr><td>69</td></tr>\n",
       "\t<tr><td>70</td></tr>\n",
       "\t<tr><td>71</td></tr>\n",
       "\t<tr><td>72</td></tr>\n",
       "</tbody>\n",
       "</table>\n"
      ],
      "text/latex": [
       "A data.table: 15 × 1\n",
       "\\begin{tabular}{l}\n",
       " height\\\\\n",
       " <dbl>\\\\\n",
       "\\hline\n",
       "\t 58\\\\\n",
       "\t 59\\\\\n",
       "\t 60\\\\\n",
       "\t 61\\\\\n",
       "\t 62\\\\\n",
       "\t 63\\\\\n",
       "\t 64\\\\\n",
       "\t 65\\\\\n",
       "\t 66\\\\\n",
       "\t 67\\\\\n",
       "\t 68\\\\\n",
       "\t 69\\\\\n",
       "\t 70\\\\\n",
       "\t 71\\\\\n",
       "\t 72\\\\\n",
       "\\end{tabular}\n"
      ],
      "text/markdown": [
       "\n",
       "A data.table: 15 × 1\n",
       "\n",
       "| height &lt;dbl&gt; |\n",
       "|---|\n",
       "| 58 |\n",
       "| 59 |\n",
       "| 60 |\n",
       "| 61 |\n",
       "| 62 |\n",
       "| 63 |\n",
       "| 64 |\n",
       "| 65 |\n",
       "| 66 |\n",
       "| 67 |\n",
       "| 68 |\n",
       "| 69 |\n",
       "| 70 |\n",
       "| 71 |\n",
       "| 72 |\n",
       "\n"
      ],
      "text/plain": [
       "   height\n",
       "1  58    \n",
       "2  59    \n",
       "3  60    \n",
       "4  61    \n",
       "5  62    \n",
       "6  63    \n",
       "7  64    \n",
       "8  65    \n",
       "9  66    \n",
       "10 67    \n",
       "11 68    \n",
       "12 69    \n",
       "13 70    \n",
       "14 71    \n",
       "15 72    "
      ]
     },
     "metadata": {},
     "output_type": "display_data"
    }
   ],
   "source": [
    "dt[,!2]"
   ]
  },
  {
   "cell_type": "markdown",
   "id": "herbal-copper",
   "metadata": {},
   "source": [
    "### Like operator\n",
    "`%like%"
   ]
  },
  {
   "cell_type": "code",
   "execution_count": 73,
   "id": "bacterial-conclusion",
   "metadata": {},
   "outputs": [
    {
     "data": {
      "text/html": [
       "<table class=\"dataframe\">\n",
       "<caption>A data.table: 15 × 1</caption>\n",
       "<thead>\n",
       "\t<tr><th scope=col>height</th></tr>\n",
       "\t<tr><th scope=col>&lt;dbl&gt;</th></tr>\n",
       "</thead>\n",
       "<tbody>\n",
       "\t<tr><td>58</td></tr>\n",
       "\t<tr><td>59</td></tr>\n",
       "\t<tr><td>60</td></tr>\n",
       "\t<tr><td>61</td></tr>\n",
       "\t<tr><td>62</td></tr>\n",
       "\t<tr><td>63</td></tr>\n",
       "\t<tr><td>64</td></tr>\n",
       "\t<tr><td>65</td></tr>\n",
       "\t<tr><td>66</td></tr>\n",
       "\t<tr><td>67</td></tr>\n",
       "\t<tr><td>68</td></tr>\n",
       "\t<tr><td>69</td></tr>\n",
       "\t<tr><td>70</td></tr>\n",
       "\t<tr><td>71</td></tr>\n",
       "\t<tr><td>72</td></tr>\n",
       "</tbody>\n",
       "</table>\n"
      ],
      "text/latex": [
       "A data.table: 15 × 1\n",
       "\\begin{tabular}{l}\n",
       " height\\\\\n",
       " <dbl>\\\\\n",
       "\\hline\n",
       "\t 58\\\\\n",
       "\t 59\\\\\n",
       "\t 60\\\\\n",
       "\t 61\\\\\n",
       "\t 62\\\\\n",
       "\t 63\\\\\n",
       "\t 64\\\\\n",
       "\t 65\\\\\n",
       "\t 66\\\\\n",
       "\t 67\\\\\n",
       "\t 68\\\\\n",
       "\t 69\\\\\n",
       "\t 70\\\\\n",
       "\t 71\\\\\n",
       "\t 72\\\\\n",
       "\\end{tabular}\n"
      ],
      "text/markdown": [
       "\n",
       "A data.table: 15 × 1\n",
       "\n",
       "| height &lt;dbl&gt; |\n",
       "|---|\n",
       "| 58 |\n",
       "| 59 |\n",
       "| 60 |\n",
       "| 61 |\n",
       "| 62 |\n",
       "| 63 |\n",
       "| 64 |\n",
       "| 65 |\n",
       "| 66 |\n",
       "| 67 |\n",
       "| 68 |\n",
       "| 69 |\n",
       "| 70 |\n",
       "| 71 |\n",
       "| 72 |\n",
       "\n"
      ],
      "text/plain": [
       "   height\n",
       "1  58    \n",
       "2  59    \n",
       "3  60    \n",
       "4  61    \n",
       "5  62    \n",
       "6  63    \n",
       "7  64    \n",
       "8  65    \n",
       "9  66    \n",
       "10 67    \n",
       "11 68    \n",
       "12 69    \n",
       "13 70    \n",
       "14 71    \n",
       "15 72    "
      ]
     },
     "metadata": {},
     "output_type": "display_data"
    }
   ],
   "source": [
    "dt[,names(dt)%like%\"hei\",with=F]"
   ]
  },
  {
   "cell_type": "code",
   "execution_count": 74,
   "id": "specialized-relative",
   "metadata": {},
   "outputs": [
    {
     "data": {
      "text/html": [
       "<style>\n",
       ".list-inline {list-style: none; margin:0; padding: 0}\n",
       ".list-inline>li {display: inline-block}\n",
       ".list-inline>li:not(:last-child)::after {content: \"\\00b7\"; padding: 0 .5ex}\n",
       "</style>\n",
       "<ol class=list-inline><li>TRUE</li><li>FALSE</li></ol>\n"
      ],
      "text/latex": [
       "\\begin{enumerate*}\n",
       "\\item TRUE\n",
       "\\item FALSE\n",
       "\\end{enumerate*}\n"
      ],
      "text/markdown": [
       "1. TRUE\n",
       "2. FALSE\n",
       "\n",
       "\n"
      ],
      "text/plain": [
       "[1]  TRUE FALSE"
      ]
     },
     "metadata": {},
     "output_type": "display_data"
    }
   ],
   "source": [
    "dt[,names(dt)%like%\"hei\"]"
   ]
  },
  {
   "cell_type": "code",
   "execution_count": 77,
   "id": "iraqi-centre",
   "metadata": {},
   "outputs": [
    {
     "data": {
      "text/html": [
       "<table class=\"dataframe\">\n",
       "<caption>A data.frame: 6 × 2</caption>\n",
       "<thead>\n",
       "\t<tr><th></th><th scope=col>Sepal.Length</th><th scope=col>Sepal.Width</th></tr>\n",
       "\t<tr><th></th><th scope=col>&lt;dbl&gt;</th><th scope=col>&lt;dbl&gt;</th></tr>\n",
       "</thead>\n",
       "<tbody>\n",
       "\t<tr><th scope=row>1</th><td>5.1</td><td>3.5</td></tr>\n",
       "\t<tr><th scope=row>2</th><td>4.9</td><td>3.0</td></tr>\n",
       "\t<tr><th scope=row>3</th><td>4.7</td><td>3.2</td></tr>\n",
       "\t<tr><th scope=row>4</th><td>4.6</td><td>3.1</td></tr>\n",
       "\t<tr><th scope=row>5</th><td>5.0</td><td>3.6</td></tr>\n",
       "\t<tr><th scope=row>6</th><td>5.4</td><td>3.9</td></tr>\n",
       "</tbody>\n",
       "</table>\n"
      ],
      "text/latex": [
       "A data.frame: 6 × 2\n",
       "\\begin{tabular}{r|ll}\n",
       "  & Sepal.Length & Sepal.Width\\\\\n",
       "  & <dbl> & <dbl>\\\\\n",
       "\\hline\n",
       "\t1 & 5.1 & 3.5\\\\\n",
       "\t2 & 4.9 & 3.0\\\\\n",
       "\t3 & 4.7 & 3.2\\\\\n",
       "\t4 & 4.6 & 3.1\\\\\n",
       "\t5 & 5.0 & 3.6\\\\\n",
       "\t6 & 5.4 & 3.9\\\\\n",
       "\\end{tabular}\n"
      ],
      "text/markdown": [
       "\n",
       "A data.frame: 6 × 2\n",
       "\n",
       "| <!--/--> | Sepal.Length &lt;dbl&gt; | Sepal.Width &lt;dbl&gt; |\n",
       "|---|---|---|\n",
       "| 1 | 5.1 | 3.5 |\n",
       "| 2 | 4.9 | 3.0 |\n",
       "| 3 | 4.7 | 3.2 |\n",
       "| 4 | 4.6 | 3.1 |\n",
       "| 5 | 5.0 | 3.6 |\n",
       "| 6 | 5.4 | 3.9 |\n",
       "\n"
      ],
      "text/plain": [
       "  Sepal.Length Sepal.Width\n",
       "1 5.1          3.5        \n",
       "2 4.9          3.0        \n",
       "3 4.7          3.2        \n",
       "4 4.6          3.1        \n",
       "5 5.0          3.6        \n",
       "6 5.4          3.9        "
      ]
     },
     "metadata": {},
     "output_type": "display_data"
    }
   ],
   "source": [
    "iris[,names(iris)%like%'Sep'] %>% head()"
   ]
  },
  {
   "cell_type": "code",
   "execution_count": 93,
   "id": "awful-rebate",
   "metadata": {},
   "outputs": [
    {
     "data": {
      "text/html": [
       "<style>\n",
       ".list-inline {list-style: none; margin:0; padding: 0}\n",
       ".list-inline>li {display: inline-block}\n",
       ".list-inline>li:not(:last-child)::after {content: \"\\00b7\"; padding: 0 .5ex}\n",
       "</style>\n",
       "<ol class=list-inline><li>TRUE</li><li>TRUE</li><li>FALSE</li><li>FALSE</li><li>FALSE</li></ol>\n"
      ],
      "text/latex": [
       "\\begin{enumerate*}\n",
       "\\item TRUE\n",
       "\\item TRUE\n",
       "\\item FALSE\n",
       "\\item FALSE\n",
       "\\item FALSE\n",
       "\\end{enumerate*}\n"
      ],
      "text/markdown": [
       "1. TRUE\n",
       "2. TRUE\n",
       "3. FALSE\n",
       "4. FALSE\n",
       "5. FALSE\n",
       "\n",
       "\n"
      ],
      "text/plain": [
       "[1]  TRUE  TRUE FALSE FALSE FALSE"
      ]
     },
     "metadata": {},
     "output_type": "display_data"
    }
   ],
   "source": [
    "dt1 = as.data.table(iris)\n",
    "dt1[,names(dt1)%like%'Sep'] %>% head()"
   ]
  },
  {
   "cell_type": "code",
   "execution_count": 83,
   "id": "included-cartoon",
   "metadata": {},
   "outputs": [
    {
     "data": {
      "text/html": [
       "<table class=\"dataframe\">\n",
       "<caption>A data.table: 6 × 2</caption>\n",
       "<thead>\n",
       "\t<tr><th scope=col>Sepal.Length</th><th scope=col>Sepal.Width</th></tr>\n",
       "\t<tr><th scope=col>&lt;dbl&gt;</th><th scope=col>&lt;dbl&gt;</th></tr>\n",
       "</thead>\n",
       "<tbody>\n",
       "\t<tr><td>5.1</td><td>3.5</td></tr>\n",
       "\t<tr><td>4.9</td><td>3.0</td></tr>\n",
       "\t<tr><td>4.7</td><td>3.2</td></tr>\n",
       "\t<tr><td>4.6</td><td>3.1</td></tr>\n",
       "\t<tr><td>5.0</td><td>3.6</td></tr>\n",
       "\t<tr><td>5.4</td><td>3.9</td></tr>\n",
       "</tbody>\n",
       "</table>\n"
      ],
      "text/latex": [
       "A data.table: 6 × 2\n",
       "\\begin{tabular}{ll}\n",
       " Sepal.Length & Sepal.Width\\\\\n",
       " <dbl> & <dbl>\\\\\n",
       "\\hline\n",
       "\t 5.1 & 3.5\\\\\n",
       "\t 4.9 & 3.0\\\\\n",
       "\t 4.7 & 3.2\\\\\n",
       "\t 4.6 & 3.1\\\\\n",
       "\t 5.0 & 3.6\\\\\n",
       "\t 5.4 & 3.9\\\\\n",
       "\\end{tabular}\n"
      ],
      "text/markdown": [
       "\n",
       "A data.table: 6 × 2\n",
       "\n",
       "| Sepal.Length &lt;dbl&gt; | Sepal.Width &lt;dbl&gt; |\n",
       "|---|---|\n",
       "| 5.1 | 3.5 |\n",
       "| 4.9 | 3.0 |\n",
       "| 4.7 | 3.2 |\n",
       "| 4.6 | 3.1 |\n",
       "| 5.0 | 3.6 |\n",
       "| 5.4 | 3.9 |\n",
       "\n"
      ],
      "text/plain": [
       "  Sepal.Length Sepal.Width\n",
       "1 5.1          3.5        \n",
       "2 4.9          3.0        \n",
       "3 4.7          3.2        \n",
       "4 4.6          3.1        \n",
       "5 5.0          3.6        \n",
       "6 5.4          3.9        "
      ]
     },
     "metadata": {},
     "output_type": "display_data"
    }
   ],
   "source": [
    "dt1[,names(dt1)%like%'Sep',with=F] %>% head()"
   ]
  },
  {
   "cell_type": "code",
   "execution_count": 86,
   "id": "intellectual-blogger",
   "metadata": {},
   "outputs": [
    {
     "data": {
      "text/html": [
       "<table class=\"dataframe\">\n",
       "<caption>A data.table: 6 × 2</caption>\n",
       "<thead>\n",
       "\t<tr><th scope=col>V1</th><th scope=col>V2</th></tr>\n",
       "\t<tr><th scope=col>&lt;dbl&gt;</th><th scope=col>&lt;dbl&gt;</th></tr>\n",
       "</thead>\n",
       "<tbody>\n",
       "\t<tr><td>5.1</td><td>1.4</td></tr>\n",
       "\t<tr><td>4.9</td><td>1.4</td></tr>\n",
       "\t<tr><td>4.7</td><td>1.3</td></tr>\n",
       "\t<tr><td>4.6</td><td>1.5</td></tr>\n",
       "\t<tr><td>5.0</td><td>1.4</td></tr>\n",
       "\t<tr><td>5.4</td><td>1.7</td></tr>\n",
       "</tbody>\n",
       "</table>\n"
      ],
      "text/latex": [
       "A data.table: 6 × 2\n",
       "\\begin{tabular}{ll}\n",
       " V1 & V2\\\\\n",
       " <dbl> & <dbl>\\\\\n",
       "\\hline\n",
       "\t 5.1 & 1.4\\\\\n",
       "\t 4.9 & 1.4\\\\\n",
       "\t 4.7 & 1.3\\\\\n",
       "\t 4.6 & 1.5\\\\\n",
       "\t 5.0 & 1.4\\\\\n",
       "\t 5.4 & 1.7\\\\\n",
       "\\end{tabular}\n"
      ],
      "text/markdown": [
       "\n",
       "A data.table: 6 × 2\n",
       "\n",
       "| V1 &lt;dbl&gt; | V2 &lt;dbl&gt; |\n",
       "|---|---|\n",
       "| 5.1 | 1.4 |\n",
       "| 4.9 | 1.4 |\n",
       "| 4.7 | 1.3 |\n",
       "| 4.6 | 1.5 |\n",
       "| 5.0 | 1.4 |\n",
       "| 5.4 | 1.7 |\n",
       "\n"
      ],
      "text/plain": [
       "  V1  V2 \n",
       "1 5.1 1.4\n",
       "2 4.9 1.4\n",
       "3 4.7 1.3\n",
       "4 4.6 1.5\n",
       "5 5.0 1.4\n",
       "6 5.4 1.7"
      ]
     },
     "metadata": {},
     "output_type": "display_data"
    }
   ],
   "source": [
    "dt1[,.(dt1$Sepal.Length,dt1$Petal.Length)] %>% head()"
   ]
  },
  {
   "cell_type": "markdown",
   "id": "fossil-analysis",
   "metadata": {},
   "source": [
    "### setnames()"
   ]
  },
  {
   "cell_type": "code",
   "execution_count": 88,
   "id": "brave-diesel",
   "metadata": {},
   "outputs": [
    {
     "data": {
      "text/html": [
       "<table class=\"dataframe\">\n",
       "<caption>A data.table: 6 × 5</caption>\n",
       "<thead>\n",
       "\t<tr><th scope=col>Sepal.Length</th><th scope=col>Sepal.Width</th><th scope=col>Petal.Length</th><th scope=col>Petal.Width</th><th scope=col>Species</th></tr>\n",
       "\t<tr><th scope=col>&lt;dbl&gt;</th><th scope=col>&lt;dbl&gt;</th><th scope=col>&lt;dbl&gt;</th><th scope=col>&lt;dbl&gt;</th><th scope=col>&lt;fct&gt;</th></tr>\n",
       "</thead>\n",
       "<tbody>\n",
       "\t<tr><td>5.1</td><td>3.5</td><td>1.4</td><td>0.2</td><td>setosa</td></tr>\n",
       "\t<tr><td>4.9</td><td>3.0</td><td>1.4</td><td>0.2</td><td>setosa</td></tr>\n",
       "\t<tr><td>4.7</td><td>3.2</td><td>1.3</td><td>0.2</td><td>setosa</td></tr>\n",
       "\t<tr><td>4.6</td><td>3.1</td><td>1.5</td><td>0.2</td><td>setosa</td></tr>\n",
       "\t<tr><td>5.0</td><td>3.6</td><td>1.4</td><td>0.2</td><td>setosa</td></tr>\n",
       "\t<tr><td>5.4</td><td>3.9</td><td>1.7</td><td>0.4</td><td>setosa</td></tr>\n",
       "</tbody>\n",
       "</table>\n"
      ],
      "text/latex": [
       "A data.table: 6 × 5\n",
       "\\begin{tabular}{lllll}\n",
       " Sepal.Length & Sepal.Width & Petal.Length & Petal.Width & Species\\\\\n",
       " <dbl> & <dbl> & <dbl> & <dbl> & <fct>\\\\\n",
       "\\hline\n",
       "\t 5.1 & 3.5 & 1.4 & 0.2 & setosa\\\\\n",
       "\t 4.9 & 3.0 & 1.4 & 0.2 & setosa\\\\\n",
       "\t 4.7 & 3.2 & 1.3 & 0.2 & setosa\\\\\n",
       "\t 4.6 & 3.1 & 1.5 & 0.2 & setosa\\\\\n",
       "\t 5.0 & 3.6 & 1.4 & 0.2 & setosa\\\\\n",
       "\t 5.4 & 3.9 & 1.7 & 0.4 & setosa\\\\\n",
       "\\end{tabular}\n"
      ],
      "text/markdown": [
       "\n",
       "A data.table: 6 × 5\n",
       "\n",
       "| Sepal.Length &lt;dbl&gt; | Sepal.Width &lt;dbl&gt; | Petal.Length &lt;dbl&gt; | Petal.Width &lt;dbl&gt; | Species &lt;fct&gt; |\n",
       "|---|---|---|---|---|\n",
       "| 5.1 | 3.5 | 1.4 | 0.2 | setosa |\n",
       "| 4.9 | 3.0 | 1.4 | 0.2 | setosa |\n",
       "| 4.7 | 3.2 | 1.3 | 0.2 | setosa |\n",
       "| 4.6 | 3.1 | 1.5 | 0.2 | setosa |\n",
       "| 5.0 | 3.6 | 1.4 | 0.2 | setosa |\n",
       "| 5.4 | 3.9 | 1.7 | 0.4 | setosa |\n",
       "\n"
      ],
      "text/plain": [
       "  Sepal.Length Sepal.Width Petal.Length Petal.Width Species\n",
       "1 5.1          3.5         1.4          0.2         setosa \n",
       "2 4.9          3.0         1.4          0.2         setosa \n",
       "3 4.7          3.2         1.3          0.2         setosa \n",
       "4 4.6          3.1         1.5          0.2         setosa \n",
       "5 5.0          3.6         1.4          0.2         setosa \n",
       "6 5.4          3.9         1.7          0.4         setosa "
      ]
     },
     "metadata": {},
     "output_type": "display_data"
    }
   ],
   "source": [
    "head(dt1)"
   ]
  },
  {
   "cell_type": "code",
   "execution_count": 94,
   "id": "immune-might",
   "metadata": {},
   "outputs": [
    {
     "data": {
      "text/html": [
       "<table class=\"dataframe\">\n",
       "<caption>A data.table: 6 × 5</caption>\n",
       "<thead>\n",
       "\t<tr><th scope=col>Sepal.Length</th><th scope=col>Width</th><th scope=col>Petal.Length</th><th scope=col>Petal.Width</th><th scope=col>Species</th></tr>\n",
       "\t<tr><th scope=col>&lt;dbl&gt;</th><th scope=col>&lt;dbl&gt;</th><th scope=col>&lt;dbl&gt;</th><th scope=col>&lt;dbl&gt;</th><th scope=col>&lt;fct&gt;</th></tr>\n",
       "</thead>\n",
       "<tbody>\n",
       "\t<tr><td>5.1</td><td>3.5</td><td>1.4</td><td>0.2</td><td>setosa</td></tr>\n",
       "\t<tr><td>4.9</td><td>3.0</td><td>1.4</td><td>0.2</td><td>setosa</td></tr>\n",
       "\t<tr><td>4.7</td><td>3.2</td><td>1.3</td><td>0.2</td><td>setosa</td></tr>\n",
       "\t<tr><td>4.6</td><td>3.1</td><td>1.5</td><td>0.2</td><td>setosa</td></tr>\n",
       "\t<tr><td>5.0</td><td>3.6</td><td>1.4</td><td>0.2</td><td>setosa</td></tr>\n",
       "\t<tr><td>5.4</td><td>3.9</td><td>1.7</td><td>0.4</td><td>setosa</td></tr>\n",
       "</tbody>\n",
       "</table>\n"
      ],
      "text/latex": [
       "A data.table: 6 × 5\n",
       "\\begin{tabular}{lllll}\n",
       " Sepal.Length & Width & Petal.Length & Petal.Width & Species\\\\\n",
       " <dbl> & <dbl> & <dbl> & <dbl> & <fct>\\\\\n",
       "\\hline\n",
       "\t 5.1 & 3.5 & 1.4 & 0.2 & setosa\\\\\n",
       "\t 4.9 & 3.0 & 1.4 & 0.2 & setosa\\\\\n",
       "\t 4.7 & 3.2 & 1.3 & 0.2 & setosa\\\\\n",
       "\t 4.6 & 3.1 & 1.5 & 0.2 & setosa\\\\\n",
       "\t 5.0 & 3.6 & 1.4 & 0.2 & setosa\\\\\n",
       "\t 5.4 & 3.9 & 1.7 & 0.4 & setosa\\\\\n",
       "\\end{tabular}\n"
      ],
      "text/markdown": [
       "\n",
       "A data.table: 6 × 5\n",
       "\n",
       "| Sepal.Length &lt;dbl&gt; | Width &lt;dbl&gt; | Petal.Length &lt;dbl&gt; | Petal.Width &lt;dbl&gt; | Species &lt;fct&gt; |\n",
       "|---|---|---|---|---|\n",
       "| 5.1 | 3.5 | 1.4 | 0.2 | setosa |\n",
       "| 4.9 | 3.0 | 1.4 | 0.2 | setosa |\n",
       "| 4.7 | 3.2 | 1.3 | 0.2 | setosa |\n",
       "| 4.6 | 3.1 | 1.5 | 0.2 | setosa |\n",
       "| 5.0 | 3.6 | 1.4 | 0.2 | setosa |\n",
       "| 5.4 | 3.9 | 1.7 | 0.4 | setosa |\n",
       "\n"
      ],
      "text/plain": [
       "  Sepal.Length Width Petal.Length Petal.Width Species\n",
       "1 5.1          3.5   1.4          0.2         setosa \n",
       "2 4.9          3.0   1.4          0.2         setosa \n",
       "3 4.7          3.2   1.3          0.2         setosa \n",
       "4 4.6          3.1   1.5          0.2         setosa \n",
       "5 5.0          3.6   1.4          0.2         setosa \n",
       "6 5.4          3.9   1.7          0.4         setosa "
      ]
     },
     "metadata": {},
     "output_type": "display_data"
    }
   ],
   "source": [
    "setnames(dt1,c('Sepal.Width'),c('Width'))\n",
    "head(dt1)"
   ]
  },
  {
   "cell_type": "markdown",
   "id": "superb-pressure",
   "metadata": {},
   "source": [
    "### filtering"
   ]
  },
  {
   "cell_type": "code",
   "execution_count": 95,
   "id": "intimate-sterling",
   "metadata": {},
   "outputs": [
    {
     "data": {
      "text/html": [
       "<table class=\"dataframe\">\n",
       "<caption>A data.table: 6 × 5</caption>\n",
       "<thead>\n",
       "\t<tr><th scope=col>Plant</th><th scope=col>Type</th><th scope=col>Treatment</th><th scope=col>conc</th><th scope=col>uptake</th></tr>\n",
       "\t<tr><th scope=col>&lt;ord&gt;</th><th scope=col>&lt;fct&gt;</th><th scope=col>&lt;fct&gt;</th><th scope=col>&lt;dbl&gt;</th><th scope=col>&lt;dbl&gt;</th></tr>\n",
       "</thead>\n",
       "<tbody>\n",
       "\t<tr><td>Qn1</td><td>Quebec</td><td>nonchilled</td><td> 95</td><td>16.0</td></tr>\n",
       "\t<tr><td>Qn1</td><td>Quebec</td><td>nonchilled</td><td>175</td><td>30.4</td></tr>\n",
       "\t<tr><td>Qn1</td><td>Quebec</td><td>nonchilled</td><td>250</td><td>34.8</td></tr>\n",
       "\t<tr><td>Qn1</td><td>Quebec</td><td>nonchilled</td><td>350</td><td>37.2</td></tr>\n",
       "\t<tr><td>Qn1</td><td>Quebec</td><td>nonchilled</td><td>500</td><td>35.3</td></tr>\n",
       "\t<tr><td>Qn1</td><td>Quebec</td><td>nonchilled</td><td>675</td><td>39.2</td></tr>\n",
       "</tbody>\n",
       "</table>\n"
      ],
      "text/latex": [
       "A data.table: 6 × 5\n",
       "\\begin{tabular}{lllll}\n",
       " Plant & Type & Treatment & conc & uptake\\\\\n",
       " <ord> & <fct> & <fct> & <dbl> & <dbl>\\\\\n",
       "\\hline\n",
       "\t Qn1 & Quebec & nonchilled &  95 & 16.0\\\\\n",
       "\t Qn1 & Quebec & nonchilled & 175 & 30.4\\\\\n",
       "\t Qn1 & Quebec & nonchilled & 250 & 34.8\\\\\n",
       "\t Qn1 & Quebec & nonchilled & 350 & 37.2\\\\\n",
       "\t Qn1 & Quebec & nonchilled & 500 & 35.3\\\\\n",
       "\t Qn1 & Quebec & nonchilled & 675 & 39.2\\\\\n",
       "\\end{tabular}\n"
      ],
      "text/markdown": [
       "\n",
       "A data.table: 6 × 5\n",
       "\n",
       "| Plant &lt;ord&gt; | Type &lt;fct&gt; | Treatment &lt;fct&gt; | conc &lt;dbl&gt; | uptake &lt;dbl&gt; |\n",
       "|---|---|---|---|---|\n",
       "| Qn1 | Quebec | nonchilled |  95 | 16.0 |\n",
       "| Qn1 | Quebec | nonchilled | 175 | 30.4 |\n",
       "| Qn1 | Quebec | nonchilled | 250 | 34.8 |\n",
       "| Qn1 | Quebec | nonchilled | 350 | 37.2 |\n",
       "| Qn1 | Quebec | nonchilled | 500 | 35.3 |\n",
       "| Qn1 | Quebec | nonchilled | 675 | 39.2 |\n",
       "\n"
      ],
      "text/plain": [
       "  Plant Type   Treatment  conc uptake\n",
       "1 Qn1   Quebec nonchilled  95  16.0  \n",
       "2 Qn1   Quebec nonchilled 175  30.4  \n",
       "3 Qn1   Quebec nonchilled 250  34.8  \n",
       "4 Qn1   Quebec nonchilled 350  37.2  \n",
       "5 Qn1   Quebec nonchilled 500  35.3  \n",
       "6 Qn1   Quebec nonchilled 675  39.2  "
      ]
     },
     "metadata": {},
     "output_type": "display_data"
    }
   ],
   "source": [
    "dt2 = as.data.table(CO2)\n",
    "head(dt2)"
   ]
  },
  {
   "cell_type": "code",
   "execution_count": 96,
   "id": "general-forth",
   "metadata": {},
   "outputs": [
    {
     "data": {
      "text/html": [
       "<table class=\"dataframe\">\n",
       "<caption>A data.table: 7 × 5</caption>\n",
       "<thead>\n",
       "\t<tr><th scope=col>Plant</th><th scope=col>Type</th><th scope=col>Treatment</th><th scope=col>conc</th><th scope=col>uptake</th></tr>\n",
       "\t<tr><th scope=col>&lt;ord&gt;</th><th scope=col>&lt;fct&gt;</th><th scope=col>&lt;fct&gt;</th><th scope=col>&lt;dbl&gt;</th><th scope=col>&lt;dbl&gt;</th></tr>\n",
       "</thead>\n",
       "<tbody>\n",
       "\t<tr><td>Mc3</td><td>Mississippi</td><td>chilled</td><td>  95</td><td>10.6</td></tr>\n",
       "\t<tr><td>Mc3</td><td>Mississippi</td><td>chilled</td><td> 175</td><td>18.0</td></tr>\n",
       "\t<tr><td>Mc3</td><td>Mississippi</td><td>chilled</td><td> 250</td><td>17.9</td></tr>\n",
       "\t<tr><td>Mc3</td><td>Mississippi</td><td>chilled</td><td> 350</td><td>17.9</td></tr>\n",
       "\t<tr><td>Mc3</td><td>Mississippi</td><td>chilled</td><td> 500</td><td>17.9</td></tr>\n",
       "\t<tr><td>Mc3</td><td>Mississippi</td><td>chilled</td><td> 675</td><td>18.9</td></tr>\n",
       "\t<tr><td>Mc3</td><td>Mississippi</td><td>chilled</td><td>1000</td><td>19.9</td></tr>\n",
       "</tbody>\n",
       "</table>\n"
      ],
      "text/latex": [
       "A data.table: 7 × 5\n",
       "\\begin{tabular}{lllll}\n",
       " Plant & Type & Treatment & conc & uptake\\\\\n",
       " <ord> & <fct> & <fct> & <dbl> & <dbl>\\\\\n",
       "\\hline\n",
       "\t Mc3 & Mississippi & chilled &   95 & 10.6\\\\\n",
       "\t Mc3 & Mississippi & chilled &  175 & 18.0\\\\\n",
       "\t Mc3 & Mississippi & chilled &  250 & 17.9\\\\\n",
       "\t Mc3 & Mississippi & chilled &  350 & 17.9\\\\\n",
       "\t Mc3 & Mississippi & chilled &  500 & 17.9\\\\\n",
       "\t Mc3 & Mississippi & chilled &  675 & 18.9\\\\\n",
       "\t Mc3 & Mississippi & chilled & 1000 & 19.9\\\\\n",
       "\\end{tabular}\n"
      ],
      "text/markdown": [
       "\n",
       "A data.table: 7 × 5\n",
       "\n",
       "| Plant &lt;ord&gt; | Type &lt;fct&gt; | Treatment &lt;fct&gt; | conc &lt;dbl&gt; | uptake &lt;dbl&gt; |\n",
       "|---|---|---|---|---|\n",
       "| Mc3 | Mississippi | chilled |   95 | 10.6 |\n",
       "| Mc3 | Mississippi | chilled |  175 | 18.0 |\n",
       "| Mc3 | Mississippi | chilled |  250 | 17.9 |\n",
       "| Mc3 | Mississippi | chilled |  350 | 17.9 |\n",
       "| Mc3 | Mississippi | chilled |  500 | 17.9 |\n",
       "| Mc3 | Mississippi | chilled |  675 | 18.9 |\n",
       "| Mc3 | Mississippi | chilled | 1000 | 19.9 |\n",
       "\n"
      ],
      "text/plain": [
       "  Plant Type        Treatment conc uptake\n",
       "1 Mc3   Mississippi chilled     95 10.6  \n",
       "2 Mc3   Mississippi chilled    175 18.0  \n",
       "3 Mc3   Mississippi chilled    250 17.9  \n",
       "4 Mc3   Mississippi chilled    350 17.9  \n",
       "5 Mc3   Mississippi chilled    500 17.9  \n",
       "6 Mc3   Mississippi chilled    675 18.9  \n",
       "7 Mc3   Mississippi chilled   1000 19.9  "
      ]
     },
     "metadata": {},
     "output_type": "display_data"
    }
   ],
   "source": [
    "dt2[Plant == 'Mc3']"
   ]
  },
  {
   "cell_type": "markdown",
   "id": "persistent-newark",
   "metadata": {},
   "source": [
    "### Sort\n",
    "`setorder()`"
   ]
  },
  {
   "cell_type": "code",
   "execution_count": 97,
   "id": "fundamental-consent",
   "metadata": {},
   "outputs": [
    {
     "data": {
      "text/html": [
       "<table class=\"dataframe\">\n",
       "<caption>A data.table: 6 × 5</caption>\n",
       "<thead>\n",
       "\t<tr><th scope=col>Sepal.Length</th><th scope=col>Width</th><th scope=col>Petal.Length</th><th scope=col>Petal.Width</th><th scope=col>Species</th></tr>\n",
       "\t<tr><th scope=col>&lt;dbl&gt;</th><th scope=col>&lt;dbl&gt;</th><th scope=col>&lt;dbl&gt;</th><th scope=col>&lt;dbl&gt;</th><th scope=col>&lt;fct&gt;</th></tr>\n",
       "</thead>\n",
       "<tbody>\n",
       "\t<tr><td>5.0</td><td>2.0</td><td>3.5</td><td>1.0</td><td>versicolor</td></tr>\n",
       "\t<tr><td>6.0</td><td>2.2</td><td>4.0</td><td>1.0</td><td>versicolor</td></tr>\n",
       "\t<tr><td>6.2</td><td>2.2</td><td>4.5</td><td>1.5</td><td>versicolor</td></tr>\n",
       "\t<tr><td>6.0</td><td>2.2</td><td>5.0</td><td>1.5</td><td>virginica </td></tr>\n",
       "\t<tr><td>4.5</td><td>2.3</td><td>1.3</td><td>0.3</td><td>setosa    </td></tr>\n",
       "\t<tr><td>5.5</td><td>2.3</td><td>4.0</td><td>1.3</td><td>versicolor</td></tr>\n",
       "</tbody>\n",
       "</table>\n"
      ],
      "text/latex": [
       "A data.table: 6 × 5\n",
       "\\begin{tabular}{lllll}\n",
       " Sepal.Length & Width & Petal.Length & Petal.Width & Species\\\\\n",
       " <dbl> & <dbl> & <dbl> & <dbl> & <fct>\\\\\n",
       "\\hline\n",
       "\t 5.0 & 2.0 & 3.5 & 1.0 & versicolor\\\\\n",
       "\t 6.0 & 2.2 & 4.0 & 1.0 & versicolor\\\\\n",
       "\t 6.2 & 2.2 & 4.5 & 1.5 & versicolor\\\\\n",
       "\t 6.0 & 2.2 & 5.0 & 1.5 & virginica \\\\\n",
       "\t 4.5 & 2.3 & 1.3 & 0.3 & setosa    \\\\\n",
       "\t 5.5 & 2.3 & 4.0 & 1.3 & versicolor\\\\\n",
       "\\end{tabular}\n"
      ],
      "text/markdown": [
       "\n",
       "A data.table: 6 × 5\n",
       "\n",
       "| Sepal.Length &lt;dbl&gt; | Width &lt;dbl&gt; | Petal.Length &lt;dbl&gt; | Petal.Width &lt;dbl&gt; | Species &lt;fct&gt; |\n",
       "|---|---|---|---|---|\n",
       "| 5.0 | 2.0 | 3.5 | 1.0 | versicolor |\n",
       "| 6.0 | 2.2 | 4.0 | 1.0 | versicolor |\n",
       "| 6.2 | 2.2 | 4.5 | 1.5 | versicolor |\n",
       "| 6.0 | 2.2 | 5.0 | 1.5 | virginica  |\n",
       "| 4.5 | 2.3 | 1.3 | 0.3 | setosa     |\n",
       "| 5.5 | 2.3 | 4.0 | 1.3 | versicolor |\n",
       "\n"
      ],
      "text/plain": [
       "  Sepal.Length Width Petal.Length Petal.Width Species   \n",
       "1 5.0          2.0   3.5          1.0         versicolor\n",
       "2 6.0          2.2   4.0          1.0         versicolor\n",
       "3 6.2          2.2   4.5          1.5         versicolor\n",
       "4 6.0          2.2   5.0          1.5         virginica \n",
       "5 4.5          2.3   1.3          0.3         setosa    \n",
       "6 5.5          2.3   4.0          1.3         versicolor"
      ]
     },
     "metadata": {},
     "output_type": "display_data"
    }
   ],
   "source": [
    "temp = setorder(dt1,Width)\n",
    "head(temp)"
   ]
  },
  {
   "cell_type": "code",
   "execution_count": 99,
   "id": "inner-martial",
   "metadata": {},
   "outputs": [
    {
     "data": {
      "text/html": [
       "<table class=\"dataframe\">\n",
       "<caption>A data.table: 6 × 5</caption>\n",
       "<thead>\n",
       "\t<tr><th scope=col>Sepal.Length</th><th scope=col>Width</th><th scope=col>Petal.Length</th><th scope=col>Petal.Width</th><th scope=col>Species</th></tr>\n",
       "\t<tr><th scope=col>&lt;dbl&gt;</th><th scope=col>&lt;dbl&gt;</th><th scope=col>&lt;dbl&gt;</th><th scope=col>&lt;dbl&gt;</th><th scope=col>&lt;fct&gt;</th></tr>\n",
       "</thead>\n",
       "<tbody>\n",
       "\t<tr><td>5.7</td><td>4.4</td><td>1.5</td><td>0.4</td><td>setosa</td></tr>\n",
       "\t<tr><td>5.5</td><td>4.2</td><td>1.4</td><td>0.2</td><td>setosa</td></tr>\n",
       "\t<tr><td>5.2</td><td>4.1</td><td>1.5</td><td>0.1</td><td>setosa</td></tr>\n",
       "\t<tr><td>5.8</td><td>4.0</td><td>1.2</td><td>0.2</td><td>setosa</td></tr>\n",
       "\t<tr><td>5.4</td><td>3.9</td><td>1.7</td><td>0.4</td><td>setosa</td></tr>\n",
       "\t<tr><td>5.4</td><td>3.9</td><td>1.3</td><td>0.4</td><td>setosa</td></tr>\n",
       "</tbody>\n",
       "</table>\n"
      ],
      "text/latex": [
       "A data.table: 6 × 5\n",
       "\\begin{tabular}{lllll}\n",
       " Sepal.Length & Width & Petal.Length & Petal.Width & Species\\\\\n",
       " <dbl> & <dbl> & <dbl> & <dbl> & <fct>\\\\\n",
       "\\hline\n",
       "\t 5.7 & 4.4 & 1.5 & 0.4 & setosa\\\\\n",
       "\t 5.5 & 4.2 & 1.4 & 0.2 & setosa\\\\\n",
       "\t 5.2 & 4.1 & 1.5 & 0.1 & setosa\\\\\n",
       "\t 5.8 & 4.0 & 1.2 & 0.2 & setosa\\\\\n",
       "\t 5.4 & 3.9 & 1.7 & 0.4 & setosa\\\\\n",
       "\t 5.4 & 3.9 & 1.3 & 0.4 & setosa\\\\\n",
       "\\end{tabular}\n"
      ],
      "text/markdown": [
       "\n",
       "A data.table: 6 × 5\n",
       "\n",
       "| Sepal.Length &lt;dbl&gt; | Width &lt;dbl&gt; | Petal.Length &lt;dbl&gt; | Petal.Width &lt;dbl&gt; | Species &lt;fct&gt; |\n",
       "|---|---|---|---|---|\n",
       "| 5.7 | 4.4 | 1.5 | 0.4 | setosa |\n",
       "| 5.5 | 4.2 | 1.4 | 0.2 | setosa |\n",
       "| 5.2 | 4.1 | 1.5 | 0.1 | setosa |\n",
       "| 5.8 | 4.0 | 1.2 | 0.2 | setosa |\n",
       "| 5.4 | 3.9 | 1.7 | 0.4 | setosa |\n",
       "| 5.4 | 3.9 | 1.3 | 0.4 | setosa |\n",
       "\n"
      ],
      "text/plain": [
       "  Sepal.Length Width Petal.Length Petal.Width Species\n",
       "1 5.7          4.4   1.5          0.4         setosa \n",
       "2 5.5          4.2   1.4          0.2         setosa \n",
       "3 5.2          4.1   1.5          0.1         setosa \n",
       "4 5.8          4.0   1.2          0.2         setosa \n",
       "5 5.4          3.9   1.7          0.4         setosa \n",
       "6 5.4          3.9   1.3          0.4         setosa "
      ]
     },
     "metadata": {},
     "output_type": "display_data"
    }
   ],
   "source": [
    "# descending order\n",
    "temp = setorder(dt1,-Width)\n",
    "head(temp)"
   ]
  },
  {
   "cell_type": "markdown",
   "id": "major-separation",
   "metadata": {},
   "source": [
    "### add columns\n",
    "`ds_name[,col:=]`"
   ]
  },
  {
   "cell_type": "code",
   "execution_count": 100,
   "id": "future-cocktail",
   "metadata": {},
   "outputs": [
    {
     "data": {
      "text/html": [
       "<table class=\"dataframe\">\n",
       "<caption>A data.table: 6 × 6</caption>\n",
       "<thead>\n",
       "\t<tr><th scope=col>Sepal.Length</th><th scope=col>Width</th><th scope=col>Petal.Length</th><th scope=col>Petal.Width</th><th scope=col>Species</th><th scope=col>Difference</th></tr>\n",
       "\t<tr><th scope=col>&lt;dbl&gt;</th><th scope=col>&lt;dbl&gt;</th><th scope=col>&lt;dbl&gt;</th><th scope=col>&lt;dbl&gt;</th><th scope=col>&lt;fct&gt;</th><th scope=col>&lt;dbl&gt;</th></tr>\n",
       "</thead>\n",
       "<tbody>\n",
       "\t<tr><td>5.7</td><td>4.4</td><td>1.5</td><td>0.4</td><td>setosa</td><td>1.3</td></tr>\n",
       "\t<tr><td>5.5</td><td>4.2</td><td>1.4</td><td>0.2</td><td>setosa</td><td>1.3</td></tr>\n",
       "\t<tr><td>5.2</td><td>4.1</td><td>1.5</td><td>0.1</td><td>setosa</td><td>1.1</td></tr>\n",
       "\t<tr><td>5.8</td><td>4.0</td><td>1.2</td><td>0.2</td><td>setosa</td><td>1.8</td></tr>\n",
       "\t<tr><td>5.4</td><td>3.9</td><td>1.7</td><td>0.4</td><td>setosa</td><td>1.5</td></tr>\n",
       "\t<tr><td>5.4</td><td>3.9</td><td>1.3</td><td>0.4</td><td>setosa</td><td>1.5</td></tr>\n",
       "</tbody>\n",
       "</table>\n"
      ],
      "text/latex": [
       "A data.table: 6 × 6\n",
       "\\begin{tabular}{llllll}\n",
       " Sepal.Length & Width & Petal.Length & Petal.Width & Species & Difference\\\\\n",
       " <dbl> & <dbl> & <dbl> & <dbl> & <fct> & <dbl>\\\\\n",
       "\\hline\n",
       "\t 5.7 & 4.4 & 1.5 & 0.4 & setosa & 1.3\\\\\n",
       "\t 5.5 & 4.2 & 1.4 & 0.2 & setosa & 1.3\\\\\n",
       "\t 5.2 & 4.1 & 1.5 & 0.1 & setosa & 1.1\\\\\n",
       "\t 5.8 & 4.0 & 1.2 & 0.2 & setosa & 1.8\\\\\n",
       "\t 5.4 & 3.9 & 1.7 & 0.4 & setosa & 1.5\\\\\n",
       "\t 5.4 & 3.9 & 1.3 & 0.4 & setosa & 1.5\\\\\n",
       "\\end{tabular}\n"
      ],
      "text/markdown": [
       "\n",
       "A data.table: 6 × 6\n",
       "\n",
       "| Sepal.Length &lt;dbl&gt; | Width &lt;dbl&gt; | Petal.Length &lt;dbl&gt; | Petal.Width &lt;dbl&gt; | Species &lt;fct&gt; | Difference &lt;dbl&gt; |\n",
       "|---|---|---|---|---|---|\n",
       "| 5.7 | 4.4 | 1.5 | 0.4 | setosa | 1.3 |\n",
       "| 5.5 | 4.2 | 1.4 | 0.2 | setosa | 1.3 |\n",
       "| 5.2 | 4.1 | 1.5 | 0.1 | setosa | 1.1 |\n",
       "| 5.8 | 4.0 | 1.2 | 0.2 | setosa | 1.8 |\n",
       "| 5.4 | 3.9 | 1.7 | 0.4 | setosa | 1.5 |\n",
       "| 5.4 | 3.9 | 1.3 | 0.4 | setosa | 1.5 |\n",
       "\n"
      ],
      "text/plain": [
       "  Sepal.Length Width Petal.Length Petal.Width Species Difference\n",
       "1 5.7          4.4   1.5          0.4         setosa  1.3       \n",
       "2 5.5          4.2   1.4          0.2         setosa  1.3       \n",
       "3 5.2          4.1   1.5          0.1         setosa  1.1       \n",
       "4 5.8          4.0   1.2          0.2         setosa  1.8       \n",
       "5 5.4          3.9   1.7          0.4         setosa  1.5       \n",
       "6 5.4          3.9   1.3          0.4         setosa  1.5       "
      ]
     },
     "metadata": {},
     "output_type": "display_data"
    }
   ],
   "source": [
    "temp = dt1[,'Difference':=Sepal.Length - Width]\n",
    "head(temp)"
   ]
  },
  {
   "cell_type": "markdown",
   "id": "military-commercial",
   "metadata": {},
   "source": [
    "# Joins"
   ]
  },
  {
   "cell_type": "markdown",
   "id": "broadband-strength",
   "metadata": {},
   "source": [
    "- Inner join\n",
    "    - Displays rows that has same key elements in A and B\n",
    "- Semi join\n",
    "    - Same as inner join but it displays only A's columns\n",
    "- Left anti join\n",
    "    - Displays rows from A that are not in B\n",
    "- Right anti join\n",
    "    - Displays rows from B that are not in A\n",
    "- Full outer join\n",
    "    - All elements in A and B"
   ]
  },
  {
   "cell_type": "code",
   "execution_count": 101,
   "id": "shaped-jungle",
   "metadata": {},
   "outputs": [],
   "source": [
    "#result = first data set %>% type of join second data set, by = column\n",
    "a = data.frame(StudentID = c(1:6),Name = c('John','Robert','Paul','Helen','Clara','Joseph'))\n",
    "b = data.frame(StudentID = c(2,4,6,7,8),City = c('NewYork','Illinois','Boston','Austin','Seattle'))"
   ]
  },
  {
   "cell_type": "code",
   "execution_count": 104,
   "id": "composed-bobby",
   "metadata": {},
   "outputs": [
    {
     "data": {
      "text/html": [
       "<table class=\"dataframe\">\n",
       "<caption>A data.frame: 3 × 3</caption>\n",
       "<thead>\n",
       "\t<tr><th scope=col>StudentID</th><th scope=col>Name</th><th scope=col>City</th></tr>\n",
       "\t<tr><th scope=col>&lt;dbl&gt;</th><th scope=col>&lt;chr&gt;</th><th scope=col>&lt;chr&gt;</th></tr>\n",
       "</thead>\n",
       "<tbody>\n",
       "\t<tr><td>2</td><td>Robert</td><td>NewYork </td></tr>\n",
       "\t<tr><td>4</td><td>Helen </td><td>Illinois</td></tr>\n",
       "\t<tr><td>6</td><td>Joseph</td><td>Boston  </td></tr>\n",
       "</tbody>\n",
       "</table>\n"
      ],
      "text/latex": [
       "A data.frame: 3 × 3\n",
       "\\begin{tabular}{lll}\n",
       " StudentID & Name & City\\\\\n",
       " <dbl> & <chr> & <chr>\\\\\n",
       "\\hline\n",
       "\t 2 & Robert & NewYork \\\\\n",
       "\t 4 & Helen  & Illinois\\\\\n",
       "\t 6 & Joseph & Boston  \\\\\n",
       "\\end{tabular}\n"
      ],
      "text/markdown": [
       "\n",
       "A data.frame: 3 × 3\n",
       "\n",
       "| StudentID &lt;dbl&gt; | Name &lt;chr&gt; | City &lt;chr&gt; |\n",
       "|---|---|---|\n",
       "| 2 | Robert | NewYork  |\n",
       "| 4 | Helen  | Illinois |\n",
       "| 6 | Joseph | Boston   |\n",
       "\n"
      ],
      "text/plain": [
       "  StudentID Name   City    \n",
       "1 2         Robert NewYork \n",
       "2 4         Helen  Illinois\n",
       "3 6         Joseph Boston  "
      ]
     },
     "metadata": {},
     "output_type": "display_data"
    }
   ],
   "source": [
    "a %>% inner_join(b,by = 'StudentID')"
   ]
  },
  {
   "cell_type": "code",
   "execution_count": 105,
   "id": "professional-information",
   "metadata": {},
   "outputs": [
    {
     "data": {
      "text/html": [
       "<table class=\"dataframe\">\n",
       "<caption>A data.frame: 8 × 3</caption>\n",
       "<thead>\n",
       "\t<tr><th scope=col>StudentID</th><th scope=col>Name</th><th scope=col>City</th></tr>\n",
       "\t<tr><th scope=col>&lt;dbl&gt;</th><th scope=col>&lt;chr&gt;</th><th scope=col>&lt;chr&gt;</th></tr>\n",
       "</thead>\n",
       "<tbody>\n",
       "\t<tr><td>1</td><td>John  </td><td>NA      </td></tr>\n",
       "\t<tr><td>2</td><td>Robert</td><td>NewYork </td></tr>\n",
       "\t<tr><td>3</td><td>Paul  </td><td>NA      </td></tr>\n",
       "\t<tr><td>4</td><td>Helen </td><td>Illinois</td></tr>\n",
       "\t<tr><td>5</td><td>Clara </td><td>NA      </td></tr>\n",
       "\t<tr><td>6</td><td>Joseph</td><td>Boston  </td></tr>\n",
       "\t<tr><td>7</td><td>NA    </td><td>Austin  </td></tr>\n",
       "\t<tr><td>8</td><td>NA    </td><td>Seattle </td></tr>\n",
       "</tbody>\n",
       "</table>\n"
      ],
      "text/latex": [
       "A data.frame: 8 × 3\n",
       "\\begin{tabular}{lll}\n",
       " StudentID & Name & City\\\\\n",
       " <dbl> & <chr> & <chr>\\\\\n",
       "\\hline\n",
       "\t 1 & John   & NA      \\\\\n",
       "\t 2 & Robert & NewYork \\\\\n",
       "\t 3 & Paul   & NA      \\\\\n",
       "\t 4 & Helen  & Illinois\\\\\n",
       "\t 5 & Clara  & NA      \\\\\n",
       "\t 6 & Joseph & Boston  \\\\\n",
       "\t 7 & NA     & Austin  \\\\\n",
       "\t 8 & NA     & Seattle \\\\\n",
       "\\end{tabular}\n"
      ],
      "text/markdown": [
       "\n",
       "A data.frame: 8 × 3\n",
       "\n",
       "| StudentID &lt;dbl&gt; | Name &lt;chr&gt; | City &lt;chr&gt; |\n",
       "|---|---|---|\n",
       "| 1 | John   | NA       |\n",
       "| 2 | Robert | NewYork  |\n",
       "| 3 | Paul   | NA       |\n",
       "| 4 | Helen  | Illinois |\n",
       "| 5 | Clara  | NA       |\n",
       "| 6 | Joseph | Boston   |\n",
       "| 7 | NA     | Austin   |\n",
       "| 8 | NA     | Seattle  |\n",
       "\n"
      ],
      "text/plain": [
       "  StudentID Name   City    \n",
       "1 1         John   NA      \n",
       "2 2         Robert NewYork \n",
       "3 3         Paul   NA      \n",
       "4 4         Helen  Illinois\n",
       "5 5         Clara  NA      \n",
       "6 6         Joseph Boston  \n",
       "7 7         NA     Austin  \n",
       "8 8         NA     Seattle "
      ]
     },
     "metadata": {},
     "output_type": "display_data"
    }
   ],
   "source": [
    "a %>% full_join(b,by = 'StudentID')"
   ]
  },
  {
   "cell_type": "code",
   "execution_count": 106,
   "id": "recorded-cornell",
   "metadata": {},
   "outputs": [
    {
     "data": {
      "text/html": [
       "<table class=\"dataframe\">\n",
       "<caption>A data.frame: 3 × 2</caption>\n",
       "<thead>\n",
       "\t<tr><th scope=col>StudentID</th><th scope=col>Name</th></tr>\n",
       "\t<tr><th scope=col>&lt;int&gt;</th><th scope=col>&lt;chr&gt;</th></tr>\n",
       "</thead>\n",
       "<tbody>\n",
       "\t<tr><td>1</td><td>John </td></tr>\n",
       "\t<tr><td>3</td><td>Paul </td></tr>\n",
       "\t<tr><td>5</td><td>Clara</td></tr>\n",
       "</tbody>\n",
       "</table>\n"
      ],
      "text/latex": [
       "A data.frame: 3 × 2\n",
       "\\begin{tabular}{ll}\n",
       " StudentID & Name\\\\\n",
       " <int> & <chr>\\\\\n",
       "\\hline\n",
       "\t 1 & John \\\\\n",
       "\t 3 & Paul \\\\\n",
       "\t 5 & Clara\\\\\n",
       "\\end{tabular}\n"
      ],
      "text/markdown": [
       "\n",
       "A data.frame: 3 × 2\n",
       "\n",
       "| StudentID &lt;int&gt; | Name &lt;chr&gt; |\n",
       "|---|---|\n",
       "| 1 | John  |\n",
       "| 3 | Paul  |\n",
       "| 5 | Clara |\n",
       "\n"
      ],
      "text/plain": [
       "  StudentID Name \n",
       "1 1         John \n",
       "2 3         Paul \n",
       "3 5         Clara"
      ]
     },
     "metadata": {},
     "output_type": "display_data"
    }
   ],
   "source": [
    "a %>% anti_join(b,by = 'StudentID')"
   ]
  },
  {
   "cell_type": "code",
   "execution_count": 107,
   "id": "distributed-formation",
   "metadata": {},
   "outputs": [
    {
     "data": {
      "text/html": [
       "<table class=\"dataframe\">\n",
       "<caption>A data.frame: 6 × 3</caption>\n",
       "<thead>\n",
       "\t<tr><th scope=col>StudentID</th><th scope=col>Name</th><th scope=col>City</th></tr>\n",
       "\t<tr><th scope=col>&lt;dbl&gt;</th><th scope=col>&lt;chr&gt;</th><th scope=col>&lt;chr&gt;</th></tr>\n",
       "</thead>\n",
       "<tbody>\n",
       "\t<tr><td>1</td><td>John  </td><td>NA      </td></tr>\n",
       "\t<tr><td>2</td><td>Robert</td><td>NewYork </td></tr>\n",
       "\t<tr><td>3</td><td>Paul  </td><td>NA      </td></tr>\n",
       "\t<tr><td>4</td><td>Helen </td><td>Illinois</td></tr>\n",
       "\t<tr><td>5</td><td>Clara </td><td>NA      </td></tr>\n",
       "\t<tr><td>6</td><td>Joseph</td><td>Boston  </td></tr>\n",
       "</tbody>\n",
       "</table>\n"
      ],
      "text/latex": [
       "A data.frame: 6 × 3\n",
       "\\begin{tabular}{lll}\n",
       " StudentID & Name & City\\\\\n",
       " <dbl> & <chr> & <chr>\\\\\n",
       "\\hline\n",
       "\t 1 & John   & NA      \\\\\n",
       "\t 2 & Robert & NewYork \\\\\n",
       "\t 3 & Paul   & NA      \\\\\n",
       "\t 4 & Helen  & Illinois\\\\\n",
       "\t 5 & Clara  & NA      \\\\\n",
       "\t 6 & Joseph & Boston  \\\\\n",
       "\\end{tabular}\n"
      ],
      "text/markdown": [
       "\n",
       "A data.frame: 6 × 3\n",
       "\n",
       "| StudentID &lt;dbl&gt; | Name &lt;chr&gt; | City &lt;chr&gt; |\n",
       "|---|---|---|\n",
       "| 1 | John   | NA       |\n",
       "| 2 | Robert | NewYork  |\n",
       "| 3 | Paul   | NA       |\n",
       "| 4 | Helen  | Illinois |\n",
       "| 5 | Clara  | NA       |\n",
       "| 6 | Joseph | Boston   |\n",
       "\n"
      ],
      "text/plain": [
       "  StudentID Name   City    \n",
       "1 1         John   NA      \n",
       "2 2         Robert NewYork \n",
       "3 3         Paul   NA      \n",
       "4 4         Helen  Illinois\n",
       "5 5         Clara  NA      \n",
       "6 6         Joseph Boston  "
      ]
     },
     "metadata": {},
     "output_type": "display_data"
    }
   ],
   "source": [
    "a %>% left_join(b,by = 'StudentID')"
   ]
  },
  {
   "cell_type": "code",
   "execution_count": 108,
   "id": "virtual-capitol",
   "metadata": {},
   "outputs": [
    {
     "data": {
      "text/html": [
       "<table class=\"dataframe\">\n",
       "<caption>A data.frame: 5 × 3</caption>\n",
       "<thead>\n",
       "\t<tr><th scope=col>StudentID</th><th scope=col>Name</th><th scope=col>City</th></tr>\n",
       "\t<tr><th scope=col>&lt;dbl&gt;</th><th scope=col>&lt;chr&gt;</th><th scope=col>&lt;chr&gt;</th></tr>\n",
       "</thead>\n",
       "<tbody>\n",
       "\t<tr><td>2</td><td>Robert</td><td>NewYork </td></tr>\n",
       "\t<tr><td>4</td><td>Helen </td><td>Illinois</td></tr>\n",
       "\t<tr><td>6</td><td>Joseph</td><td>Boston  </td></tr>\n",
       "\t<tr><td>7</td><td>NA    </td><td>Austin  </td></tr>\n",
       "\t<tr><td>8</td><td>NA    </td><td>Seattle </td></tr>\n",
       "</tbody>\n",
       "</table>\n"
      ],
      "text/latex": [
       "A data.frame: 5 × 3\n",
       "\\begin{tabular}{lll}\n",
       " StudentID & Name & City\\\\\n",
       " <dbl> & <chr> & <chr>\\\\\n",
       "\\hline\n",
       "\t 2 & Robert & NewYork \\\\\n",
       "\t 4 & Helen  & Illinois\\\\\n",
       "\t 6 & Joseph & Boston  \\\\\n",
       "\t 7 & NA     & Austin  \\\\\n",
       "\t 8 & NA     & Seattle \\\\\n",
       "\\end{tabular}\n"
      ],
      "text/markdown": [
       "\n",
       "A data.frame: 5 × 3\n",
       "\n",
       "| StudentID &lt;dbl&gt; | Name &lt;chr&gt; | City &lt;chr&gt; |\n",
       "|---|---|---|\n",
       "| 2 | Robert | NewYork  |\n",
       "| 4 | Helen  | Illinois |\n",
       "| 6 | Joseph | Boston   |\n",
       "| 7 | NA     | Austin   |\n",
       "| 8 | NA     | Seattle  |\n",
       "\n"
      ],
      "text/plain": [
       "  StudentID Name   City    \n",
       "1 2         Robert NewYork \n",
       "2 4         Helen  Illinois\n",
       "3 6         Joseph Boston  \n",
       "4 7         NA     Austin  \n",
       "5 8         NA     Seattle "
      ]
     },
     "metadata": {},
     "output_type": "display_data"
    }
   ],
   "source": [
    "a %>% right_join(b,by = 'StudentID')"
   ]
  },
  {
   "cell_type": "code",
   "execution_count": 110,
   "id": "effective-genealogy",
   "metadata": {},
   "outputs": [
    {
     "data": {
      "text/html": [
       "<table class=\"dataframe\">\n",
       "<caption>A data.frame: 2 × 2</caption>\n",
       "<thead>\n",
       "\t<tr><th scope=col>StudentID</th><th scope=col>City</th></tr>\n",
       "\t<tr><th scope=col>&lt;dbl&gt;</th><th scope=col>&lt;chr&gt;</th></tr>\n",
       "</thead>\n",
       "<tbody>\n",
       "\t<tr><td>7</td><td>Austin </td></tr>\n",
       "\t<tr><td>8</td><td>Seattle</td></tr>\n",
       "</tbody>\n",
       "</table>\n"
      ],
      "text/latex": [
       "A data.frame: 2 × 2\n",
       "\\begin{tabular}{ll}\n",
       " StudentID & City\\\\\n",
       " <dbl> & <chr>\\\\\n",
       "\\hline\n",
       "\t 7 & Austin \\\\\n",
       "\t 8 & Seattle\\\\\n",
       "\\end{tabular}\n"
      ],
      "text/markdown": [
       "\n",
       "A data.frame: 2 × 2\n",
       "\n",
       "| StudentID &lt;dbl&gt; | City &lt;chr&gt; |\n",
       "|---|---|\n",
       "| 7 | Austin  |\n",
       "| 8 | Seattle |\n",
       "\n"
      ],
      "text/plain": [
       "  StudentID City   \n",
       "1 7         Austin \n",
       "2 8         Seattle"
      ]
     },
     "metadata": {},
     "output_type": "display_data"
    }
   ],
   "source": [
    "# right anti join\n",
    "b %>% anti_join(a,by = 'StudentID')"
   ]
  },
  {
   "cell_type": "code",
   "execution_count": 111,
   "id": "bizarre-receiver",
   "metadata": {},
   "outputs": [
    {
     "data": {
      "text/html": [
       "<table class=\"dataframe\">\n",
       "<caption>A data.frame: 3 × 2</caption>\n",
       "<thead>\n",
       "\t<tr><th scope=col>StudentID</th><th scope=col>Name</th></tr>\n",
       "\t<tr><th scope=col>&lt;int&gt;</th><th scope=col>&lt;chr&gt;</th></tr>\n",
       "</thead>\n",
       "<tbody>\n",
       "\t<tr><td>2</td><td>Robert</td></tr>\n",
       "\t<tr><td>4</td><td>Helen </td></tr>\n",
       "\t<tr><td>6</td><td>Joseph</td></tr>\n",
       "</tbody>\n",
       "</table>\n"
      ],
      "text/latex": [
       "A data.frame: 3 × 2\n",
       "\\begin{tabular}{ll}\n",
       " StudentID & Name\\\\\n",
       " <int> & <chr>\\\\\n",
       "\\hline\n",
       "\t 2 & Robert\\\\\n",
       "\t 4 & Helen \\\\\n",
       "\t 6 & Joseph\\\\\n",
       "\\end{tabular}\n"
      ],
      "text/markdown": [
       "\n",
       "A data.frame: 3 × 2\n",
       "\n",
       "| StudentID &lt;int&gt; | Name &lt;chr&gt; |\n",
       "|---|---|\n",
       "| 2 | Robert |\n",
       "| 4 | Helen  |\n",
       "| 6 | Joseph |\n",
       "\n"
      ],
      "text/plain": [
       "  StudentID Name  \n",
       "1 2         Robert\n",
       "2 4         Helen \n",
       "3 6         Joseph"
      ]
     },
     "metadata": {},
     "output_type": "display_data"
    }
   ],
   "source": [
    "a %>% semi_join(b,by = 'StudentID')"
   ]
  },
  {
   "cell_type": "markdown",
   "id": "convenient-alabama",
   "metadata": {},
   "source": [
    "# Plots and Histogram"
   ]
  },
  {
   "cell_type": "code",
   "execution_count": 113,
   "id": "african-lobby",
   "metadata": {},
   "outputs": [
    {
     "data": {
      "text/html": [
       "<table class=\"dataframe\">\n",
       "<caption>A data.frame: 6 × 7</caption>\n",
       "<thead>\n",
       "\t<tr><th></th><th scope=col>Year</th><th scope=col>Males</th><th scope=col>Females</th><th scope=col>Plague</th><th scope=col>Mortality</th><th scope=col>Ratio</th><th scope=col>Total</th></tr>\n",
       "\t<tr><th></th><th scope=col>&lt;int&gt;</th><th scope=col>&lt;int&gt;</th><th scope=col>&lt;int&gt;</th><th scope=col>&lt;int&gt;</th><th scope=col>&lt;int&gt;</th><th scope=col>&lt;dbl&gt;</th><th scope=col>&lt;dbl&gt;</th></tr>\n",
       "</thead>\n",
       "<tbody>\n",
       "\t<tr><th scope=row>1</th><td>1629</td><td>5218</td><td>4683</td><td>   0</td><td> 8771</td><td>1.114243</td><td>9.901</td></tr>\n",
       "\t<tr><th scope=row>2</th><td>1630</td><td>4858</td><td>4457</td><td>1317</td><td>10554</td><td>1.089971</td><td>9.315</td></tr>\n",
       "\t<tr><th scope=row>3</th><td>1631</td><td>4422</td><td>4102</td><td> 274</td><td> 8562</td><td>1.078011</td><td>8.524</td></tr>\n",
       "\t<tr><th scope=row>4</th><td>1632</td><td>4994</td><td>4590</td><td>   8</td><td> 9535</td><td>1.088017</td><td>9.584</td></tr>\n",
       "\t<tr><th scope=row>5</th><td>1633</td><td>5158</td><td>4839</td><td>   0</td><td> 8393</td><td>1.065923</td><td>9.997</td></tr>\n",
       "\t<tr><th scope=row>6</th><td>1634</td><td>5035</td><td>4820</td><td>   1</td><td>10400</td><td>1.044606</td><td>9.855</td></tr>\n",
       "</tbody>\n",
       "</table>\n"
      ],
      "text/latex": [
       "A data.frame: 6 × 7\n",
       "\\begin{tabular}{r|lllllll}\n",
       "  & Year & Males & Females & Plague & Mortality & Ratio & Total\\\\\n",
       "  & <int> & <int> & <int> & <int> & <int> & <dbl> & <dbl>\\\\\n",
       "\\hline\n",
       "\t1 & 1629 & 5218 & 4683 &    0 &  8771 & 1.114243 & 9.901\\\\\n",
       "\t2 & 1630 & 4858 & 4457 & 1317 & 10554 & 1.089971 & 9.315\\\\\n",
       "\t3 & 1631 & 4422 & 4102 &  274 &  8562 & 1.078011 & 8.524\\\\\n",
       "\t4 & 1632 & 4994 & 4590 &    8 &  9535 & 1.088017 & 9.584\\\\\n",
       "\t5 & 1633 & 5158 & 4839 &    0 &  8393 & 1.065923 & 9.997\\\\\n",
       "\t6 & 1634 & 5035 & 4820 &    1 & 10400 & 1.044606 & 9.855\\\\\n",
       "\\end{tabular}\n"
      ],
      "text/markdown": [
       "\n",
       "A data.frame: 6 × 7\n",
       "\n",
       "| <!--/--> | Year &lt;int&gt; | Males &lt;int&gt; | Females &lt;int&gt; | Plague &lt;int&gt; | Mortality &lt;int&gt; | Ratio &lt;dbl&gt; | Total &lt;dbl&gt; |\n",
       "|---|---|---|---|---|---|---|---|\n",
       "| 1 | 1629 | 5218 | 4683 |    0 |  8771 | 1.114243 | 9.901 |\n",
       "| 2 | 1630 | 4858 | 4457 | 1317 | 10554 | 1.089971 | 9.315 |\n",
       "| 3 | 1631 | 4422 | 4102 |  274 |  8562 | 1.078011 | 8.524 |\n",
       "| 4 | 1632 | 4994 | 4590 |    8 |  9535 | 1.088017 | 9.584 |\n",
       "| 5 | 1633 | 5158 | 4839 |    0 |  8393 | 1.065923 | 9.997 |\n",
       "| 6 | 1634 | 5035 | 4820 |    1 | 10400 | 1.044606 | 9.855 |\n",
       "\n"
      ],
      "text/plain": [
       "  Year Males Females Plague Mortality Ratio    Total\n",
       "1 1629 5218  4683       0    8771     1.114243 9.901\n",
       "2 1630 4858  4457    1317   10554     1.089971 9.315\n",
       "3 1631 4422  4102     274    8562     1.078011 8.524\n",
       "4 1632 4994  4590       8    9535     1.088017 9.584\n",
       "5 1633 5158  4839       0    8393     1.065923 9.997\n",
       "6 1634 5035  4820       1   10400     1.044606 9.855"
      ]
     },
     "metadata": {},
     "output_type": "display_data"
    }
   ],
   "source": [
    "head(Arbuthnot)"
   ]
  },
  {
   "cell_type": "code",
   "execution_count": 115,
   "id": "athletic-sessions",
   "metadata": {},
   "outputs": [
    {
     "data": {
      "image/png": "[encoded data removed]",
      "text/plain": [
       "plot without title"
      ]
     },
     "metadata": {
      "image/png": {
       "height": 420,
       "width": 420
      }
     },
     "output_type": "display_data"
    }
   ],
   "source": [
    "plot(Arbuthnot$Males, type = 'l', col = 'Blue',xlab = 'frequency',ylab = '# of males')"
   ]
  },
  {
   "cell_type": "code",
   "execution_count": 118,
   "id": "illegal-edmonton",
   "metadata": {},
   "outputs": [
    {
     "data": {
      "image/png": "[encoded data removed]",
      "text/plain": [
       "plot without title"
      ]
     },
     "metadata": {
      "image/png": {
       "height": 420,
       "width": 420
      }
     },
     "output_type": "display_data"
    }
   ],
   "source": [
    "plot(Arbuthnot$Males, type = 'p',pch = 1, col = 'Blue',xlab = 'frequency',ylab = '# of males')"
   ]
  },
  {
   "cell_type": "code",
   "execution_count": 127,
   "id": "academic-football",
   "metadata": {},
   "outputs": [
    {
     "data": {
      "image/png": "[encoded data removed]",
      "text/plain": [
       "plot without title"
      ]
     },
     "metadata": {
      "image/png": {
       "height": 420,
       "width": 420
      }
     },
     "output_type": "display_data"
    }
   ],
   "source": [
    "plot(Arbuthnot$Males ~ Arbuthnot$Females, type = 'p',pch = 25,col = 'black')"
   ]
  },
  {
   "cell_type": "markdown",
   "id": "dedicated-stockholm",
   "metadata": {},
   "source": [
    "### Box plot"
   ]
  },
  {
   "cell_type": "code",
   "execution_count": 128,
   "id": "decreased-antibody",
   "metadata": {},
   "outputs": [
    {
     "data": {
      "image/png": "[encoded data removed]",
      "text/plain": [
       "plot without title"
      ]
     },
     "metadata": {
      "image/png": {
       "height": 420,
       "width": 420
      }
     },
     "output_type": "display_data"
    }
   ],
   "source": [
    "boxplot(Arbuthnot$Males)"
   ]
  },
  {
   "cell_type": "markdown",
   "id": "million-effectiveness",
   "metadata": {},
   "source": [
    "### Histogram"
   ]
  },
  {
   "cell_type": "code",
   "execution_count": 136,
   "id": "peaceful-lotus",
   "metadata": {},
   "outputs": [
    {
     "data": {
      "image/png": "[encoded data removed]",
      "text/plain": [
       "Plot with title “Histogram of Arbuthnot$Males”"
      ]
     },
     "metadata": {
      "image/png": {
       "height": 420,
       "width": 420
      }
     },
     "output_type": "display_data"
    }
   ],
   "source": [
    "hist(Arbuthnot$Males)"
   ]
  },
  {
   "cell_type": "code",
   "execution_count": 134,
   "id": "internal-premises",
   "metadata": {},
   "outputs": [
    {
     "data": {
      "image/png": "[encoded data removed]",
      "text/plain": [
       "Plot with title “Histogram of Arbuthnot$Males”"
      ]
     },
     "metadata": {
      "image/png": {
       "height": 420,
       "width": 420
      }
     },
     "output_type": "display_data"
    }
   ],
   "source": [
    "colo = colorRampPalette(c('Red','Green','Blue','Yellow'))\n",
    "hist(Arbuthnot$Males,col = colo(5))"
   ]
  },
  {
   "cell_type": "code",
   "execution_count": 146,
   "id": "musical-alignment",
   "metadata": {},
   "outputs": [
    {
     "data": {
      "image/png": "[encoded data removed]",
      "text/plain": [
       "Plot with title “Males~Females”"
      ]
     },
     "metadata": {
      "image/png": {
       "height": 420,
       "width": 420
      }
     },
     "output_type": "display_data"
    }
   ],
   "source": [
    "hist(Arbuthnot$Males-Arbuthnot$Females,breaks = 5,ylab = 'Females',xlab = 'Males',main = 'Males~Females')"
   ]
  },
  {
   "cell_type": "markdown",
   "id": "abandoned-plasma",
   "metadata": {},
   "source": [
    "# Pie chart"
   ]
  },
  {
   "cell_type": "code",
   "execution_count": 147,
   "id": "foreign-aquatic",
   "metadata": {},
   "outputs": [
    {
     "data": {
      "text/html": [
       "<table class=\"dataframe\">\n",
       "<caption>A data.frame: 6 × 15</caption>\n",
       "<thead>\n",
       "\t<tr><th></th><th scope=col>district</th><th scope=col>cholera_drate</th><th scope=col>cholera_deaths</th><th scope=col>popn</th><th scope=col>elevation</th><th scope=col>region</th><th scope=col>water</th><th scope=col>annual_deaths</th><th scope=col>pop_dens</th><th scope=col>persons_house</th><th scope=col>house_valpp</th><th scope=col>poor_rate</th><th scope=col>area</th><th scope=col>houses</th><th scope=col>house_val</th></tr>\n",
       "\t<tr><th></th><th scope=col>&lt;chr&gt;</th><th scope=col>&lt;int&gt;</th><th scope=col>&lt;int&gt;</th><th scope=col>&lt;int&gt;</th><th scope=col>&lt;int&gt;</th><th scope=col>&lt;fct&gt;</th><th scope=col>&lt;fct&gt;</th><th scope=col>&lt;int&gt;</th><th scope=col>&lt;int&gt;</th><th scope=col>&lt;dbl&gt;</th><th scope=col>&lt;dbl&gt;</th><th scope=col>&lt;dbl&gt;</th><th scope=col>&lt;int&gt;</th><th scope=col>&lt;int&gt;</th><th scope=col>&lt;int&gt;</th></tr>\n",
       "</thead>\n",
       "<tbody>\n",
       "\t<tr><th scope=row>1</th><td>Newington          </td><td>144</td><td>907</td><td>63074</td><td>-2</td><td>Kent</td><td>Battersea</td><td>232</td><td>101</td><td>5.8</td><td>3.788</td><td>0.075</td><td>624</td><td>9370</td><td>207460</td></tr>\n",
       "\t<tr><th scope=row>2</th><td>Rotherhithe        </td><td>205</td><td>352</td><td>17208</td><td> 0</td><td>Kent</td><td>Battersea</td><td>277</td><td> 19</td><td>5.8</td><td>4.238</td><td>0.143</td><td>886</td><td>2420</td><td> 59072</td></tr>\n",
       "\t<tr><th scope=row>3</th><td>Bermondsey         </td><td>164</td><td>836</td><td>50900</td><td> 0</td><td>Kent</td><td>Battersea</td><td>267</td><td>180</td><td>7.0</td><td>3.318</td><td>0.089</td><td>282</td><td>6663</td><td>155175</td></tr>\n",
       "\t<tr><th scope=row>4</th><td>St George Southwark</td><td>161</td><td>734</td><td>45500</td><td> 0</td><td>Kent</td><td>Battersea</td><td>264</td><td> 66</td><td>6.2</td><td>3.077</td><td>0.134</td><td>688</td><td>5674</td><td>107821</td></tr>\n",
       "\t<tr><th scope=row>5</th><td>St Olave           </td><td>181</td><td>349</td><td>19278</td><td> 2</td><td>Kent</td><td>Battersea</td><td>281</td><td>114</td><td>7.9</td><td>4.559</td><td>0.079</td><td>169</td><td>2523</td><td> 90583</td></tr>\n",
       "\t<tr><th scope=row>6</th><td>St Saviour         </td><td>153</td><td>539</td><td>35227</td><td> 2</td><td>Kent</td><td>Battersea</td><td>292</td><td>141</td><td>7.1</td><td>5.291</td><td>0.076</td><td>250</td><td>4659</td><td>174732</td></tr>\n",
       "</tbody>\n",
       "</table>\n"
      ],
      "text/latex": [
       "A data.frame: 6 × 15\n",
       "\\begin{tabular}{r|lllllllllllllll}\n",
       "  & district & cholera\\_drate & cholera\\_deaths & popn & elevation & region & water & annual\\_deaths & pop\\_dens & persons\\_house & house\\_valpp & poor\\_rate & area & houses & house\\_val\\\\\n",
       "  & <chr> & <int> & <int> & <int> & <int> & <fct> & <fct> & <int> & <int> & <dbl> & <dbl> & <dbl> & <int> & <int> & <int>\\\\\n",
       "\\hline\n",
       "\t1 & Newington           & 144 & 907 & 63074 & -2 & Kent & Battersea & 232 & 101 & 5.8 & 3.788 & 0.075 & 624 & 9370 & 207460\\\\\n",
       "\t2 & Rotherhithe         & 205 & 352 & 17208 &  0 & Kent & Battersea & 277 &  19 & 5.8 & 4.238 & 0.143 & 886 & 2420 &  59072\\\\\n",
       "\t3 & Bermondsey          & 164 & 836 & 50900 &  0 & Kent & Battersea & 267 & 180 & 7.0 & 3.318 & 0.089 & 282 & 6663 & 155175\\\\\n",
       "\t4 & St George Southwark & 161 & 734 & 45500 &  0 & Kent & Battersea & 264 &  66 & 6.2 & 3.077 & 0.134 & 688 & 5674 & 107821\\\\\n",
       "\t5 & St Olave            & 181 & 349 & 19278 &  2 & Kent & Battersea & 281 & 114 & 7.9 & 4.559 & 0.079 & 169 & 2523 &  90583\\\\\n",
       "\t6 & St Saviour          & 153 & 539 & 35227 &  2 & Kent & Battersea & 292 & 141 & 7.1 & 5.291 & 0.076 & 250 & 4659 & 174732\\\\\n",
       "\\end{tabular}\n"
      ],
      "text/markdown": [
       "\n",
       "A data.frame: 6 × 15\n",
       "\n",
       "| <!--/--> | district &lt;chr&gt; | cholera_drate &lt;int&gt; | cholera_deaths &lt;int&gt; | popn &lt;int&gt; | elevation &lt;int&gt; | region &lt;fct&gt; | water &lt;fct&gt; | annual_deaths &lt;int&gt; | pop_dens &lt;int&gt; | persons_house &lt;dbl&gt; | house_valpp &lt;dbl&gt; | poor_rate &lt;dbl&gt; | area &lt;int&gt; | houses &lt;int&gt; | house_val &lt;int&gt; |\n",
       "|---|---|---|---|---|---|---|---|---|---|---|---|---|---|---|---|\n",
       "| 1 | Newington           | 144 | 907 | 63074 | -2 | Kent | Battersea | 232 | 101 | 5.8 | 3.788 | 0.075 | 624 | 9370 | 207460 |\n",
       "| 2 | Rotherhithe         | 205 | 352 | 17208 |  0 | Kent | Battersea | 277 |  19 | 5.8 | 4.238 | 0.143 | 886 | 2420 |  59072 |\n",
       "| 3 | Bermondsey          | 164 | 836 | 50900 |  0 | Kent | Battersea | 267 | 180 | 7.0 | 3.318 | 0.089 | 282 | 6663 | 155175 |\n",
       "| 4 | St George Southwark | 161 | 734 | 45500 |  0 | Kent | Battersea | 264 |  66 | 6.2 | 3.077 | 0.134 | 688 | 5674 | 107821 |\n",
       "| 5 | St Olave            | 181 | 349 | 19278 |  2 | Kent | Battersea | 281 | 114 | 7.9 | 4.559 | 0.079 | 169 | 2523 |  90583 |\n",
       "| 6 | St Saviour          | 153 | 539 | 35227 |  2 | Kent | Battersea | 292 | 141 | 7.1 | 5.291 | 0.076 | 250 | 4659 | 174732 |\n",
       "\n"
      ],
      "text/plain": [
       "  district            cholera_drate cholera_deaths popn  elevation region\n",
       "1 Newington           144           907            63074 -2        Kent  \n",
       "2 Rotherhithe         205           352            17208  0        Kent  \n",
       "3 Bermondsey          164           836            50900  0        Kent  \n",
       "4 St George Southwark 161           734            45500  0        Kent  \n",
       "5 St Olave            181           349            19278  2        Kent  \n",
       "6 St Saviour          153           539            35227  2        Kent  \n",
       "  water     annual_deaths pop_dens persons_house house_valpp poor_rate area\n",
       "1 Battersea 232           101      5.8           3.788       0.075     624 \n",
       "2 Battersea 277            19      5.8           4.238       0.143     886 \n",
       "3 Battersea 267           180      7.0           3.318       0.089     282 \n",
       "4 Battersea 264            66      6.2           3.077       0.134     688 \n",
       "5 Battersea 281           114      7.9           4.559       0.079     169 \n",
       "6 Battersea 292           141      7.1           5.291       0.076     250 \n",
       "  houses house_val\n",
       "1 9370   207460   \n",
       "2 2420    59072   \n",
       "3 6663   155175   \n",
       "4 5674   107821   \n",
       "5 2523    90583   \n",
       "6 4659   174732   "
      ]
     },
     "metadata": {},
     "output_type": "display_data"
    }
   ],
   "source": [
    "head(Cholera)"
   ]
  },
  {
   "cell_type": "code",
   "execution_count": 148,
   "id": "soviet-hormone",
   "metadata": {},
   "outputs": [
    {
     "data": {
      "text/html": [
       "<style>\n",
       ".list-inline {list-style: none; margin:0; padding: 0}\n",
       ".list-inline>li {display: inline-block}\n",
       ".list-inline>li:not(:last-child)::after {content: \"\\00b7\"; padding: 0 .5ex}\n",
       "</style>\n",
       "<ol class=list-inline><li>Kent</li><li>West</li><li>South</li><li>Central</li><li>North</li></ol>\n",
       "\n",
       "<details>\n",
       "\t<summary style=display:list-item;cursor:pointer>\n",
       "\t\t<strong>Levels</strong>:\n",
       "\t</summary>\n",
       "\t<style>\n",
       "\t.list-inline {list-style: none; margin:0; padding: 0}\n",
       "\t.list-inline>li {display: inline-block}\n",
       "\t.list-inline>li:not(:last-child)::after {content: \"\\00b7\"; padding: 0 .5ex}\n",
       "\t</style>\n",
       "\t<ol class=list-inline><li>'West'</li><li>'North'</li><li>'Central'</li><li>'South'</li><li>'Kent'</li></ol>\n",
       "</details>"
      ],
      "text/latex": [
       "\\begin{enumerate*}\n",
       "\\item Kent\n",
       "\\item West\n",
       "\\item South\n",
       "\\item Central\n",
       "\\item North\n",
       "\\end{enumerate*}\n",
       "\n",
       "\\emph{Levels}: \\begin{enumerate*}\n",
       "\\item 'West'\n",
       "\\item 'North'\n",
       "\\item 'Central'\n",
       "\\item 'South'\n",
       "\\item 'Kent'\n",
       "\\end{enumerate*}\n"
      ],
      "text/markdown": [
       "1. Kent\n",
       "2. West\n",
       "3. South\n",
       "4. Central\n",
       "5. North\n",
       "\n",
       "\n",
       "\n",
       "**Levels**: 1. 'West'\n",
       "2. 'North'\n",
       "3. 'Central'\n",
       "4. 'South'\n",
       "5. 'Kent'\n",
       "\n",
       "\n"
      ],
      "text/plain": [
       "[1] Kent    West    South   Central North  \n",
       "Levels: West North Central South Kent"
      ]
     },
     "metadata": {},
     "output_type": "display_data"
    }
   ],
   "source": [
    "unique(Cholera$region)"
   ]
  },
  {
   "cell_type": "code",
   "execution_count": 149,
   "id": "gentle-encyclopedia",
   "metadata": {},
   "outputs": [
    {
     "data": {
      "text/plain": [
       "\n",
       "   West   North Central   South    Kent \n",
       "      8       5       8       6      11 "
      ]
     },
     "metadata": {},
     "output_type": "display_data"
    }
   ],
   "source": [
    "table(Cholera$region)"
   ]
  },
  {
   "cell_type": "code",
   "execution_count": 150,
   "id": "polished-province",
   "metadata": {},
   "outputs": [
    {
     "data": {
      "image/png": "[encoded data removed]",
      "text/plain": [
       "plot without title"
      ]
     },
     "metadata": {
      "image/png": {
       "height": 420,
       "width": 420
      }
     },
     "output_type": "display_data"
    }
   ],
   "source": [
    "pie(table(Cholera$region))"
   ]
  },
  {
   "cell_type": "code",
   "execution_count": 151,
   "id": "minimal-accounting",
   "metadata": {},
   "outputs": [
    {
     "data": {
      "image/png": "[encoded data removed]",
      "text/plain": [
       "plot without title"
      ]
     },
     "metadata": {
      "image/png": {
       "height": 420,
       "width": 420
      }
     },
     "output_type": "display_data"
    }
   ],
   "source": [
    "pie(table(Cholera$region),col = c('Red','Blue','Green','Yellow','Purple'))"
   ]
  },
  {
   "cell_type": "code",
   "execution_count": 153,
   "id": "curious-rwanda",
   "metadata": {},
   "outputs": [
    {
     "data": {
      "text/html": [
       "<table class=\"dataframe\">\n",
       "<caption>A data.frame: 6 × 6</caption>\n",
       "<thead>\n",
       "\t<tr><th></th><th scope=col>class</th><th scope=col>trade</th><th scope=col>sober</th><th scope=col>drinks</th><th scope=col>wage</th><th scope=col>n</th></tr>\n",
       "\t<tr><th></th><th scope=col>&lt;fct&gt;</th><th scope=col>&lt;fct&gt;</th><th scope=col>&lt;int&gt;</th><th scope=col>&lt;int&gt;</th><th scope=col>&lt;dbl&gt;</th><th scope=col>&lt;int&gt;</th></tr>\n",
       "</thead>\n",
       "<tbody>\n",
       "\t<tr><th scope=row>1</th><td>A</td><td>papercutter</td><td>1</td><td> 1</td><td>24.00000</td><td> 2</td></tr>\n",
       "\t<tr><th scope=row>2</th><td>A</td><td>cabmen     </td><td>1</td><td>10</td><td>18.41667</td><td>11</td></tr>\n",
       "\t<tr><th scope=row>3</th><td>A</td><td>goldbeater </td><td>2</td><td> 1</td><td>21.50000</td><td> 3</td></tr>\n",
       "\t<tr><th scope=row>4</th><td>A</td><td>stablemen  </td><td>1</td><td> 5</td><td>21.16667</td><td> 6</td></tr>\n",
       "\t<tr><th scope=row>5</th><td>A</td><td>millworker </td><td>2</td><td> 0</td><td>19.00000</td><td> 2</td></tr>\n",
       "\t<tr><th scope=row>6</th><td>A</td><td>porter     </td><td>9</td><td> 8</td><td>20.50000</td><td>17</td></tr>\n",
       "</tbody>\n",
       "</table>\n"
      ],
      "text/latex": [
       "A data.frame: 6 × 6\n",
       "\\begin{tabular}{r|llllll}\n",
       "  & class & trade & sober & drinks & wage & n\\\\\n",
       "  & <fct> & <fct> & <int> & <int> & <dbl> & <int>\\\\\n",
       "\\hline\n",
       "\t1 & A & papercutter & 1 &  1 & 24.00000 &  2\\\\\n",
       "\t2 & A & cabmen      & 1 & 10 & 18.41667 & 11\\\\\n",
       "\t3 & A & goldbeater  & 2 &  1 & 21.50000 &  3\\\\\n",
       "\t4 & A & stablemen   & 1 &  5 & 21.16667 &  6\\\\\n",
       "\t5 & A & millworker  & 2 &  0 & 19.00000 &  2\\\\\n",
       "\t6 & A & porter      & 9 &  8 & 20.50000 & 17\\\\\n",
       "\\end{tabular}\n"
      ],
      "text/markdown": [
       "\n",
       "A data.frame: 6 × 6\n",
       "\n",
       "| <!--/--> | class &lt;fct&gt; | trade &lt;fct&gt; | sober &lt;int&gt; | drinks &lt;int&gt; | wage &lt;dbl&gt; | n &lt;int&gt; |\n",
       "|---|---|---|---|---|---|---|\n",
       "| 1 | A | papercutter | 1 |  1 | 24.00000 |  2 |\n",
       "| 2 | A | cabmen      | 1 | 10 | 18.41667 | 11 |\n",
       "| 3 | A | goldbeater  | 2 |  1 | 21.50000 |  3 |\n",
       "| 4 | A | stablemen   | 1 |  5 | 21.16667 |  6 |\n",
       "| 5 | A | millworker  | 2 |  0 | 19.00000 |  2 |\n",
       "| 6 | A | porter      | 9 |  8 | 20.50000 | 17 |\n",
       "\n"
      ],
      "text/plain": [
       "  class trade       sober drinks wage     n \n",
       "1 A     papercutter 1      1     24.00000  2\n",
       "2 A     cabmen      1     10     18.41667 11\n",
       "3 A     goldbeater  2      1     21.50000  3\n",
       "4 A     stablemen   1      5     21.16667  6\n",
       "5 A     millworker  2      0     19.00000  2\n",
       "6 A     porter      9      8     20.50000 17"
      ]
     },
     "metadata": {},
     "output_type": "display_data"
    }
   ],
   "source": [
    "head(DrinksWages)"
   ]
  },
  {
   "cell_type": "code",
   "execution_count": 154,
   "id": "signal-creation",
   "metadata": {},
   "outputs": [
    {
     "data": {
      "text/plain": [
       "\n",
       " A  B  C \n",
       "25 22 23 "
      ]
     },
     "metadata": {},
     "output_type": "display_data"
    }
   ],
   "source": [
    "table(DrinksWages$class)"
   ]
  },
  {
   "cell_type": "code",
   "execution_count": 157,
   "id": "ecological-drove",
   "metadata": {},
   "outputs": [
    {
     "data": {
      "image/png": "[encoded data removed]",
      "text/plain": [
       "plot without title"
      ]
     },
     "metadata": {
      "image/png": {
       "height": 420,
       "width": 420
      }
     },
     "output_type": "display_data"
    }
   ],
   "source": [
    "pie(table(DrinksWages$class),labels = c('A','B','C'), col = colo(3))"
   ]
  },
  {
   "cell_type": "markdown",
   "id": "supported-costume",
   "metadata": {},
   "source": [
    "# GGplot2"
   ]
  },
  {
   "cell_type": "markdown",
   "id": "included-familiar",
   "metadata": {},
   "source": [
    "`ggplot(data,aes(x,y,col='')) + geom_point()`"
   ]
  },
  {
   "cell_type": "code",
   "execution_count": 158,
   "id": "running-third",
   "metadata": {},
   "outputs": [
    {
     "data": {
      "image/png": "[encoded data removed]",
      "text/plain": [
       "plot without title"
      ]
     },
     "metadata": {
      "image/png": {
       "height": 420,
       "width": 420
      }
     },
     "output_type": "display_data"
    }
   ],
   "source": [
    "ggplot(iris,aes(Petal.Length,Sepal.Length)) + geom_point()"
   ]
  },
  {
   "cell_type": "code",
   "execution_count": 161,
   "id": "copyrighted-algeria",
   "metadata": {},
   "outputs": [
    {
     "data": {
      "image/png": "[encoded data removed]",
      "text/plain": [
       "plot without title"
      ]
     },
     "metadata": {
      "image/png": {
       "height": 420,
       "width": 420
      }
     },
     "output_type": "display_data"
    }
   ],
   "source": [
    "ggplot(iris,aes(Petal.Length)) + geom_bar()"
   ]
  },
  {
   "cell_type": "code",
   "execution_count": 163,
   "id": "crucial-crown",
   "metadata": {},
   "outputs": [
    {
     "name": "stderr",
     "output_type": "stream",
     "text": [
      "`stat_bin()` using `bins = 30`. Pick better value with `binwidth`.\n",
      "\n"
     ]
    },
    {
     "data": {
      "image/png": "[encoded data removed]",
      "text/plain": [
       "plot without title"
      ]
     },
     "metadata": {
      "image/png": {
       "height": 420,
       "width": 420
      }
     },
     "output_type": "display_data"
    }
   ],
   "source": [
    "ggplot(iris,aes(x = Petal.Length)) + geom_histogram()"
   ]
  },
  {
   "cell_type": "code",
   "execution_count": 164,
   "id": "fleet-mortgage",
   "metadata": {},
   "outputs": [
    {
     "name": "stderr",
     "output_type": "stream",
     "text": [
      "`geom_smooth()` using method = 'loess' and formula 'y ~ x'\n",
      "\n"
     ]
    },
    {
     "data": {
      "image/png": "[encoded data removed]",
      "text/plain": [
       "plot without title"
      ]
     },
     "metadata": {
      "image/png": {
       "height": 420,
       "width": 420
      }
     },
     "output_type": "display_data"
    }
   ],
   "source": [
    "ggplot(iris,aes(x = Petal.Length, y = Sepal.Length)) + geom_smooth()"
   ]
  },
  {
   "cell_type": "code",
   "execution_count": 167,
   "id": "tropical-validity",
   "metadata": {},
   "outputs": [
    {
     "data": {
      "image/png": "[encoded data removed]",
      "text/plain": [
       "plot without title"
      ]
     },
     "metadata": {
      "image/png": {
       "height": 420,
       "width": 420
      }
     },
     "output_type": "display_data"
    }
   ],
   "source": [
    "ggplot(iris,aes(x = Petal.Length)) + geom_density()"
   ]
  },
  {
   "cell_type": "code",
   "execution_count": 166,
   "id": "friendly-signature",
   "metadata": {},
   "outputs": [
    {
     "data": {
      "image/png": "[encoded data removed]",
      "text/plain": [
       "plot without title"
      ]
     },
     "metadata": {
      "image/png": {
       "height": 420,
       "width": 420
      }
     },
     "output_type": "display_data"
    }
   ],
   "source": [
    "ggplot(iris,aes(x = Petal.Length)) + geom_density(fill = 'Red')"
   ]
  }
 ],
 "metadata": {
  "kernelspec": {
   "display_name": "R",
   "language": "R",
   "name": "ir"
  },
  "language_info": {
   "codemirror_mode": "r",
   "file_extension": ".r",
   "mimetype": "text/x-r-source",
   "name": "R",
   "pygments_lexer": "r",
   "version": "4.1.0"
  }
 },
 "nbformat": 4,
 "nbformat_minor": 5
}
